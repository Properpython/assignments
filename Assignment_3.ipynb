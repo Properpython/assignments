{
  "nbformat": 4,
  "nbformat_minor": 0,
  "metadata": {
    "colab": {
      "provenance": []
    },
    "kernelspec": {
      "name": "python3",
      "display_name": "Python 3"
    },
    "language_info": {
      "name": "python"
    }
  },
  "cells": [
    {
      "cell_type": "markdown",
      "source": [
        "##1. Why are functions advantageous to have in your programs?\n",
        "\n"
      ],
      "metadata": {
        "id": "4bp7NWNKgm21"
      }
    },
    {
      "cell_type": "markdown",
      "source": [
        "##Answer\n",
        "1. Once a function is written, it can be called multiple times from within the program. This avoids duplicated code and minimizes the probability of copy/paste errors. \n",
        "\n",
        "2. functions reduce code redundancy, there’s less code to test in the first place.\n",
        "\n",
        "3.  functions allow us to make the change in one place and have that change take effect every time the function is called."
      ],
      "metadata": {
        "id": "CnlU4Xuzgt6T"
      }
    },
    {
      "cell_type": "markdown",
      "source": [
        "##2. When does the code in a function run: when it&#39;s specified or when it&#39;s called?"
      ],
      "metadata": {
        "id": "nbE6ddc9gvLM"
      }
    },
    {
      "cell_type": "markdown",
      "source": [
        "##Answers\n",
        "A function is a block of code that only runs when it is called. Python functions return a value using a return statement, if one is specified. A function can be called anywhere after the function has been declared."
      ],
      "metadata": {
        "id": "uBAEc0Mehv53"
      }
    },
    {
      "cell_type": "markdown",
      "source": [
        "##3. What statement creates a function?"
      ],
      "metadata": {
        "id": "RGa1OjdPh7HB"
      }
    },
    {
      "cell_type": "markdown",
      "source": [
        "##Answer\n",
        "\n",
        "\n",
        "\n",
        "```\n",
        "# sample code for creating a function\n",
        "def ineuron():\n",
        "  print(\"Welcome to ineuron\")\n",
        "```\n",
        "\n"
      ],
      "metadata": {
        "id": "Bft9gVgih9Fq"
      }
    },
    {
      "cell_type": "markdown",
      "source": [
        "##4. What is the difference between a function and a function call?"
      ],
      "metadata": {
        "id": "obFYCVYniqwo"
      }
    },
    {
      "cell_type": "markdown",
      "source": [
        "##Answer\n",
        "A function is a piece of code which enhanced the reusability and modularity of your program. \n",
        "\n",
        "A function call means invoking or calling that function. Unless a function is called there is no use of that function.\n",
        "\n",
        "example:\n",
        "\n",
        "\n",
        "```\n",
        "def ineuron():\n",
        "  print(\"welcome to ineuron\")\n",
        "\n",
        "ineuron()    #calling a function\n",
        "```\n",
        "\n"
      ],
      "metadata": {
        "id": "T-NMeIgGitvI"
      }
    },
    {
      "cell_type": "markdown",
      "source": [
        "##5. How many global scopes are there in a Python program? How many local scopes?"
      ],
      "metadata": {
        "id": "mq_1r_GlkX-i"
      }
    },
    {
      "cell_type": "markdown",
      "source": [
        "##Answer\n",
        "\n",
        "\n",
        "```\n",
        "x = 300   #this is a global variable it can access from any scope\n",
        "\n",
        "def myfunc():\n",
        "  x = 200     #this is a local variable it can access only from local scope\n",
        "  print(x)\n",
        "\n",
        "myfunc()\n",
        "\n",
        "print(x)\n",
        "```\n",
        "\n"
      ],
      "metadata": {
        "id": "NXAvcZkGkquc"
      }
    },
    {
      "cell_type": "markdown",
      "source": [
        "##6. What happens to variables in a local scope when the function call returns?"
      ],
      "metadata": {
        "id": "pRPHZo5AmOlh"
      }
    },
    {
      "cell_type": "markdown",
      "source": [
        "##Answer\n",
        " the assignment statement creates variables in the local scope. So the assignment inside the function does not modify the global variable. it creates a new local variable and assigns the value  to that variable."
      ],
      "metadata": {
        "id": "SgmGGBZtmT64"
      }
    },
    {
      "cell_type": "markdown",
      "source": [
        "##7. What is the concept of a return value? Is it possible to have a return value in an expression?"
      ],
      "metadata": {
        "id": "wkr_3c8Hmrrf"
      }
    },
    {
      "cell_type": "markdown",
      "source": [
        "A python function can return a specified value anywhere within that function by using a return statement, which ends the function under execution and then returns a value to the caller. \n",
        "\n",
        "it is not possible, The return statement within a function does not print the value being returned to the caller."
      ],
      "metadata": {
        "id": "xVfLVcTUnMsb"
      }
    },
    {
      "cell_type": "markdown",
      "source": [
        "##8. If a function does not have a return statement, what is the return value of a call to that function?"
      ],
      "metadata": {
        "id": "99G_9rp8nk0N"
      }
    },
    {
      "cell_type": "markdown",
      "source": [
        "##Answer\n",
        "If a function doesn't specify a return value, it returns None. In a conditional statement, None evaluates to False. "
      ],
      "metadata": {
        "id": "bVd2Ld6vnnBV"
      }
    },
    {
      "cell_type": "markdown",
      "source": [
        "##9. How do you make a function variable refer to the global variable?"
      ],
      "metadata": {
        "id": "cmIJBbVnoHE5"
      }
    },
    {
      "cell_type": "markdown",
      "source": [
        "##Answer\n",
        "when you create a variable inside a function, that variable is local, and can only be used inside that function. To create a global variable inside a function, we can use the global keyword"
      ],
      "metadata": {
        "id": "3WS6tMoToJO_"
      }
    },
    {
      "cell_type": "markdown",
      "source": [
        "##10. What is the data type of None?"
      ],
      "metadata": {
        "id": "bqj0OOUbo1pS"
      }
    },
    {
      "cell_type": "markdown",
      "source": [
        "##Answer\n",
        "it is a data type of the class NoneType object. "
      ],
      "metadata": {
        "id": "h9wrtIJApIX0"
      }
    },
    {
      "cell_type": "markdown",
      "source": [
        "##11. What does the sentence import areallyourpetsnamederic do?"
      ],
      "metadata": {
        "id": "_4o2U9bmpPUo"
      }
    },
    {
      "cell_type": "markdown",
      "source": [
        "##Answer\n",
        "areallyourpetsnamederic is not a python module. Importing this module will throughs ModuleNotFoundError exception"
      ],
      "metadata": {
        "id": "jf1z_NVqpPNx"
      }
    },
    {
      "cell_type": "code",
      "source": [
        "import areallyourpetsnamederic as s"
      ],
      "metadata": {
        "colab": {
          "base_uri": "https://localhost:8080/",
          "height": 305
        },
        "id": "sEi1xm3OjiVr",
        "outputId": "7bec3dd8-d74e-44d2-b284-8bfd6bda9c70"
      },
      "execution_count": 2,
      "outputs": [
        {
          "output_type": "error",
          "ename": "ModuleNotFoundError",
          "evalue": "ignored",
          "traceback": [
            "\u001b[0;31m---------------------------------------------------------------------------\u001b[0m",
            "\u001b[0;31mModuleNotFoundError\u001b[0m                       Traceback (most recent call last)",
            "\u001b[0;32m<ipython-input-2-8822d8c2bbf1>\u001b[0m in \u001b[0;36m<module>\u001b[0;34m\u001b[0m\n\u001b[0;32m----> 1\u001b[0;31m \u001b[0;32mimport\u001b[0m \u001b[0mareallyourpetsnamederic\u001b[0m \u001b[0;32mas\u001b[0m \u001b[0ms\u001b[0m\u001b[0;34m\u001b[0m\u001b[0;34m\u001b[0m\u001b[0m\n\u001b[0m",
            "\u001b[0;31mModuleNotFoundError\u001b[0m: No module named 'areallyourpetsnamederic'",
            "",
            "\u001b[0;31m---------------------------------------------------------------------------\u001b[0;32m\nNOTE: If your import is failing due to a missing package, you can\nmanually install dependencies using either !pip or !apt.\n\nTo view examples of installing some common dependencies, click the\n\"Open Examples\" button below.\n\u001b[0;31m---------------------------------------------------------------------------\u001b[0m\n"
          ],
          "errorDetails": {
            "actions": [
              {
                "action": "open_url",
                "actionText": "Open Examples",
                "url": "/notebooks/snippets/importing_libraries.ipynb"
              }
            ]
          }
        }
      ]
    },
    {
      "cell_type": "markdown",
      "source": [
        "##12. If you had a bacon() feature in a spam module, what would you call it after importing spam?"
      ],
      "metadata": {
        "id": "MftLnCHsqjwK"
      }
    },
    {
      "cell_type": "markdown",
      "source": [
        "##Answer\n",
        "This function can be called with spam.bacon(). like below,\n",
        "\n",
        "\n",
        "```\n",
        "# import spam\n",
        "#spam.bacon()\n",
        "```\n",
        "\n"
      ],
      "metadata": {
        "id": "7ZiWaSdUqrQg"
      }
    },
    {
      "cell_type": "markdown",
      "source": [
        "##13. What can you do to save a programme from crashing if it encounters an error?"
      ],
      "metadata": {
        "id": "N33TtIRfrISW"
      }
    },
    {
      "cell_type": "markdown",
      "source": [
        "##Answer\n",
        "we can do exception handling to save a programme from crashing if it encounters an error\n",
        "\n",
        "example:\n",
        "\n",
        "\n",
        "```\n",
        "a=10\n",
        "b=0\n",
        "try:\n",
        "  print(a/b)\n",
        "except ZeroDivisionError as e:\n",
        "  print(\"please provide a different number\")\n",
        "```\n",
        "\n",
        "\n",
        "\n"
      ],
      "metadata": {
        "id": "_ZtPwJxTrPtr"
      }
    },
    {
      "cell_type": "markdown",
      "source": [
        "##14. What is the purpose of the try clause? What is the purpose of the except clause?"
      ],
      "metadata": {
        "id": "u7J-OHmmsSfy"
      }
    },
    {
      "cell_type": "markdown",
      "source": [
        "##Answer\n",
        " Try : The code that can cause an error goes in the try clause\n",
        " \n",
        " except : The purpose of execept block is to execute whenever the program encounters some error in the preceding try block.\n",
        " \n",
        " example:\n",
        "\n",
        "\n",
        "```\n",
        "a=10\n",
        "b=0\n",
        "try:\n",
        "  print(a/b)\n",
        "except ZeroDivisionError as e:\n",
        "  print(\"please provide a different number\")\n",
        "```\n",
        "\n"
      ],
      "metadata": {
        "id": "Pia3mSAOsUgL"
      }
    },
    {
      "cell_type": "code",
      "source": [],
      "metadata": {
        "id": "vggDPFior_Tg"
      },
      "execution_count": null,
      "outputs": []
    }
  ]
}