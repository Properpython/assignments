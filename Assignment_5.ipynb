{
  "nbformat": 4,
  "nbformat_minor": 0,
  "metadata": {
    "colab": {
      "provenance": []
    },
    "kernelspec": {
      "name": "python3",
      "display_name": "Python 3"
    },
    "language_info": {
      "name": "python"
    }
  },
  "cells": [
    {
      "cell_type": "markdown",
      "source": [
        "##1. What does an empty dictionary&#39;s code look like?"
      ],
      "metadata": {
        "id": "_L7gMwfee5Lk"
      }
    },
    {
      "cell_type": "markdown",
      "source": [
        "##Answer\n",
        "open and closed curly braces: {}\n",
        "\n",
        "example:\n",
        "\n",
        "\n",
        "\n",
        "```\n",
        "a={}\n",
        "type(a)\n",
        "```\n",
        "\n",
        "\n",
        "\n"
      ],
      "metadata": {
        "id": "MUNr8JrVfaGi"
      }
    },
    {
      "cell_type": "markdown",
      "source": [
        "##2. What is the value of a dictionary value with the key &#39;foo&#39; and the value 42?"
      ],
      "metadata": {
        "id": "glXZHu3Pflxw"
      }
    },
    {
      "cell_type": "code",
      "source": [
        "{'foo':42}"
      ],
      "metadata": {
        "colab": {
          "base_uri": "https://localhost:8080/"
        },
        "id": "p0Wog0PbfAww",
        "outputId": "f3fb0ba7-d18d-427a-cfd6-399df6e34397"
      },
      "execution_count": 1,
      "outputs": [
        {
          "output_type": "execute_result",
          "data": {
            "text/plain": [
              "{'foo': 42}"
            ]
          },
          "metadata": {},
          "execution_count": 1
        }
      ]
    },
    {
      "cell_type": "markdown",
      "source": [
        "##3. What is the most significant distinction between a dictionary and a list?"
      ],
      "metadata": {
        "id": "ch1AqdCTgv1Z"
      }
    },
    {
      "cell_type": "markdown",
      "source": [
        "##Answer\n",
        "\n",
        "in list items are in ordered pair and in dictionary items are unordered"
      ],
      "metadata": {
        "id": "yP-VmZrCg4o4"
      }
    },
    {
      "cell_type": "markdown",
      "source": [
        "##4. What happens if you try to access spam[&#39;foo&#39;] if spam is {&#39;bar&#39;: 100}?"
      ],
      "metadata": {
        "id": "5NnrSkr4hFMb"
      }
    },
    {
      "cell_type": "code",
      "source": [
        "spam={'bar':100}\n",
        "spam['foo']   #it'll give us a keyerror "
      ],
      "metadata": {
        "colab": {
          "base_uri": "https://localhost:8080/",
          "height": 183
        },
        "id": "ABcNcE1ggoyV",
        "outputId": "7ff5912b-b1d3-4190-b81d-7bf10fc8bae0"
      },
      "execution_count": 4,
      "outputs": [
        {
          "output_type": "error",
          "ename": "KeyError",
          "evalue": "ignored",
          "traceback": [
            "\u001b[0;31m---------------------------------------------------------------------------\u001b[0m",
            "\u001b[0;31mKeyError\u001b[0m                                  Traceback (most recent call last)",
            "\u001b[0;32m<ipython-input-4-73541c7ab0d2>\u001b[0m in \u001b[0;36m<module>\u001b[0;34m\u001b[0m\n\u001b[1;32m      1\u001b[0m \u001b[0mspam\u001b[0m\u001b[0;34m=\u001b[0m\u001b[0;34m{\u001b[0m\u001b[0;34m'bar'\u001b[0m\u001b[0;34m:\u001b[0m\u001b[0;36m100\u001b[0m\u001b[0;34m}\u001b[0m\u001b[0;34m\u001b[0m\u001b[0;34m\u001b[0m\u001b[0m\n\u001b[0;32m----> 2\u001b[0;31m \u001b[0mspam\u001b[0m\u001b[0;34m[\u001b[0m\u001b[0;34m'foo'\u001b[0m\u001b[0;34m]\u001b[0m   \u001b[0;31m#it'll give us a keyerror\u001b[0m\u001b[0;34m\u001b[0m\u001b[0;34m\u001b[0m\u001b[0m\n\u001b[0m",
            "\u001b[0;31mKeyError\u001b[0m: 'foo'"
          ]
        }
      ]
    },
    {
      "cell_type": "markdown",
      "source": [
        "##5. If a dictionary is stored in spam, what is the difference between the expressions &#39;cat&#39; in spam and\n",
        "##&#39;cat&#39; in spam.keys()?"
      ],
      "metadata": {
        "id": "tiSrb1HxiGhC"
      }
    },
    {
      "cell_type": "code",
      "source": [
        "spam={\"cat\":\"ineuron\"}\n",
        "\"cat\" in spam"
      ],
      "metadata": {
        "colab": {
          "base_uri": "https://localhost:8080/"
        },
        "id": "DSFTMdLZhPs1",
        "outputId": "68e385a3-92bf-4c83-dd70-69483b5c39f8"
      },
      "execution_count": 7,
      "outputs": [
        {
          "output_type": "execute_result",
          "data": {
            "text/plain": [
              "True"
            ]
          },
          "metadata": {},
          "execution_count": 7
        }
      ]
    },
    {
      "cell_type": "code",
      "source": [
        "\"cat\" in spam.keys()"
      ],
      "metadata": {
        "colab": {
          "base_uri": "https://localhost:8080/"
        },
        "id": "xfhe_sk-k83d",
        "outputId": "fd53c4f2-c30d-411f-b88d-5148a8e991d5"
      },
      "execution_count": 8,
      "outputs": [
        {
          "output_type": "execute_result",
          "data": {
            "text/plain": [
              "True"
            ]
          },
          "metadata": {},
          "execution_count": 8
        }
      ]
    },
    {
      "cell_type": "markdown",
      "source": [
        "both are same"
      ],
      "metadata": {
        "id": "u4AcEOrxmQ2m"
      }
    },
    {
      "cell_type": "markdown",
      "source": [
        "##6. If a dictionary is stored in spam, what is the difference between the expressions &#39;cat&#39; in spam and\n",
        "##&#39;cat&#39; in spam.values()?"
      ],
      "metadata": {
        "id": "FmNUmddHmT-i"
      }
    },
    {
      "cell_type": "code",
      "source": [
        "spam={\"cat\":\"ineuron\"}\n",
        "\"cat\" in spam      #it'll check the \"cat\" key in dictionary"
      ],
      "metadata": {
        "colab": {
          "base_uri": "https://localhost:8080/"
        },
        "id": "RjTlYYlolgBC",
        "outputId": "65c2a500-bd3c-4f1f-8a87-8a3878a6a284"
      },
      "execution_count": 11,
      "outputs": [
        {
          "output_type": "execute_result",
          "data": {
            "text/plain": [
              "True"
            ]
          },
          "metadata": {},
          "execution_count": 11
        }
      ]
    },
    {
      "cell_type": "code",
      "source": [
        "\"cat\" in spam.values()  #it'll check for the \"cat\" value in dictionary"
      ],
      "metadata": {
        "colab": {
          "base_uri": "https://localhost:8080/"
        },
        "id": "wp640t25nENt",
        "outputId": "a23c38e9-809c-4729-f37e-c8bf5979900b"
      },
      "execution_count": 12,
      "outputs": [
        {
          "output_type": "execute_result",
          "data": {
            "text/plain": [
              "False"
            ]
          },
          "metadata": {},
          "execution_count": 12
        }
      ]
    },
    {
      "cell_type": "markdown",
      "source": [
        "##7. What is a shortcut for the following code?\n",
        "##if &#39;color&#39; not in spam:\n",
        "##spam[&#39;color&#39;] = &#39;black&#39;"
      ],
      "metadata": {
        "id": "QIKUirvRoQ_m"
      }
    },
    {
      "cell_type": "code",
      "source": [
        "# by using inbuilt function setdefault\n",
        "\n",
        "spam={\"cat\":\"ineuron\"}\n",
        "spam.setdefault(\"colour\",\"black\")\n",
        "spam"
      ],
      "metadata": {
        "colab": {
          "base_uri": "https://localhost:8080/"
        },
        "id": "2EJnPppwnJeA",
        "outputId": "3ffaa214-5a4d-4737-fa15-147f699cd779"
      },
      "execution_count": 15,
      "outputs": [
        {
          "output_type": "execute_result",
          "data": {
            "text/plain": [
              "{'cat': 'ineuron', 'colour': 'black'}"
            ]
          },
          "metadata": {},
          "execution_count": 15
        }
      ]
    },
    {
      "cell_type": "markdown",
      "source": [
        "##8. How do you &quot;pretty print&quot; dictionary values using which module and function?"
      ],
      "metadata": {
        "id": "niurRZKCqTt2"
      }
    },
    {
      "cell_type": "markdown",
      "source": [
        "##Answer\n",
        "we can use pprint module and pprint() func to pretty print the dictionary values"
      ],
      "metadata": {
        "id": "lUCXAh5Vqnqr"
      }
    },
    {
      "cell_type": "code",
      "source": [
        "#example\n",
        "a=[{\"name\":\"shahaji\",\"course\":\"fsds2.0\",\"module\":\"python\"},\n",
        "   {\"name\":\"abc\",\"course\":\"fsds2.0\",\"module\":\"advance python\"},\n",
        "   {\"name\":\"def\",\"course\":\"fsds2.0\",\"module\":\"ML\"}]"
      ],
      "metadata": {
        "id": "s2Tr-envp91W"
      },
      "execution_count": 18,
      "outputs": []
    },
    {
      "cell_type": "code",
      "source": [
        "print(a)"
      ],
      "metadata": {
        "colab": {
          "base_uri": "https://localhost:8080/"
        },
        "id": "RDRuGybort4n",
        "outputId": "9f4c8767-41c0-4615-e15b-428832189c1c"
      },
      "execution_count": 19,
      "outputs": [
        {
          "output_type": "stream",
          "name": "stdout",
          "text": [
            "[{'name': 'shahaji', 'course': 'fsds2.0', 'module': 'python'}, {'name': 'abc', 'course': 'fsds2.0', 'module': 'advance python'}, {'name': 'def', 'course': 'fsds2.0', 'module': 'ML'}]\n"
          ]
        }
      ]
    },
    {
      "cell_type": "code",
      "source": [
        "import pprint\n",
        "pprint.pprint(a)"
      ],
      "metadata": {
        "colab": {
          "base_uri": "https://localhost:8080/"
        },
        "id": "V4wDXLhDr5o3",
        "outputId": "55b6b43b-444b-45f4-f9df-968afcebedaf"
      },
      "execution_count": 21,
      "outputs": [
        {
          "output_type": "stream",
          "name": "stdout",
          "text": [
            "[{'course': 'fsds2.0', 'module': 'python', 'name': 'shahaji'},\n",
            " {'course': 'fsds2.0', 'module': 'advance python', 'name': 'abc'},\n",
            " {'course': 'fsds2.0', 'module': 'ML', 'name': 'def'}]\n"
          ]
        }
      ]
    },
    {
      "cell_type": "code",
      "source": [],
      "metadata": {
        "id": "WTQrlM2AsBYl"
      },
      "execution_count": null,
      "outputs": []
    }
  ]
}