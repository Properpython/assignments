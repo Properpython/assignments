{
  "nbformat": 4,
  "nbformat_minor": 0,
  "metadata": {
    "colab": {
      "provenance": []
    },
    "kernelspec": {
      "name": "python3",
      "display_name": "Python 3"
    },
    "language_info": {
      "name": "python"
    }
  },
  "cells": [
    {
      "cell_type": "markdown",
      "source": [
        "##Q1. Can you create a programme or function that employs both positive and negative indexing? Is there any repercussion if you do so?"
      ],
      "metadata": {
        "id": "UYioaRdCbvrg"
      }
    },
    {
      "cell_type": "code",
      "execution_count": 1,
      "metadata": {
        "colab": {
          "base_uri": "https://localhost:8080/"
        },
        "id": "eO1b3ak7buu2",
        "outputId": "c4643839-abbf-4518-8702-8a8c0a8c1659"
      },
      "outputs": [
        {
          "output_type": "stream",
          "name": "stdout",
          "text": [
            "Substring using positive indexing: ello\n",
            "Substring using negative indexing: orld\n"
          ]
        }
      ],
      "source": [
        "def extract_substring(input_string, start_index, end_index):\n",
        "    return input_string[start_index:end_index]\n",
        "\n",
        "input_string = \"Hello, World!\"\n",
        "start_index_positive = 1\n",
        "end_index_positive = 5\n",
        "start_index_negative = -5\n",
        "end_index_negative = -1\n",
        "\n",
        "result_positive = extract_substring(input_string, start_index_positive, end_index_positive)\n",
        "result_negative = extract_substring(input_string, start_index_negative, end_index_negative)\n",
        "\n",
        "print(\"Substring using positive indexing:\", result_positive)\n",
        "print(\"Substring using negative indexing:\", result_negative)\n"
      ]
    },
    {
      "cell_type": "markdown",
      "source": [
        "##Q2. What is the most effective way of starting with 1,000 elements in a Python list? Assume that all elements should be set to the same value."
      ],
      "metadata": {
        "id": "cjaGpspHceJb"
      }
    },
    {
      "cell_type": "markdown",
      "source": [
        "If you want to create a Python list with 1,000 elements, all set to the same value, the most effective way is to use list multiplication along with a single value.\n",
        "\n",
        "You can create a list with 1,000 elements of the same value using the following approach:\n",
        "\n",
        "```\n",
        "value = 42  # The value you want to set for all elements\n",
        "my_list = [value] * 1000\n",
        "\n",
        "```"
      ],
      "metadata": {
        "id": "LJkhx5iOcrQA"
      }
    },
    {
      "cell_type": "markdown",
      "source": [
        "##Q3. How do you slice a list to get any other part while missing the rest? (For example, suppose you want to make a new list with the elements first, third, fifth, seventh, and so on.)"
      ],
      "metadata": {
        "id": "Ie8AOSkhcxlR"
      }
    },
    {
      "cell_type": "markdown",
      "source": [
        "the slice notation allows you to extract a sublist from a list by specifying the start, stop, and step values in the form list[start:stop:step]. The start index is the beginning of the slice, the stop index is the end (exclusive) of the slice, and the step value determines the interval between elements.\n",
        "\n",
        "To get a new list with the elements at even indices (first, third, fifth, etc.), you can use a step value of 2. Here's how you can do it:\n",
        "\n",
        "```\n",
        "original_list = [0, 1, 2, 3, 4, 5, 6, 7, 8, 9]\n",
        "\n",
        "new_list = original_list[::2]\n",
        "\n",
        "print(new_list)  \n",
        "\n",
        "```"
      ],
      "metadata": {
        "id": "CG6CFNpidA1z"
      }
    },
    {
      "cell_type": "markdown",
      "source": [
        "##Q4. Explain the distinctions between indexing and slicing."
      ],
      "metadata": {
        "id": "tcGTg70JdHUQ"
      }
    },
    {
      "cell_type": "markdown",
      "source": [
        "Indexing and slicing are both techniques used to access elements in sequences like strings, lists, tuples, and arrays in Python. However, they serve different purposes and have distinct characteristics:\n",
        "\n",
        "**Indexing**:\n",
        "\n",
        "Purpose: Indexing is used to access individual elements within a sequence.\n",
        "\n",
        "Notation: Indexing is denoted by square brackets [] with the index value inside.\n",
        "\n",
        "Result: Indexing returns a single element from the sequence.\n",
        "\n",
        "**Slicing**:\n",
        "\n",
        "Purpose: Slicing is used to extract a portion (subsequence) of a sequence, creating a new sequence containing the extracted elements.\n",
        "\n",
        "Notation: Slicing is denoted by square brackets [] with the start, stop, and optional step values inside, separated by colons.\n",
        "\n",
        "Result: Slicing returns a new sequence (a sublist) that includes elements from the start index up to, but not including, the stop index."
      ],
      "metadata": {
        "id": "7lYoh96bdO_8"
      }
    },
    {
      "cell_type": "markdown",
      "source": [
        "##Q5. What happens if one of the slicing expression&#39;s indexes is out of range?"
      ],
      "metadata": {
        "id": "FlQdBWAtdPOD"
      }
    },
    {
      "cell_type": "markdown",
      "source": [
        "If one of the slicing expression's indexes is out of range, Python will handle it differently depending on whether it is the start index, the stop index, or both.\n",
        "\n",
        "Start Index Out of Range:\n",
        "\n",
        "If the start index is greater than the length of the sequence, Python will return an empty sequence (e.g., an empty list, an empty string, etc.).\n",
        "For example, if you try to slice a list with a start index greater than the list's length, it will result in an empty list."
      ],
      "metadata": {
        "id": "YlCsxGe8dPh6"
      }
    },
    {
      "cell_type": "markdown",
      "source": [
        "##Q6. If you pass a list to a function, and if you want the function to be able to change the values of the list—so that the list is different after the function returns—what action should you avoid?"
      ],
      "metadata": {
        "id": "oHwl0vVodPyg"
      }
    },
    {
      "cell_type": "markdown",
      "source": [
        "If you pass a list to a function and want the function to be able to change the values of the list so that the list is different after the function returns, you should avoid reassigning the list parameter to a new list object within the function.\n",
        "\n",
        "In Python, lists are mutable objects, which means their elements can be modified even when passed to functions. When you pass a list to a function, you are passing a reference to the original list, not a copy of it. This means any changes made to the list within the function will affect the original list outside the function.\n",
        "\n",
        "However, if you reassign the list parameter to a new list object within the function, the function will lose access to the original list, and the changes made within the function will not be reflected in the list outside the function. Instead, the reassignment creates a new local variable that points to the new list object, and any modifications will be limited to this new list."
      ],
      "metadata": {
        "id": "Y1mgSP_2dQEc"
      }
    },
    {
      "cell_type": "markdown",
      "source": [
        "##Q7. What is the concept of an unbalanced matrix?"
      ],
      "metadata": {
        "id": "5ljJ1FNfd6v0"
      }
    },
    {
      "cell_type": "markdown",
      "source": [
        "\"unbalanced matrix\" typically refers to a two-dimensional data structure (often represented as a list of lists) where each row can have a different number of columns. In other words, the rows in the matrix are not of equal length.\n",
        "\n",
        "In a balanced matrix, all rows have the same number of elements, resulting in a regular rectangular shape"
      ],
      "metadata": {
        "id": "zf-ZWHRod7Dx"
      }
    },
    {
      "cell_type": "markdown",
      "source": [
        "##Q8. Why is it necessary to use either list comprehension or a loop to create arbitrarily large matrices?"
      ],
      "metadata": {
        "id": "Swyuuwcvd7mK"
      }
    },
    {
      "cell_type": "markdown",
      "source": [
        "It is necessary to use either list comprehension or a loop to create arbitrarily large matrices in Python because these techniques allow you to dynamically generate the matrix elements based on specific patterns or calculations. Unlike fixed-size matrices, where you can directly initialize the elements, arbitrarily large matrices require a flexible approach to create and populate their elements."
      ],
      "metadata": {
        "id": "f5FxAtnJeXgz"
      }
    },
    {
      "cell_type": "code",
      "source": [],
      "metadata": {
        "id": "Svso1BFecPxA"
      },
      "execution_count": null,
      "outputs": []
    }
  ]
}