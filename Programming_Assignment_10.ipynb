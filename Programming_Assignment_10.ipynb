{
  "nbformat": 4,
  "nbformat_minor": 0,
  "metadata": {
    "colab": {
      "provenance": []
    },
    "kernelspec": {
      "name": "python3",
      "display_name": "Python 3"
    },
    "language_info": {
      "name": "python"
    }
  },
  "cells": [
    {
      "cell_type": "markdown",
      "source": [
        "##1. Write a Python program to find sum of elements in list?"
      ],
      "metadata": {
        "id": "3f1T6M6cJd4S"
      }
    },
    {
      "cell_type": "code",
      "execution_count": 2,
      "metadata": {
        "colab": {
          "base_uri": "https://localhost:8080/"
        },
        "id": "uFeYyyn9JPiB",
        "outputId": "b4e9192f-01d3-4907-9fbc-1efaa3ff2a19"
      },
      "outputs": [
        {
          "output_type": "stream",
          "name": "stdout",
          "text": [
            "enter the number of elements: 5\n",
            "10\n",
            "20\n",
            "30\n",
            "40\n",
            "50\n",
            "[10, 20, 30, 40, 50]\n",
            "sum of the elements in the list is 150\n"
          ]
        }
      ],
      "source": [
        "lst=[]\n",
        "n=int(input(\"enter the number of elements: \"))\n",
        "for i in range(0,n):\n",
        "  element=int(input())\n",
        "  lst.append(element)\n",
        "print(lst)\n",
        "\n",
        "sum=0\n",
        "for i in lst:\n",
        "  sum=sum+i\n",
        "print(f\"sum of the elements in the list is {sum}\")\n",
        "\n"
      ]
    },
    {
      "cell_type": "markdown",
      "source": [
        "##2. Write a Python program to Multiply all numbers in the list?"
      ],
      "metadata": {
        "id": "JDvvpbMgLF5w"
      }
    },
    {
      "cell_type": "code",
      "source": [
        "lst=[]\n",
        "n=int(input(\"enter the number of elements: \"))\n",
        "for i in range(0,n):\n",
        "  element=int(input())\n",
        "  lst.append(element)\n",
        "print(lst)\n",
        "\n",
        "multiply=1\n",
        "for i in lst:\n",
        "  multiply=multiply*i\n",
        "print(f\"multiplication of all the numbers in the list is: {multiply} \")\n"
      ],
      "metadata": {
        "colab": {
          "base_uri": "https://localhost:8080/"
        },
        "id": "1ldkxxkBKwir",
        "outputId": "29122c34-e555-4bf1-d251-3fa876c9852b"
      },
      "execution_count": 5,
      "outputs": [
        {
          "output_type": "stream",
          "name": "stdout",
          "text": [
            "enter the number of elements: 5\n",
            "1\n",
            "2\n",
            "3\n",
            "4\n",
            "5\n",
            "[1, 2, 3, 4, 5]\n",
            "multiplication of all the numbers in the list is: 120 \n"
          ]
        }
      ]
    },
    {
      "cell_type": "markdown",
      "source": [
        "##3. Write a Python program to find smallest number in a list?"
      ],
      "metadata": {
        "id": "vxPFc5_ZL7jV"
      }
    },
    {
      "cell_type": "code",
      "source": [
        "lst=[]\n",
        "n=int(input(\"enter the number of elements: \"))\n",
        "for i in range(0,n):\n",
        "  element=int(input())\n",
        "  lst.append(element)\n",
        "print(lst)\n",
        "\n",
        "min=lst[0]\n",
        "for i in range(1,n):\n",
        "  if lst[i]<min:\n",
        "    min=lst[i]\n",
        "print(f\"smallest number in the list is: {min}\")"
      ],
      "metadata": {
        "colab": {
          "base_uri": "https://localhost:8080/"
        },
        "id": "13y0snsWLiri",
        "outputId": "4470142d-8b05-4f1e-a790-26b50bae223b"
      },
      "execution_count": 6,
      "outputs": [
        {
          "output_type": "stream",
          "name": "stdout",
          "text": [
            "enter the number of elements: 5\n",
            "10\n",
            "65\n",
            "40\n",
            "23\n",
            "56\n",
            "[10, 65, 40, 23, 56]\n",
            "smallest number in the list is: 10\n"
          ]
        }
      ]
    },
    {
      "cell_type": "markdown",
      "source": [
        "##second method"
      ],
      "metadata": {
        "id": "ChA9ojp0PEZc"
      }
    },
    {
      "cell_type": "code",
      "source": [
        "lst=[]\n",
        "n=int(input(\"enter the number of elements: \"))\n",
        "for i in range(0,n):\n",
        "  element=int(input())\n",
        "  lst.append(element)\n",
        "print(lst)\n",
        "\n",
        "lst.sort()\n",
        "print(f\"the smallest number in the list is: {lst[0]}\")"
      ],
      "metadata": {
        "colab": {
          "base_uri": "https://localhost:8080/"
        },
        "id": "fKNGex0APBP0",
        "outputId": "c216d7aa-7a01-45e7-b0a7-409616554a47"
      },
      "execution_count": 10,
      "outputs": [
        {
          "output_type": "stream",
          "name": "stdout",
          "text": [
            "enter the number of elements: 5\n",
            "4\n",
            "5\n",
            "34\n",
            "21\n",
            "8\n",
            "[4, 5, 34, 21, 8]\n",
            "the smallest number in the list is: 4\n"
          ]
        }
      ]
    },
    {
      "cell_type": "markdown",
      "source": [
        "##4. Write a Python program to find largest number in a list?"
      ],
      "metadata": {
        "id": "p-rKWjvpM6YD"
      }
    },
    {
      "cell_type": "code",
      "source": [
        "lst=[]\n",
        "n=int(input(\"enter the number of elements: \"))\n",
        "for i in range(0,n):\n",
        "  element=int(input())\n",
        "  lst.append(element)\n",
        "print(lst)\n",
        "\n",
        "max=lst[0]\n",
        "for i in range(1,n):\n",
        "  if lst[i]>max:\n",
        "    max=lst[i]\n",
        "print(f\"largest number in the list is: {max}\")"
      ],
      "metadata": {
        "colab": {
          "base_uri": "https://localhost:8080/"
        },
        "id": "uBJ5i_DzMo76",
        "outputId": "fa96a1a4-11f1-4dfe-ac4b-16c1af5c8510"
      },
      "execution_count": 7,
      "outputs": [
        {
          "output_type": "stream",
          "name": "stdout",
          "text": [
            "enter the number of elements: 5\n",
            "10\n",
            "98\n",
            "76\n",
            "43\n",
            "23\n",
            "[10, 98, 76, 43, 23]\n",
            "largest number in the list is: 98\n"
          ]
        }
      ]
    },
    {
      "cell_type": "markdown",
      "source": [
        "##second method"
      ],
      "metadata": {
        "id": "3H9vT_RUPkFo"
      }
    },
    {
      "cell_type": "code",
      "source": [
        "lst=[]\n",
        "n=int(input(\"enter the number of elements: \"))\n",
        "for i in range(0,n):\n",
        "  element=int(input())\n",
        "  lst.append(element)\n",
        "print(lst)\n",
        "\n",
        "lst.sort()\n",
        "print(f\"the smallest number in the list is: {lst[-1]}\")"
      ],
      "metadata": {
        "colab": {
          "base_uri": "https://localhost:8080/"
        },
        "id": "yTZSrLMwPmtb",
        "outputId": "059fc34e-068f-4947-fafc-2ee0c297e176"
      },
      "execution_count": 11,
      "outputs": [
        {
          "output_type": "stream",
          "name": "stdout",
          "text": [
            "enter the number of elements: 5\n",
            "67\n",
            "23\n",
            "45\n",
            "4\n",
            "22\n",
            "[67, 23, 45, 4, 22]\n",
            "the smallest number in the list is: 67\n"
          ]
        }
      ]
    },
    {
      "cell_type": "markdown",
      "source": [
        "##5. Write a Python program to find second largest number in a list?"
      ],
      "metadata": {
        "id": "UEWCX1zBNSIp"
      }
    },
    {
      "cell_type": "code",
      "source": [
        "lst=[]\n",
        "n=int(input(\"enter the number of elements: \"))\n",
        "for i in range(0,n):\n",
        "  element=int(input())\n",
        "  lst.append(element)\n",
        "print(lst)\n",
        "\n",
        "lst.sort()\n",
        "print(f\"the second largest element is: {lst[-2]}\")"
      ],
      "metadata": {
        "colab": {
          "base_uri": "https://localhost:8080/"
        },
        "id": "ZMabbiGhNHNe",
        "outputId": "20af7c73-f104-4cc0-dd15-de3a24f943ee"
      },
      "execution_count": 12,
      "outputs": [
        {
          "output_type": "stream",
          "name": "stdout",
          "text": [
            "enter the number of elements: 5\n",
            "23\n",
            "45\n",
            "67\n",
            "42\n",
            "78\n",
            "[23, 45, 67, 42, 78]\n",
            "the second largest element is: 67\n"
          ]
        }
      ]
    },
    {
      "cell_type": "markdown",
      "source": [
        "##6. Write a Python program to find N largest elements from a list?"
      ],
      "metadata": {
        "id": "z41WBeFuP9bT"
      }
    },
    {
      "cell_type": "code",
      "source": [
        "lst=[]\n",
        "n=int(input(\"enter the number of elements: \"))\n",
        "for i in range(0,n):\n",
        "  element=int(input())\n",
        "  lst.append(element)\n",
        "print(lst)\n",
        "\n",
        "p=int(input(\"how many largest numbers you want to find: \"))\n",
        "lst.sort()\n",
        "print(f\"{p} largest numbers of the list is {lst[-p:]}\")\n"
      ],
      "metadata": {
        "colab": {
          "base_uri": "https://localhost:8080/"
        },
        "id": "lJD00JelP9Cb",
        "outputId": "75beb3c1-5e92-4156-bfa2-77d28e7821e8"
      },
      "execution_count": 14,
      "outputs": [
        {
          "output_type": "stream",
          "name": "stdout",
          "text": [
            "enter the number of elements: 5\n",
            "25\n",
            "36\n",
            "1\n",
            "76\n",
            "34\n",
            "[25, 36, 1, 76, 34]\n",
            "how many largest numbers you want to find: 2\n",
            "2 largest numbers of the list is [36, 76]\n"
          ]
        }
      ]
    },
    {
      "cell_type": "markdown",
      "source": [
        "##7. Write a Python program to print even numbers in a list?"
      ],
      "metadata": {
        "id": "nMmdo321RqP8"
      }
    },
    {
      "cell_type": "code",
      "source": [
        "lst=[]\n",
        "n=int(input(\"enter the number of elements: \"))\n",
        "for i in range(0,n):\n",
        "  element=int(input())\n",
        "  lst.append(element)\n",
        "print(lst)\n",
        "\n",
        "for i in lst:\n",
        "  if i%2==0:\n",
        "    print(i,end=' ')\n"
      ],
      "metadata": {
        "colab": {
          "base_uri": "https://localhost:8080/"
        },
        "id": "fY2vk5UHQ7AV",
        "outputId": "d75e9bee-0969-4b34-95f0-b643c1f736fa"
      },
      "execution_count": 15,
      "outputs": [
        {
          "output_type": "stream",
          "name": "stdout",
          "text": [
            "enter the number of elements: 5\n",
            "2\n",
            "46\n",
            "35\n",
            "78\n",
            "92\n",
            "[2, 46, 35, 78, 92]\n",
            "2 46 78 92 "
          ]
        }
      ]
    },
    {
      "cell_type": "markdown",
      "source": [
        "##8. Write a Python program to print odd numbers in a List?"
      ],
      "metadata": {
        "id": "tYMiivfUS9aS"
      }
    },
    {
      "cell_type": "code",
      "source": [
        "lst=[]\n",
        "n=int(input(\"enter the number of elements: \"))\n",
        "for i in range(0,n):\n",
        "  element=int(input())\n",
        "  lst.append(element)\n",
        "print(lst)\n",
        "\n",
        "for i in lst:\n",
        "  if i%2!=0:\n",
        "    print(i,end=' ')"
      ],
      "metadata": {
        "colab": {
          "base_uri": "https://localhost:8080/"
        },
        "id": "yGcoqqfeStO_",
        "outputId": "bb251a9a-a723-443d-c690-aee7ade51ce0"
      },
      "execution_count": 16,
      "outputs": [
        {
          "output_type": "stream",
          "name": "stdout",
          "text": [
            "enter the number of elements: 5\n",
            "15\n",
            "24\n",
            "21\n",
            "34\n",
            "68\n",
            "[15, 24, 21, 34, 68]\n",
            "15 21 "
          ]
        }
      ]
    },
    {
      "cell_type": "markdown",
      "source": [
        "##9. Write a Python program to Remove empty List from List?"
      ],
      "metadata": {
        "id": "_9ypfuvWWANa"
      }
    },
    {
      "cell_type": "code",
      "source": [
        "test_list = [5, 6, [], 3, [], [], 9]\n",
        " \n",
        "print(\"The original list is : \" + str(test_list))\n",
        " \n",
        "res = [ele for ele in test_list if ele != []]\n",
        " \n",
        "print(\"List after empty list removal : \" + str(res))"
      ],
      "metadata": {
        "colab": {
          "base_uri": "https://localhost:8080/"
        },
        "id": "1BfbzcQjTCb3",
        "outputId": "8d611a8a-3713-4df5-e9e2-18606dce3b51"
      },
      "execution_count": 17,
      "outputs": [
        {
          "output_type": "stream",
          "name": "stdout",
          "text": [
            "The original list is : [5, 6, [], 3, [], [], 9]\n",
            "List after empty list removal : [5, 6, 3, 9]\n"
          ]
        }
      ]
    },
    {
      "cell_type": "markdown",
      "source": [
        "##10. Write a Python program to Cloning or Copying a list?"
      ],
      "metadata": {
        "id": "jH8medoAWScK"
      }
    },
    {
      "cell_type": "code",
      "source": [
        "import copy\n",
        "li1 = [1, 2, [3,5], 4]\n",
        "li2 = copy.copy(li1)\n",
        "print(li2)"
      ],
      "metadata": {
        "colab": {
          "base_uri": "https://localhost:8080/"
        },
        "id": "NmCceWrjWO5V",
        "outputId": "9cc794e2-3ddc-44b7-9fc4-cf3090e4d22c"
      },
      "execution_count": 18,
      "outputs": [
        {
          "output_type": "stream",
          "name": "stdout",
          "text": [
            "[1, 2, [3, 5], 4]\n"
          ]
        }
      ]
    },
    {
      "cell_type": "markdown",
      "source": [
        "##11. Write a Python program to Count occurrences of an element in a list?"
      ],
      "metadata": {
        "id": "7HnpNsuGWszw"
      }
    },
    {
      "cell_type": "code",
      "source": [
        "lst=[]\n",
        "n=int(input(\"enter the number of elements: \"))\n",
        "for i in range(0,n):\n",
        "  element=int(input())\n",
        "  lst.append(element)\n",
        "print(lst)\n",
        "\n",
        "x=int(input(\"enter the number you want to count: \"))\n",
        "count = 0\n",
        "for ele in lst:\n",
        "  if (ele == x):\n",
        "    count = count + 1\n",
        "print(f\"{x} occured {count} times in the list\")\n"
      ],
      "metadata": {
        "colab": {
          "base_uri": "https://localhost:8080/"
        },
        "id": "XnY5kMibWohH",
        "outputId": "6c4e89c9-7056-4be3-99f1-75dd0c45dc8b"
      },
      "execution_count": 20,
      "outputs": [
        {
          "output_type": "stream",
          "name": "stdout",
          "text": [
            "enter the number of elements: 8\n",
            "8\n",
            "5\n",
            "4\n",
            "8\n",
            "8\n",
            "2\n",
            "8\n",
            "4\n",
            "[8, 5, 4, 8, 8, 2, 8, 4]\n",
            "enter the number you want to count: 8\n",
            "8 occured 4 times in the list\n"
          ]
        }
      ]
    }
  ]
}