{
  "nbformat": 4,
  "nbformat_minor": 0,
  "metadata": {
    "colab": {
      "provenance": []
    },
    "kernelspec": {
      "name": "python3",
      "display_name": "Python 3"
    },
    "language_info": {
      "name": "python"
    }
  },
  "cells": [
    {
      "cell_type": "markdown",
      "source": [
        "##Q1. What is the distinction between a numpy array and a pandas data frame? Is there a way to convert between the two if there is?"
      ],
      "metadata": {
        "id": "--e1CnQ-i_vy"
      }
    },
    {
      "cell_type": "markdown",
      "source": [
        "The distinction between a NumPy array and a pandas DataFrame lies primarily in their data structures and functionalities:\n",
        "\n",
        "Data Structure:\n",
        "\n",
        "NumPy Array: A NumPy array is a multi-dimensional array that contains elements of the same data type. It is a fundamental data structure for numerical computations and provides various mathematical operations.\n",
        "pandas DataFrame: A pandas DataFrame is a two-dimensional, tabular data structure with labeled axes (rows and columns). It is built on top of NumPy arrays and allows for heterogeneous data types, making it suitable for handling structured and tabular data.\n",
        "\n",
        "Labeling and Indexing:\n",
        "\n",
        "NumPy Array: NumPy arrays are accessed using integer-based indexing. They do not have column names or row labels.\n",
        "pandas DataFrame: pandas DataFrames have both row labels (index) and column names, enabling more convenient and intuitive data access using labels or a combination of labels and integer-based indexing.\n",
        "\n",
        "Functionality:\n",
        "\n",
        "NumPy Array: NumPy provides essential mathematical operations and functions for numerical computations, but it does not have specialized data manipulation capabilities for structured data.\n",
        "\n",
        "pandas DataFrame:\n",
        "\n",
        " pandas offers powerful data manipulation and analysis capabilities, such as data filtering, grouping, merging, reshaping, and handling missing data, making it a popular choice for data analysis and data wrangling tasks.\n",
        "\n",
        "Missing Data Handling:\n",
        "\n",
        "NumPy Array: NumPy arrays do not have built-in support for handling missing data, and missing values are represented using the special value np.nan.\n",
        "pandas DataFrame: pandas DataFrames have built-in methods for handling missing data, including functions like dropna() and fillna().\n",
        "Conversion between NumPy arrays and pandas DataFrames is possible using\n",
        "the following methods:\n",
        "\n",
        "Converting a NumPy Array to a pandas DataFrame: You can use the pandas.DataFrame() constructor to create a DataFrame from a NumPy array. You can specify column names and index labels if desired."
      ],
      "metadata": {
        "id": "A3cJv4Smi_q_"
      }
    },
    {
      "cell_type": "markdown",
      "source": [
        "##Q2. What can go wrong when an user enters in a stock-ticker symbol, and how do you handle it?"
      ],
      "metadata": {
        "id": "iBOPj_Qti_ms"
      }
    },
    {
      "cell_type": "markdown",
      "source": [
        "When a user enters a stock ticker symbol, several issues can arise, and it is crucial to handle them properly to ensure a smooth and error-free experience for the user. Here are some potential problems and how to handle them:\n",
        "\n",
        "Invalid Ticker Symbol:\n",
        "\n",
        "The user may enter an invalid or non-existent stock ticker symbol. For example, they might misspell the symbol or enter a symbol that is not listed on the stock exchange.\n",
        "\n",
        "Handling:\n",
        "\n",
        " You should validate the entered ticker symbol before using it to retrieve stock data. You can use external APIs or databases that provide a list of valid ticker symbols. If the entered symbol is not valid, display an appropriate error message to the user, prompting them to enter a correct symbol.\n",
        "\n",
        "Missing Ticker Symbol:\n",
        "\n",
        "The user might leave the ticker symbol field empty or enter a blank space.\n",
        "\n",
        "Handling: Ensure that the user cannot proceed without providing a valid ticker symbol. Display an error message if the field is left blank or contains only whitespace characters.\n",
        "\n",
        "Case Sensitivity:\n",
        "\n",
        "Stock ticker symbols are usually case-sensitive, and the user might enter the symbol in the wrong case.\n",
        "\n",
        "Handling: Convert the entered symbol to uppercase or lowercase before processing it to ensure consistency and avoid case-related issues.\n",
        "\n",
        "Handling: Remove any unwanted characters from the input before using the ticker symbol. You can use regular expressions or string manipulation functions to clean the input."
      ],
      "metadata": {
        "id": "uRAuMgkMi_h_"
      }
    },
    {
      "cell_type": "markdown",
      "source": [
        "##Q3. Identify some of the plotting techniques that are used to produce a stock-market chart."
      ],
      "metadata": {
        "id": "vwsCAHq6i_by"
      }
    },
    {
      "cell_type": "markdown",
      "source": [
        "Some of the common plotting techniques used for stock market charts include:\n",
        "\n",
        "Line Chart:\n",
        "\n",
        "A line chart is one of the simplest and most common techniques used in stock market charts. It represents the stock's closing price or other relevant price points over time with a continuous line connecting the data points. Line charts provide a quick overview of the price trend and volatility.\n",
        "\n",
        "Candlestick Chart:\n",
        "\n",
        "Candlestick charts display the opening, high, low, and closing prices for each time period (e.g., day) as \"candlesticks.\" Each candlestick has a body and wicks (upper and lower shadows) that represent the price range during that period. Candlestick charts provide more detailed information about price movements, including the presence of bullish and bearish patterns.\n",
        "\n",
        "Bar Chart:\n",
        "\n",
        "Bar charts represent price data using vertical bars. Each bar shows the opening and closing prices with horizontal lines and the high and low prices with vertical lines (high and low price range). Bar charts are similar to candlestick charts but without the body.\n",
        "\n",
        "Area chart:\n",
        "\n",
        "Area charts are similar to line charts, but the area between the line and the x-axis is filled, creating a shaded region. Area charts are useful for highlighting the magnitude of price movements over time.\n",
        "\n",
        "Volume Chart:\n",
        "\n",
        "Volume charts show the trading volume (number of shares traded) for each time period. They are typically plotted as bars, where the height of each bar represents the trading volume."
      ],
      "metadata": {
        "id": "7K9gQIk9i_RF"
      }
    },
    {
      "cell_type": "markdown",
      "source": [
        "##Q4. Why is it essential to print a legend on a stock market chart?"
      ],
      "metadata": {
        "id": "8zYpuQGxi_QP"
      }
    },
    {
      "cell_type": "markdown",
      "source": [
        "In the context of a stock market chart, the legend typically explains the meaning of various lines, colors, and symbols used to represent different stock-related information. Here are some reasons why printing a legend is crucial for stock market charts:\n",
        "\n",
        "Clarity and Understanding:\n",
        "\n",
        "A stock market chart can become complex, especially when multiple data series or technical indicators are plotted on the same chart. The legend helps users understand which line or symbol corresponds to specific data, making it easier to interpret the chart accurately.\n",
        "\n",
        "Identification of Data Series:\n",
        "\n",
        "In a candlestick or bar chart, different elements represent the opening, closing, high, and low prices. The legend provides a clear label for each element, ensuring users know which part of the candlestick or bar corresponds to which price value.\n",
        "\n",
        "Indicators and Overlays:\n",
        "\n",
        "When technical indicators, such as moving averages or Bollinger Bands, are overlaid on the price chart, the legend explains what each indicator represents. This helps users identify the different overlays and their significance in the analysis.\n",
        "\n",
        "Comparison and Analysis:\n",
        "\n",
        "Stock market charts often involve multiple stocks or indices plotted together for comparison or analysis. The legend enables users to distinguish between different stocks or indices, facilitating meaningful comparisons and insights.\n",
        "\n",
        "Timeframes and Periods:\n",
        "\n",
        "When different timeframes or periods are plotted on the same chart (e.g., daily, weekly, or monthly data), the legend helps users identify each timeframe and interpret the trends accordingly."
      ],
      "metadata": {
        "id": "CfQTXT2oi_PQ"
      }
    },
    {
      "cell_type": "markdown",
      "source": [
        "##Q5. What is the best way to limit the length of a pandas data frame to less than a year?"
      ],
      "metadata": {
        "id": "X0Pt8wU6i-2x"
      }
    },
    {
      "cell_type": "markdown",
      "source": [
        "To limit the length of a pandas DataFrame to less than a year, you can use the DataFrame slicing capabilities and date filtering methods provided by pandas. Here's a step-by-step guide to achieve this:\n",
        "\n",
        "Convert Date Column to Datetime Type:\n",
        "If the date column is not already in datetime format, convert it using the pd.to_datetime() function."
      ],
      "metadata": {
        "id": "-iDsnauWi-x9"
      }
    },
    {
      "cell_type": "markdown",
      "source": [
        "##Q6. What is the definition of a 180-day moving average?"
      ],
      "metadata": {
        "id": "YttfJ1EWi-dU"
      }
    },
    {
      "cell_type": "markdown",
      "source": [
        "The definition of a 180-day moving average is a financial technical indicator that calculates the average price of a security or asset over a period of 180 days. It is a type of moving average, which is a widely used tool in technical analysis to smooth out price data and identify trends over a specified time frame.\n",
        "\n",
        "Here's how the 180-day moving average is calculated:\n",
        "\n",
        "Collect Data:\n",
        "\n",
        "Gather the daily closing prices of the security or asset for the past 180 days.\n",
        "\n",
        "Calculate Average:\n",
        "\n",
        "Add up the closing prices for the 180 days and divide the sum by 180 to get the average.\n",
        "\n",
        "Repeat the Process:\n",
        "\n",
        "As each new day's closing price becomes available, drop the oldest closing price from the calculation and include the latest closing price. Then, recalculate the average based on the updated 180-day window.\n",
        "\n",
        "Plot the Moving Average:\n",
        "\n",
        "Plot the calculated averages on a chart over the corresponding dates to create the 180-day moving average line."
      ],
      "metadata": {
        "id": "OcrbeWEBi-Wb"
      }
    },
    {
      "cell_type": "markdown",
      "source": [
        "##Q7. Did the chapter&#39;s final example use &quot;indirect&quot; importing? If so, how exactly do you do it?"
      ],
      "metadata": {
        "id": "nO2xDqmli-Qw"
      }
    },
    {
      "cell_type": "markdown",
      "source": [
        "\"Indirect\" importing refers to importing modules or objects from a package or module into your current namespace without explicitly mentioning the package or module name in your code. It allows you to access the imported objects directly without using dot notation.\n",
        "\n",
        "Here's an example of indirect importing:\n",
        "\n",
        "Suppose you have a package named my_package with a module named my_module containing the following function:\n",
        "\n",
        "```\n",
        "# my_package/my_module.py\n",
        "\n",
        "def my_function():\n",
        "    return \"Hello, World!\"\n",
        "\n",
        "```\n",
        "Normally, you would import the function as follows:\n",
        "```\n",
        "# main.py\n",
        "\n",
        "from my_package.my_module import my_function\n",
        "\n",
        "print(my_function())\n",
        "```\n",
        "However, with indirect importing, you can import the function directly into the namespace:\n",
        "```\n",
        "# main.py\n",
        "\n",
        "from my_package.my_module import *\n",
        "\n",
        "print(my_function())  # Output: \"Hello, World!\"\n",
        "```"
      ],
      "metadata": {
        "id": "m1GLtI-Ii-J6"
      }
    }
  ]
}