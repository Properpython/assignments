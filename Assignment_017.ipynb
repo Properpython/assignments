{
  "nbformat": 4,
  "nbformat_minor": 0,
  "metadata": {
    "colab": {
      "provenance": []
    },
    "kernelspec": {
      "name": "python3",
      "display_name": "Python 3"
    },
    "language_info": {
      "name": "python"
    }
  },
  "cells": [
    {
      "cell_type": "markdown",
      "source": [
        "##Q1. Explain the difference between greedy and non-greedy syntax with visual terms in as few words as possible. What is the bare minimum effort required to transform a greedy pattern into a non-greedy one? What characters or characters can you introduce or change?"
      ],
      "metadata": {
        "id": "cwKetb4uyhaH"
      }
    },
    {
      "cell_type": "markdown",
      "source": [
        "Greedy Syntax vs. Non-Greedy Syntax:\n",
        "\n",
        "Greedy Syntax: Matches as much as possible while still allowing the overall pattern to match. It consumes as many characters as possible.\n",
        "Non-Greedy Syntax (Lazy or Reluctant): Matches as little as possible while still allowing the overall pattern to match. It consumes as few characters as possible.\n",
        "Transforming Greedy Pattern to Non-Greedy:\n",
        "\n",
        "To transform a greedy pattern to a non-greedy one, add a ? after the quantifier *, +, ?, or {}.\n",
        "\n",
        "Example:\n",
        "\n",
        "Greedy: .*\n",
        "Non-Greedy: .*?\n",
        "The addition of the ? makes the quantifier non-greedy, and it will now match the smallest possible substring instead of the largest possible substring."
      ],
      "metadata": {
        "id": "SK8vZqEHyhoO"
      }
    },
    {
      "cell_type": "markdown",
      "source": [
        "##Q2. When exactly does greedy versus non-greedy make a difference?  What if you&#39;re looking for a non-greedy match but the only one available is greedy?"
      ],
      "metadata": {
        "id": "g4ToTu8ayiB0"
      }
    },
    {
      "cell_type": "markdown",
      "source": [
        "Scenario with Non-Greedy Match Only Available:\n",
        "If you specifically want a non-greedy match, but the only available match in the input string is greedy, the non-greedy quantifier will still do its best to find the shortest match possible. Even if the match is greedy in nature, the non-greedy quantifier will try to limit the number of characters matched.\n",
        "\n",
        "Example:\n",
        "\n",
        "Let's consider a string \"abc123def456ghi\", and we want to extract the substring between \"abc\" and \"ghi\":\n",
        "\n",
        "Greedy Pattern: abc.*ghi\n",
        "Greedy match: \"abc123def456ghi\" (longest match)\n",
        "Non-Greedy Pattern: abc.*?ghi\n",
        "Non-greedy match: \"abc123ghi\" (shortest match)\n",
        "In the non-greedy example, even though the only available substring between \"abc\" and \"ghi\" is \"abc123def456ghi\" (a greedy match), the non-greedy pattern abc.*?ghi still provides the shortest match possible: \"abc123ghi\".\n",
        "\n",
        "So, if you need a non-greedy match, even if only greedy matches are available, you can still achieve a shorter match by using the non-greedy quantifiers."
      ],
      "metadata": {
        "id": "LlUT9GzMyism"
      }
    },
    {
      "cell_type": "markdown",
      "source": [
        "##Q3. In a simple match of a string, which looks only for one match and does not do any replacement, is the use of a nontagged group likely to make any practical difference?"
      ],
      "metadata": {
        "id": "Am47F0ZqyjHb"
      }
    },
    {
      "cell_type": "markdown",
      "source": [
        "In a simple match of a string where you are only interested in finding one match and not performing any replacement, the use of a non-tagged group (also known as a non-capturing group) is unlikely to make any practical difference in the outcome of the match.\n",
        "\n",
        "A non-tagged group is denoted by (?:...) in regular expressions, and it allows you to group subpatterns without creating a capture group. A capture group is denoted by (...) and is used to capture and extract a specific part of the matched string.\n",
        "\n",
        "In the case of a simple match, where you are not using the matched groups to extract specific substrings, the choice between a tagged (capture) group and a non-tagged (non-capturing) group will not affect the overall match result. Both tagged and non-tagged groups will be treated similarly by the regular expression engine for simple matching purposes.\n",
        "\n",
        "The primary difference between tagged and non-tagged groups comes into play when you want to extract specific parts of the matched string. Tagged groups allow you to access the matched substrings through the match object's group() method, whereas non-tagged groups are ignored for extraction purposes."
      ],
      "metadata": {
        "id": "EWgwgb6TyjO1"
      }
    },
    {
      "cell_type": "markdown",
      "source": [
        "##Q4. Describe a scenario in which using a nontagged category would have a significant impact on the program&#39;s outcomes."
      ],
      "metadata": {
        "id": "2W2nsIfFyjUE"
      }
    },
    {
      "cell_type": "markdown",
      "source": [
        "A scenario where using a non-tagged (non-capturing) category can have a significant impact on a program's outcomes is when the regular expression pattern contains multiple groups, and you are interested in extracting specific information from each group. In such cases, using non-tagged groups may prevent you from accessing the matched substrings within those groups.\n",
        "\n",
        "Consider a scenario where you want to extract both the date and time information from a text containing timestamps in the format \"YYYY-MM-DD HH:MM:SS\". The regular expression pattern needs to capture the date and time components separately using groups. Using tagged groups, you can extract the date and time components individually."
      ],
      "metadata": {
        "id": "W4MJ4nU1yjZk"
      }
    },
    {
      "cell_type": "markdown",
      "source": [
        "##Q5. Unlike a normal regex pattern, a look-ahead condition does not consume the characters it examines. Describe a situation in which this could make a difference in the results of your programme."
      ],
      "metadata": {
        "id": "KpI3zLNZyjd4"
      }
    },
    {
      "cell_type": "markdown",
      "source": [
        "The non-consuming nature of a look-ahead condition in regular expressions can make a significant difference in the results of a program when you need to match a pattern based on a specific condition without actually including that condition in the final match.\n",
        "\n",
        "Consider a scenario where you want to extract email addresses from a text, but you want to exclude email addresses that belong to a specific domain (e.g., exclude all email addresses from \"example.com\"). Using a look-ahead condition allows you to achieve this without consuming the domain part of the email address in the final match.\n",
        "\n",
        "Example without look-ahead condition:\n",
        "\n",
        "Let's assume we want to match email addresses but exclude those from \"example.com\":\n",
        "\n",
        "```\n",
        "import re\n",
        "\n",
        "text = \"Contact us at john.doe@example.com or support@example.com.\"\n",
        "pattern_without_lookahead = r\"\\b(?!example\\.com\\b)\\S+@\\S+\\.\\S+\"\n",
        "\n",
        "matches = re.findall(pattern_without_lookahead, text)\n",
        "print(matches)  # Output: ['shahaji@example.com', 'support@example.com']\n",
        "```\n",
        "Example with look-ahead condition:\n",
        "\n",
        "Now, let's use a look-ahead condition to achieve the same result:\n",
        "\n",
        "```\n",
        "import re\n",
        "\n",
        "text = \"Contact us at john.doe@example.com or support@example.com.\"\n",
        "pattern_with_lookahead = r\"\\b\\S+@(?!(?:example\\.com\\b))\\S+\\.\\S+\"\n",
        "\n",
        "matches = re.findall(pattern_with_lookahead, text)\n",
        "print(matches)  # Output: ['shahaji.doe@example.com']\n",
        "\n",
        "```\n",
        "In the second example, the look-ahead condition (?!(?:example\\.com\\b)) checks whether the domain part of the email address is not \"example.com\". The look-ahead condition ensures that the characters in the domain part of the email address are examined for the condition but not included in the final match. This allows us to exclude email addresses from \"example.com\" while still capturing the entire email address in the result.\n",
        "\n",
        "Without the look-ahead condition, the pattern would consume the entire email address before excluding it based on the domain condition, resulting in both email addresses being matched, including those from \"example.com\"."
      ],
      "metadata": {
        "id": "7XDQAV-6yjlw"
      }
    },
    {
      "cell_type": "markdown",
      "source": [
        "##Q6. In standard expressions, what is the difference between positive look-ahead and negative look-ahead?"
      ],
      "metadata": {
        "id": "tZzZ8RtqyjqM"
      }
    },
    {
      "cell_type": "markdown",
      "source": [
        "Positive Look-Ahead ((?=...)):\n",
        "\n",
        "Syntax: (?=...)\n",
        "A positive look-ahead assertion is used to assert that a specific pattern must be followed by another pattern without including the latter in the final match.\n",
        "\n",
        "It checks if the sub-pattern inside the look-ahead assertion is present at a certain position in the input string.\n",
        "\n",
        "The look-ahead condition is satisfied if the sub-pattern is found after the main pattern (i.e., the main pattern is followed by the sub-pattern).\n",
        "\n",
        "The positive look-ahead assertion is used when you want to find a match only if a certain condition exists ahead of the main pattern.\n",
        "\n",
        "Negative Look-Ahead ((?!...)):\n",
        "\n",
        "Syntax: (?!...)\n",
        "A negative look-ahead assertion is used to assert that a specific pattern must not be followed by another pattern without including the latter in the final match.\n",
        "\n",
        "It checks if the sub-pattern inside the negative look-ahead assertion is NOT present at a certain position in the input string.\n",
        "\n",
        "The look-ahead condition is satisfied if the sub-pattern is NOT found after the main pattern (i.e., the main pattern is NOT followed by the sub-pattern).\n",
        "\n",
        "The negative look-ahead assertion is used when you want to find a match only if a certain condition does NOT exist ahead of the main pattern."
      ],
      "metadata": {
        "id": "J_AqzKygyjuO"
      }
    },
    {
      "cell_type": "markdown",
      "source": [
        "##Q7. What is the benefit of referring to groups by name rather than by number in a standard expression?"
      ],
      "metadata": {
        "id": "MLwoV4eQyjyi"
      }
    },
    {
      "cell_type": "markdown",
      "source": [
        "Referring to groups by name in a standard expression provides several benefits compared to referring to groups by number:\n",
        "\n",
        "Readability and Clarity: Group names in regular expressions make the pattern more readable and self-explanatory. When you use descriptive names for groups, it becomes easier for others (and even yourself) to understand the purpose of each group within the pattern.\n",
        "\n",
        "Code Maintenance: When you modify or update the regular expression pattern, referring to groups by name makes the code more maintainable. If you change the order of the groups or add/remove groups, using names ensures that your code continues to work correctly, even if the group numbers change.\n",
        "\n",
        "Self-Documenting Code: Group names act as self-documenting elements within the regular expression. By naming groups, you add an additional level of documentation to your code, making it clear what each group represents.\n",
        "\n",
        "Context Independence: Group names are context-independent, which means that they remain the same regardless of the order of the groups in the pattern. On the other hand, referring to groups by number requires remembering the order of the groups, which can become confusing in more complex patterns.\n",
        "\n",
        "Avoiding Group Number Conflicts: If your regular expression pattern contains nested groups or repeating groups, using group names helps avoid conflicts when accessing groups with the same number."
      ],
      "metadata": {
        "id": "U3dn20_9yj2d"
      }
    },
    {
      "cell_type": "markdown",
      "source": [
        "##Q8. Can you identify repeated items within a target string using named groups, as in &quot;The cow jumped over the moon&quot;?"
      ],
      "metadata": {
        "id": "ULZDwfeZyj6W"
      }
    },
    {
      "cell_type": "markdown",
      "source": [
        "Yes, you can identify repeated items within a target string using named groups in Python's regular expressions. Named groups allow you to capture and label specific subpatterns within the target string.\n",
        "\n",
        "To identify repeated items, you can use the (?P<name>pattern) syntax to define named groups and then use the \\k<name> backreference to check if the same content is repeated later in the string. The \\k<name> backreference matches the same text that was previously matched by the name group"
      ],
      "metadata": {
        "id": "vZA7dlNgyj-T"
      }
    },
    {
      "cell_type": "markdown",
      "source": [
        "##Q9. When parsing a string, what is at least one thing that the Scanner interface does for you that the re.findall feature does not?"
      ],
      "metadata": {
        "id": "ALWZuWyvykCo"
      }
    },
    {
      "cell_type": "markdown",
      "source": [
        "The Scanner interface in Python's re module and the re.findall() function both serve the purpose of parsing a string and finding all occurrences of a pattern. However, the Scanner interface offers additional functionality that the re.findall() feature does not provide.\n",
        "\n",
        "One significant difference is that the Scanner interface allows you to perform more advanced and fine-grained parsing of the input string. It provides greater control over the matching process by allowing you to define multiple patterns and associated actions for each pattern, allowing you to handle different cases differently."
      ],
      "metadata": {
        "id": "LI49K60wykGm"
      }
    },
    {
      "cell_type": "markdown",
      "source": [
        "##Q10. Does a scanner object have to be named scanner?"
      ],
      "metadata": {
        "id": "wuqYqyfeykLA"
      }
    },
    {
      "cell_type": "markdown",
      "source": [
        "No, a Scanner object does not have to be named \"scanner.\" You can name the Scanner object with any valid variable name according to Python's naming rules and conventions.\n",
        "\n",
        "When creating a Scanner object using the re.Scanner() function, you assign it to a variable, and that variable becomes the name of the Scanner object. You can choose any name that is meaningful and descriptive, making it easier to understand the purpose of the Scanner object in your code"
      ],
      "metadata": {
        "id": "vQyr7qNaykO6"
      }
    }
  ]
}