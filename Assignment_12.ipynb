{
  "nbformat": 4,
  "nbformat_minor": 0,
  "metadata": {
    "colab": {
      "provenance": []
    },
    "kernelspec": {
      "name": "python3",
      "display_name": "Python 3"
    },
    "language_info": {
      "name": "python"
    }
  },
  "cells": [
    {
      "cell_type": "markdown",
      "source": [
        "##1. In what modes should the PdfFileReader() and PdfFileWriter() File objects will be opened?\n"
      ],
      "metadata": {
        "id": "dXu8vRhoOLI6"
      }
    },
    {
      "cell_type": "markdown",
      "source": [
        "These files will be opened in binary mode., read binary (rb) for PdfFileREader() and write binary (wb) PdfFileWriter()"
      ],
      "metadata": {
        "id": "dqwUcuzTOVEc"
      }
    },
    {
      "cell_type": "markdown",
      "source": [
        "##2. From a PdfFileReader object, how do you get a Page object for page 5?"
      ],
      "metadata": {
        "id": "IxOTibkxOX6_"
      }
    },
    {
      "cell_type": "markdown",
      "source": [
        "Calling getPage(4) will return a Page object for page 5\n",
        "\n",
        "```\n",
        "import PyPDF2 as pdf\n",
        "pdfFileObj = open(\"filename.pdf\",'rb')\n",
        "pdfReader = pdf.PdfFileReader(pdfFileObj)\n",
        "pageObj = pdfReader.getPage(4)\n",
        "pageObj.extractText()\n",
        "```\n",
        "\n"
      ],
      "metadata": {
        "id": "77QgZMd7OhOD"
      }
    },
    {
      "cell_type": "markdown",
      "source": [
        "##3. What PdfFileReader variable stores the number of pages in the PDF document?"
      ],
      "metadata": {
        "id": "Tby3rxafP2JB"
      }
    },
    {
      "cell_type": "markdown",
      "source": [
        "##Answer\n",
        "The PdfFileReader.numPages variable stores an integer of the number of pages in the PdfFileReader object\n",
        "\n",
        "```\n",
        "import PyPDF2 as pdf\n",
        "pdfFileObj = open(\"filename.pdf\",'rb')\n",
        "pdfReader = pdf.PdfFileReader(pdfFileObj)\n",
        "pdfReader.numPages\n",
        "```\n",
        "\n"
      ],
      "metadata": {
        "id": "_4gOSgnMP8t2"
      }
    },
    {
      "cell_type": "markdown",
      "source": [
        "##4. If a PdfFileReader object’s PDF is encrypted with the password swordfish, what must you do before you can obtain Page objects from it?"
      ],
      "metadata": {
        "id": "PHtdZkcKQMkG"
      }
    },
    {
      "cell_type": "markdown",
      "source": [
        "##Answer\n",
        "before we obtain the page object, the pdf has to be decrypted by calling .decrypt('swordfish')\n",
        "\n",
        "```\n",
        "pdfReader.decrypt('swordfish')\n",
        "```\n",
        "\n"
      ],
      "metadata": {
        "id": "DzSJq1igQMet"
      }
    },
    {
      "cell_type": "markdown",
      "source": [
        "##5. What methods do you use to rotate a page?"
      ],
      "metadata": {
        "id": "oaK6aSf2QjGs"
      }
    },
    {
      "cell_type": "markdown",
      "source": [
        "##Answer\n",
        "The rotateClockwise() and rotateCounterClockwise() methods. The degrees to rotate is passed as an integer argument"
      ],
      "metadata": {
        "id": "pp79zBiaQst2"
      }
    },
    {
      "cell_type": "markdown",
      "source": [
        "##6. What is the difference between a Run object and a Paragraph object?"
      ],
      "metadata": {
        "id": "vAXy1ZAHQ1de"
      }
    },
    {
      "cell_type": "markdown",
      "source": [
        "Paragraph Object :  A document contains multiple paragraphs. A paragraph begins on a new line and contains multiple \n",
        "runs. \n",
        "\n",
        "Run Object : Runs are contiguous groups of characters within a paragraph with the same style"
      ],
      "metadata": {
        "id": "lVFMtY4UQ76m"
      }
    },
    {
      "cell_type": "markdown",
      "source": [
        "##7. How do you obtain a list of Paragraph objects for a Document object that’s stored in a variable named doc?"
      ],
      "metadata": {
        "id": "1ORWxSuwRLSw"
      }
    },
    {
      "cell_type": "markdown",
      "source": [
        "\n",
        "By using doc.paragraphs\n",
        "\n",
        "\n",
        "```\n",
        "import docx\n",
        "doc = docx.Document('filename.docx')\n",
        "doc.paragraphs\n",
        "```\n",
        "\n"
      ],
      "metadata": {
        "id": "i4libIEbRUO4"
      }
    },
    {
      "cell_type": "markdown",
      "source": [
        "##8. What type of object has bold, underline, italic, strike, and outline variables?"
      ],
      "metadata": {
        "id": "mdbCxztlRh8G"
      }
    },
    {
      "cell_type": "markdown",
      "source": [
        "A Run object has bold, underline,italic,strike and outline variables"
      ],
      "metadata": {
        "id": "K8M8_lgxRnr_"
      }
    },
    {
      "cell_type": "markdown",
      "source": [
        "##9. What is the difference between False, True, and None for the bold variable?"
      ],
      "metadata": {
        "id": "MCoqF5rkRqhG"
      }
    },
    {
      "cell_type": "markdown",
      "source": [
        "##Answer\n",
        "\n",
        "\n",
        "True : the attribute is always enabled, no matter what other styles are applied to the run \n",
        "\n",
        "False : the attribute is always disabled\n",
        "\n",
        "None : defaults to whatever the run’s style is set to\n",
        "\n",
        "True always makes the Run object bolded and False makes it always not bolded, no matter what the style’s bold setting is. None will make the Run object just use the style’s bold setting"
      ],
      "metadata": {
        "id": "her8Ae1PR1le"
      }
    },
    {
      "cell_type": "markdown",
      "source": [
        "##10. How do you create a Document object for a new Word document?"
      ],
      "metadata": {
        "id": "IpnR9S7ASRye"
      }
    },
    {
      "cell_type": "markdown",
      "source": [
        "By Calling the docx.Document() function"
      ],
      "metadata": {
        "id": "BaisNqt5SV9d"
      }
    },
    {
      "cell_type": "markdown",
      "source": [
        "##11. How do you add a paragraph with the text &#39;Hello, there!&#39; to a Document object stored in a variable named doc?"
      ],
      "metadata": {
        "id": "Df-Gk8iDSY6g"
      }
    },
    {
      "cell_type": "markdown",
      "source": [
        "##Answer\n",
        "by using doc.add_paragraph\n",
        "\n",
        "```\n",
        "import docx\n",
        "doc = docx.Document()\n",
        "\n",
        "doc.add_paragraph('Hello there!')\n",
        "doc.save('hellothere.docx')\n",
        "```\n",
        "\n"
      ],
      "metadata": {
        "id": "_gHombi3SkaH"
      }
    },
    {
      "cell_type": "markdown",
      "source": [
        "##12. What integers represent the levels of headings available in Word documents?"
      ],
      "metadata": {
        "id": "8H0guCPYSywt"
      }
    },
    {
      "cell_type": "markdown",
      "source": [
        "##Answer\n",
        "integer from 0 to 4\n",
        "\n",
        "The integer 0 makes the heading the Title style, which is used for the top of the document. Integers 1 to 4 are for various heading levels, with 1 being the main heading and 4 the lowest subheading"
      ],
      "metadata": {
        "id": "uGFo-yyRS7lO"
      }
    }
  ]
}