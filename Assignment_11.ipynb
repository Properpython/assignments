{
  "nbformat": 4,
  "nbformat_minor": 0,
  "metadata": {
    "colab": {
      "provenance": []
    },
    "kernelspec": {
      "name": "python3",
      "display_name": "Python 3"
    },
    "language_info": {
      "name": "python"
    }
  },
  "cells": [
    {
      "cell_type": "markdown",
      "source": [
        "##1. Create an assert statement that throws an AssertionError if the variable spam is a negative integer."
      ],
      "metadata": {
        "id": "BBzH4v4gG-zs"
      }
    },
    {
      "cell_type": "code",
      "source": [
        "import pyinputplus as pyip\n",
        "\n",
        "spam = pyip.inputNum(\" Enter a positive number :\")\n",
        "assert spam > 0\n",
        "print(spam,'is a positive number')"
      ],
      "metadata": {
        "colab": {
          "base_uri": "https://localhost:8080/",
          "height": 235
        },
        "id": "gDa1Sj0bIAHT",
        "outputId": "5bea0679-19e0-44cb-fc72-13fe2829d6a5"
      },
      "execution_count": 3,
      "outputs": [
        {
          "name": "stdout",
          "output_type": "stream",
          "text": [
            " Enter a positive number :-5\n"
          ]
        },
        {
          "output_type": "error",
          "ename": "AssertionError",
          "evalue": "ignored",
          "traceback": [
            "\u001b[0;31m---------------------------------------------------------------------------\u001b[0m",
            "\u001b[0;31mAssertionError\u001b[0m                            Traceback (most recent call last)",
            "\u001b[0;32m<ipython-input-3-f0c2750e9055>\u001b[0m in \u001b[0;36m<module>\u001b[0;34m\u001b[0m\n\u001b[1;32m      2\u001b[0m \u001b[0;34m\u001b[0m\u001b[0m\n\u001b[1;32m      3\u001b[0m \u001b[0mspam\u001b[0m \u001b[0;34m=\u001b[0m \u001b[0mpyip\u001b[0m\u001b[0;34m.\u001b[0m\u001b[0minputNum\u001b[0m\u001b[0;34m(\u001b[0m\u001b[0;34m\" Enter a positive number :\"\u001b[0m\u001b[0;34m)\u001b[0m\u001b[0;34m\u001b[0m\u001b[0;34m\u001b[0m\u001b[0m\n\u001b[0;32m----> 4\u001b[0;31m \u001b[0;32massert\u001b[0m \u001b[0mspam\u001b[0m \u001b[0;34m>\u001b[0m \u001b[0;36m0\u001b[0m\u001b[0;34m\u001b[0m\u001b[0;34m\u001b[0m\u001b[0m\n\u001b[0m\u001b[1;32m      5\u001b[0m \u001b[0mprint\u001b[0m\u001b[0;34m(\u001b[0m\u001b[0mspam\u001b[0m\u001b[0;34m,\u001b[0m\u001b[0;34m'is a positive number'\u001b[0m\u001b[0;34m)\u001b[0m\u001b[0;34m\u001b[0m\u001b[0;34m\u001b[0m\u001b[0m\n",
            "\u001b[0;31mAssertionError\u001b[0m: "
          ]
        }
      ]
    },
    {
      "cell_type": "markdown",
      "source": [],
      "metadata": {
        "id": "J-rMAFbdHD-y"
      }
    },
    {
      "cell_type": "markdown",
      "source": [
        "##2. Write an assert statement that triggers an AssertionError if the variables eggs and bacon contain strings that are the same as each other, even if their cases are different (that is, &#39;hello&#39; and &#39;hello&#39; are considered the same, and &#39;goodbye&#39; and &#39;GOODbye&#39; are also considered the same)."
      ],
      "metadata": {
        "id": "5zy7L1GPIgtC"
      }
    },
    {
      "cell_type": "code",
      "execution_count": 4,
      "metadata": {
        "colab": {
          "base_uri": "https://localhost:8080/",
          "height": 218
        },
        "id": "GGz653P5G5f4",
        "outputId": "1a1f0d73-143b-440b-92cf-ab4e35c36d09"
      },
      "outputs": [
        {
          "output_type": "error",
          "ename": "AssertionError",
          "evalue": "ignored",
          "traceback": [
            "\u001b[0;31m---------------------------------------------------------------------------\u001b[0m",
            "\u001b[0;31mAssertionError\u001b[0m                            Traceback (most recent call last)",
            "\u001b[0;32m<ipython-input-4-bad66b45e9cc>\u001b[0m in \u001b[0;36m<module>\u001b[0;34m\u001b[0m\n\u001b[1;32m      2\u001b[0m \u001b[0mbacon\u001b[0m \u001b[0;34m=\u001b[0m\u001b[0;34m'goodbye'\u001b[0m\u001b[0;34m\u001b[0m\u001b[0;34m\u001b[0m\u001b[0m\n\u001b[1;32m      3\u001b[0m \u001b[0;34m\u001b[0m\u001b[0m\n\u001b[0;32m----> 4\u001b[0;31m \u001b[0;32massert\u001b[0m \u001b[0meggs\u001b[0m\u001b[0;34m.\u001b[0m\u001b[0mlower\u001b[0m\u001b[0;34m(\u001b[0m\u001b[0;34m)\u001b[0m \u001b[0;34m!=\u001b[0m \u001b[0mbacon\u001b[0m\u001b[0;34m.\u001b[0m\u001b[0mlower\u001b[0m\u001b[0;34m(\u001b[0m\u001b[0;34m)\u001b[0m \u001b[0;32mor\u001b[0m \u001b[0meggs\u001b[0m\u001b[0;34m.\u001b[0m\u001b[0mupper\u001b[0m\u001b[0;34m(\u001b[0m\u001b[0;34m)\u001b[0m \u001b[0;34m!=\u001b[0m \u001b[0mbacon\u001b[0m\u001b[0;34m.\u001b[0m\u001b[0mupper\u001b[0m\u001b[0;34m(\u001b[0m\u001b[0;34m)\u001b[0m\u001b[0;34m\u001b[0m\u001b[0;34m\u001b[0m\u001b[0m\n\u001b[0m\u001b[1;32m      5\u001b[0m \u001b[0mprint\u001b[0m\u001b[0;34m(\u001b[0m\u001b[0;34m'The eggs and bacon variables are not the same!'\u001b[0m\u001b[0;34m)\u001b[0m\u001b[0;34m\u001b[0m\u001b[0;34m\u001b[0m\u001b[0m\n",
            "\u001b[0;31mAssertionError\u001b[0m: "
          ]
        }
      ],
      "source": [
        "eggs='GOODbye'\n",
        "bacon ='goodbye'\n",
        "\n",
        "assert eggs.lower() != bacon.lower() or eggs.upper() != bacon.upper()\n",
        "print('The eggs and bacon variables are not the same!')"
      ]
    },
    {
      "cell_type": "markdown",
      "source": [
        "##3. Create an assert statement that throws an AssertionError every time."
      ],
      "metadata": {
        "id": "stdCZe0sJba1"
      }
    },
    {
      "cell_type": "code",
      "source": [
        "assert False"
      ],
      "metadata": {
        "colab": {
          "base_uri": "https://localhost:8080/",
          "height": 166
        },
        "id": "Jt3RpZOtJNR9",
        "outputId": "01872f86-23ea-4034-d3a3-9876d642a2f0"
      },
      "execution_count": 5,
      "outputs": [
        {
          "output_type": "error",
          "ename": "AssertionError",
          "evalue": "ignored",
          "traceback": [
            "\u001b[0;31m---------------------------------------------------------------------------\u001b[0m",
            "\u001b[0;31mAssertionError\u001b[0m                            Traceback (most recent call last)",
            "\u001b[0;32m<ipython-input-5-a871fdc9ebee>\u001b[0m in \u001b[0;36m<module>\u001b[0;34m\u001b[0m\n\u001b[0;32m----> 1\u001b[0;31m \u001b[0;32massert\u001b[0m \u001b[0;32mFalse\u001b[0m\u001b[0;34m\u001b[0m\u001b[0;34m\u001b[0m\u001b[0m\n\u001b[0m",
            "\u001b[0;31mAssertionError\u001b[0m: "
          ]
        }
      ]
    },
    {
      "cell_type": "markdown",
      "source": [
        "##4. What are the two lines that must be present in your software in order to call logging.debug()?"
      ],
      "metadata": {
        "id": "ItbzMFkXJmqd"
      }
    },
    {
      "cell_type": "markdown",
      "source": [
        "##Answer\n",
        " to call logging.debug() function, \n",
        "\n",
        "import logging \n",
        "\n",
        "logging.basicConfig(level=logging.DEBUG, format=' %(asctime)s - %(levelname)s - %(message)s')"
      ],
      "metadata": {
        "id": "7WqacJbFJv2G"
      }
    },
    {
      "cell_type": "code",
      "source": [
        "import logging as lg\n",
        "lg.basicConfig(level=lg.DEBUG, format=' %(asctime)s - %(levelname)s - %(message)s')"
      ],
      "metadata": {
        "id": "xmtkbfYaJjSk"
      },
      "execution_count": 6,
      "outputs": []
    },
    {
      "cell_type": "markdown",
      "source": [
        "##5. What are the two lines that your program must have in order to have logging.debug() send a logging message to a file named programLog.txt?"
      ],
      "metadata": {
        "id": "FYcQyWg9KDcV"
      }
    },
    {
      "cell_type": "code",
      "source": [
        "import logging as lg\n",
        "lg.basicConfig(filename='programLog.txt', level=lg.DEBUG, format=' %(asctime)s - %(levelname)s - %(message)s')"
      ],
      "metadata": {
        "id": "tfTshK2JJ9JN"
      },
      "execution_count": 7,
      "outputs": []
    },
    {
      "cell_type": "markdown",
      "source": [
        "##6. What are the five levels of logging?"
      ],
      "metadata": {
        "id": "KaYodOcNKbFT"
      }
    },
    {
      "cell_type": "markdown",
      "source": [
        "##Answer\n",
        "Five levels of loggings are debug, info, warning, error, critical \n",
        "\n",
        "logging.debug() - variable's state and small details\n",
        "\n",
        "logging.info() - general events, confirm a program is working\n",
        "\n",
        "logging.warning() - potiental problem to work on in the future\n",
        "\n",
        "logging.error() - record an error that caused program to fail to do something\n",
        "\n",
        "logging.critical() - fatal error that has caused\n"
      ],
      "metadata": {
        "id": "AoF_LiEcKdi9"
      }
    },
    {
      "cell_type": "markdown",
      "source": [
        "##7. What line of code would you add to your software to disable all logging messages?"
      ],
      "metadata": {
        "id": "gOdxU1U2LFYR"
      }
    },
    {
      "cell_type": "code",
      "source": [
        "import logging as lg\n",
        "lg.disable(lg.CRITICAL)\n",
        "#since CRITICAL being the highest level , every other level loggings will be disabled."
      ],
      "metadata": {
        "id": "mXKapS4dKW8j"
      },
      "execution_count": 9,
      "outputs": []
    },
    {
      "cell_type": "markdown",
      "source": [
        "##8.Why is using logging messages better than using print() to display the same message?"
      ],
      "metadata": {
        "id": "KUcpAmr_Lfeq"
      }
    },
    {
      "cell_type": "markdown",
      "source": [
        "##Answer\n",
        "You can disable logging messages without removing the logging function calls. \n",
        "\n",
        "You can selectively disable lower-level logging messages. \n",
        "\n",
        "You can create logging messages. Logging messages provides a timestamp."
      ],
      "metadata": {
        "id": "xPYn0A9oLzR2"
      }
    },
    {
      "cell_type": "markdown",
      "source": [
        "##9. What are the differences between the Step Over, Step In, and Step Out buttons in the debugger?"
      ],
      "metadata": {
        "id": "oRSW6ifYL8Rv"
      }
    },
    {
      "cell_type": "markdown",
      "source": [
        "The step Over button will quickly execute the function call without stepping into it. \n",
        "\n",
        "The Step in button will move the debugger into a function call. \n",
        "\n",
        "The step Out button will quickly execute the rest of the code until it steps out of the function it currently is in."
      ],
      "metadata": {
        "id": "0TUxApDEMCyX"
      }
    },
    {
      "cell_type": "markdown",
      "source": [
        "##10.After you click Continue, when will the debugger stop ?"
      ],
      "metadata": {
        "id": "0VYf4PYOMWZd"
      }
    },
    {
      "cell_type": "markdown",
      "source": [
        "##Answer\n",
        "It will stops at next breakpoint, if there are no further breakpoints program will be fully executed"
      ],
      "metadata": {
        "id": "So4HzQNFMdZ9"
      }
    },
    {
      "cell_type": "markdown",
      "source": [
        "##11. What is the concept of a breakpoint?"
      ],
      "metadata": {
        "id": "uycsnomuMhpH"
      }
    },
    {
      "cell_type": "markdown",
      "source": [
        "##Answer\n",
        "The breakpoint () function engages, configures, and changes the debugger program used in a script. When a breakpoint is reached, it triggers a pause in the execution of the program, allowing the programmer to examine and debug the current state of the code."
      ],
      "metadata": {
        "id": "DTU10fnlMsn3"
      }
    },
    {
      "cell_type": "code",
      "source": [],
      "metadata": {
        "id": "Gq4fipQuLTZC"
      },
      "execution_count": null,
      "outputs": []
    }
  ]
}