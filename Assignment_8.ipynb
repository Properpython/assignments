{
  "nbformat": 4,
  "nbformat_minor": 0,
  "metadata": {
    "colab": {
      "provenance": []
    },
    "kernelspec": {
      "name": "python3",
      "display_name": "Python 3"
    },
    "language_info": {
      "name": "python"
    }
  },
  "cells": [
    {
      "cell_type": "markdown",
      "source": [
        "##1. Is the Python Standard Library included with PyInputPlus?"
      ],
      "metadata": {
        "id": "s2-FI_FCC4KL"
      }
    },
    {
      "cell_type": "markdown",
      "source": [
        "##Answer\n",
        "\n",
        "PyInputPlus is not a part of the Python Standard Library, so we must install it separately.\n",
        "\n",
        "```\n",
        "!pip install  PyInputPlus\n",
        "```\n",
        "\n"
      ],
      "metadata": {
        "id": "F70CzKxCDgBY"
      }
    },
    {
      "cell_type": "markdown",
      "source": [
        "##2. Why is PyInputPlus commonly imported with import pyinputplus as pypi?"
      ],
      "metadata": {
        "id": "gFhz9Q-uDt0b"
      }
    },
    {
      "cell_type": "markdown",
      "source": [
        "##Answer\n",
        "pypi is alias of PyInputPlus.\n",
        "\n",
        "The pyip code in the import statement saves us from typing pyinputplus each time when we want to call PyInputPlus function. \n",
        "\n",
        "Instead we can use the shorter pyip name\n"
      ],
      "metadata": {
        "id": "zJiZOR4lD1ut"
      }
    },
    {
      "cell_type": "markdown",
      "source": [
        "##3. How do you distinguish between inputInt() and inputFloat()?"
      ],
      "metadata": {
        "id": "rdkl-HASELKl"
      }
    },
    {
      "cell_type": "markdown",
      "source": [
        "##Answer\n",
        "inputInt() : Accepts an integer value, and returns int value\n",
        "\n",
        "inputFloat() : Accepts integer/floating point value and returns float value\n",
        "\n",
        "Both takes additional parameters ‘min’, ‘max’, ‘greaterThan’ and ‘lessThan’  for bounds"
      ],
      "metadata": {
        "id": "qM7k6zDZEkYZ"
      }
    },
    {
      "cell_type": "markdown",
      "source": [
        "##4. Using PyInputPlus, how do you ensure that the user enters a whole number between 0 and 99?"
      ],
      "metadata": {
        "id": "V0STXtVHH4pB"
      }
    },
    {
      "cell_type": "markdown",
      "source": [
        "##Answer\n",
        "In the inputint function we can set the min = 0 and max =99 to ensure user enters number between 0 and 99"
      ],
      "metadata": {
        "id": "jwYnh3QbIAwQ"
      }
    },
    {
      "cell_type": "code",
      "execution_count": 4,
      "metadata": {
        "colab": {
          "base_uri": "https://localhost:8080/"
        },
        "id": "qC6bGrETC0gl",
        "outputId": "9b034c15-41c3-4373-8805-a41ffb1ea288"
      },
      "outputs": [
        {
          "name": "stdout",
          "output_type": "stream",
          "text": [
            "34\n"
          ]
        },
        {
          "output_type": "execute_result",
          "data": {
            "text/plain": [
              "34"
            ]
          },
          "metadata": {},
          "execution_count": 4
        }
      ],
      "source": [
        "import  pyinputplus as pyip\n",
        "pyip.inputInt(min = 0, max =99)"
      ]
    },
    {
      "cell_type": "markdown",
      "source": [
        "##5. What is transferred to the keyword arguments allowRegexes and blockRegexes?"
      ],
      "metadata": {
        "id": "2O876jYXI5NK"
      }
    },
    {
      "cell_type": "markdown",
      "source": [
        "##Answer\n",
        " The allowRegexes and blockRegexes \n",
        "keyword arguments take a list of regular expression strings to determine what the PyInputPlus function will accept or \n",
        "reject as valid input."
      ],
      "metadata": {
        "id": "1kapshdlJFxC"
      }
    },
    {
      "cell_type": "code",
      "source": [
        "#allows roman numbers as numbers\n",
        "response = pyip.inputNum(allowRegexes=[r'(I|V|X|L|C|D|M)+', r'zero'])"
      ],
      "metadata": {
        "colab": {
          "base_uri": "https://localhost:8080/"
        },
        "id": "HwLDtvTeIGNF",
        "outputId": "5f51d637-e54a-4ad3-8592-43039e510785"
      },
      "execution_count": 5,
      "outputs": [
        {
          "name": "stdout",
          "output_type": "stream",
          "text": [
            "I\n"
          ]
        }
      ]
    },
    {
      "cell_type": "code",
      "source": [
        "#blocks the odd numbers\n",
        "response = pyip.inputNum(blockRegexes=[r'[13759]$'])"
      ],
      "metadata": {
        "colab": {
          "base_uri": "https://localhost:8080/"
        },
        "id": "OZNsVVq3JcX0",
        "outputId": "adce53e0-0211-42f8-8e16-3f6d22a447a5"
      },
      "execution_count": 7,
      "outputs": [
        {
          "name": "stdout",
          "output_type": "stream",
          "text": [
            "23\n",
            "This response is invalid.\n",
            "31\n",
            "This response is invalid.\n",
            "46\n"
          ]
        }
      ]
    },
    {
      "cell_type": "markdown",
      "source": [
        "##6. If a blank input is entered three times, what does inputStr(limit=3) do?"
      ],
      "metadata": {
        "id": "pZn-BphkJ4I7"
      }
    },
    {
      "cell_type": "markdown",
      "source": [
        "##Answer\n",
        "it will throw RetryLimitException exception."
      ],
      "metadata": {
        "id": "sRE5XCQgKp6t"
      }
    },
    {
      "cell_type": "markdown",
      "source": [
        "##7. If blank input is entered three times, what does inputStr(limit=3, default=&#39;hello&#39;) do?"
      ],
      "metadata": {
        "id": "U5QNaIq0KvKY"
      }
    },
    {
      "cell_type": "markdown",
      "source": [
        "##Answer\n",
        "When you use limit keyword arguments and also pass a default keyword argument, the function returns the default value instead of raising an exception"
      ],
      "metadata": {
        "id": "yVfTlH8VK7ct"
      }
    },
    {
      "cell_type": "code",
      "source": [],
      "metadata": {
        "id": "Lo-pcn4LK_DM"
      },
      "execution_count": null,
      "outputs": []
    }
  ]
}