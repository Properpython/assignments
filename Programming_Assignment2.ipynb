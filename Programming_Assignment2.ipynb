{
  "nbformat": 4,
  "nbformat_minor": 0,
  "metadata": {
    "colab": {
      "provenance": []
    },
    "kernelspec": {
      "name": "python3",
      "display_name": "Python 3"
    },
    "language_info": {
      "name": "python"
    }
  },
  "cells": [
    {
      "cell_type": "markdown",
      "source": [
        "##1. Write a Python program to convert kilometers to miles?"
      ],
      "metadata": {
        "id": "ODFrKvJ9YElc"
      }
    },
    {
      "cell_type": "code",
      "execution_count": 2,
      "metadata": {
        "colab": {
          "base_uri": "https://localhost:8080/"
        },
        "id": "UWSmSBhHYDcG",
        "outputId": "bcb95995-5c20-4350-f929-5b9fc729bfe5"
      },
      "outputs": [
        {
          "output_type": "stream",
          "name": "stdout",
          "text": [
            "4 kilometres is equal to 2.48548476896 miles.\n"
          ]
        }
      ],
      "source": [
        "kilometres=4\n",
        "a= 0.62137119224\n",
        "miles=kilometres*a\n",
        "print(f'{kilometres} kilometres is equal to {miles} miles.')"
      ]
    },
    {
      "cell_type": "markdown",
      "source": [
        "##2. Write a Python program to convert Celsius to Fahrenheit?"
      ],
      "metadata": {
        "id": "m8DNvnvXZLqZ"
      }
    },
    {
      "cell_type": "code",
      "source": [
        "celsius=int(input(\"enter the value: \"))\n",
        "farenheit=(celsius*1.8) + 32\n",
        "print(f'{celsius} degree celsius is equal to {farenheit} degrees of farenheit')"
      ],
      "metadata": {
        "colab": {
          "base_uri": "https://localhost:8080/"
        },
        "id": "HPqarSGNY-I7",
        "outputId": "a7244f2c-7ad3-4edd-876c-44d4800f1d1b"
      },
      "execution_count": 6,
      "outputs": [
        {
          "output_type": "stream",
          "name": "stdout",
          "text": [
            "enter the value: 37\n",
            "37 degree celsius is equal to 98.60000000000001 degrees of farenheit\n"
          ]
        }
      ]
    },
    {
      "cell_type": "markdown",
      "source": [
        "##3. Write a Python program to display calendar?"
      ],
      "metadata": {
        "id": "cyrNk73MaXS0"
      }
    },
    {
      "cell_type": "code",
      "source": [
        "import calendar\n",
        "a=2023\n",
        "b=2\n",
        "print(calendar.month(a,b))\n"
      ],
      "metadata": {
        "colab": {
          "base_uri": "https://localhost:8080/"
        },
        "id": "yFz7plIGaDTb",
        "outputId": "2ec9d1ed-0062-4242-9226-c7695f2c45f4"
      },
      "execution_count": 7,
      "outputs": [
        {
          "output_type": "stream",
          "name": "stdout",
          "text": [
            "   February 2023\n",
            "Mo Tu We Th Fr Sa Su\n",
            "       1  2  3  4  5\n",
            " 6  7  8  9 10 11 12\n",
            "13 14 15 16 17 18 19\n",
            "20 21 22 23 24 25 26\n",
            "27 28\n",
            "\n"
          ]
        }
      ]
    },
    {
      "cell_type": "markdown",
      "source": [
        "##4. Write a Python program to solve quadratic equation?"
      ],
      "metadata": {
        "id": "RdSsdMfra7Bn"
      }
    },
    {
      "cell_type": "code",
      "source": [
        "import cmath\n",
        "a=1\n",
        "b=5\n",
        "c=6\n",
        "d = (b**2) - (4*a*c)\n",
        "sol1 = (-b-cmath.sqrt(d))/(2*a)\n",
        "sol2 = (-b+cmath.sqrt(d))/(2*a)\n",
        "print(f'the solutions are {sol1} and {sol2}')"
      ],
      "metadata": {
        "colab": {
          "base_uri": "https://localhost:8080/"
        },
        "id": "u8SyxYO4a1f7",
        "outputId": "b010c974-487b-4235-e115-dee34f05465a"
      },
      "execution_count": 8,
      "outputs": [
        {
          "output_type": "stream",
          "name": "stdout",
          "text": [
            "the solutions are (-3+0j) and (-2+0j)\n"
          ]
        }
      ]
    },
    {
      "cell_type": "markdown",
      "source": [
        "##5. Write a Python program to swap two variables without temp variable?"
      ],
      "metadata": {
        "id": "CFZ09Huwb9To"
      }
    },
    {
      "cell_type": "code",
      "source": [
        "x=int(input(\"enter the x value: \"))\n",
        "y=int(input(\"enter the y value: \"))\n",
        "x = x + y\n",
        "y = x - y\n",
        "x = x - y\n",
        "print(f\"the value of x is {x} and the value of y is {y}\")"
      ],
      "metadata": {
        "colab": {
          "base_uri": "https://localhost:8080/"
        },
        "id": "cLkDOxKtb3AL",
        "outputId": "b7da5efa-947c-4436-acfd-e77ee986f9c5"
      },
      "execution_count": 10,
      "outputs": [
        {
          "output_type": "stream",
          "name": "stdout",
          "text": [
            "enter the x value: 5\n",
            "enter the y value: 10\n",
            "the value of x is 10 and the value of y is 5\n"
          ]
        }
      ]
    }
  ]
}