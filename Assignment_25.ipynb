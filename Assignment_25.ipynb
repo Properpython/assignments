{
  "nbformat": 4,
  "nbformat_minor": 0,
  "metadata": {
    "colab": {
      "provenance": []
    },
    "kernelspec": {
      "name": "python3",
      "display_name": "Python 3"
    },
    "language_info": {
      "name": "python"
    }
  },
  "cells": [
    {
      "cell_type": "markdown",
      "source": [
        "##1) . What is the difference between enclosing a list comprehension in square brackets and parentheses?"
      ],
      "metadata": {
        "id": "p6nj6svrlTrQ"
      }
    },
    {
      "cell_type": "markdown",
      "source": [
        "##Answer\n",
        "Square brackets are lists while parentheses are tuples.\n",
        "lists are mutable and tuples are not.\n"
      ],
      "metadata": {
        "id": "pDkJFtnJlj4P"
      }
    },
    {
      "cell_type": "markdown",
      "source": [
        "##2) What is the relationship between generators and iterators?"
      ],
      "metadata": {
        "id": "WbP25mukmIi9"
      }
    },
    {
      "cell_type": "markdown",
      "source": [
        "##Answer\n",
        "###iterator\n",
        "An iterator is an object which contains a countable number of values and it is used to iterate over iterable objects like list, tuples, sets, etc. Iterators are implemented using a class and a local variable for iterating is not required her.\n",
        "\n",
        "###generator\n",
        "\n",
        "It is another way of creating iterators in a simple way where it uses the keyword “yield” instead of returning it in a defined function. Generators are implemented using a function. Just as iterators, generators also follow lazy evaluation. Here, the yield function returns the data without affecting or exiting the function. It will return a sequence of data in an iterable format where we need to iterate over the sequence to use the data as they won’t store the entire sequence in the memory."
      ],
      "metadata": {
        "id": "jBrbUbLqmKK8"
      }
    },
    {
      "cell_type": "markdown",
      "source": [
        "##3) What are the signs that a function is a generator function?"
      ],
      "metadata": {
        "id": "FWnhsQrfnCA3"
      }
    },
    {
      "cell_type": "markdown",
      "source": [
        "##Answer\n",
        "It is as easy as defining a normal function, but with a yield statement instead of a return statement. If a function contains at least one yield statement, it becomes a generator function."
      ],
      "metadata": {
        "id": "XAq2RLD8nORd"
      }
    },
    {
      "cell_type": "markdown",
      "source": [
        "##4) What is the purpose of a yield statement?"
      ],
      "metadata": {
        "id": "v0ueX2EFnS3Y"
      }
    },
    {
      "cell_type": "markdown",
      "source": [
        "##Answer\n",
        "The yield statement suspends a function’s execution and sends a value back to the caller, but retains enough state to enable the function to resume where it left off. When the function resumes, it continues execution immediately after the last yield run.\n"
      ],
      "metadata": {
        "id": "s5OmSl8gndxt"
      }
    },
    {
      "cell_type": "markdown",
      "source": [
        "##5) What is the relationship between map calls and list comprehensions? Make a comparison and contrast between the two."
      ],
      "metadata": {
        "id": "QzkCyUTcniTU"
      }
    },
    {
      "cell_type": "markdown",
      "source": [
        "##Answer\n",
        "List comprehension are used when a list of results is required as map only returns a map object and does not return any list. List comprehension is faster than map when we need to evaluate expressions that are too long or complicated to express Map is faster in case of calling an already defined function "
      ],
      "metadata": {
        "id": "CmPSsfn6nxiq"
      }
    },
    {
      "cell_type": "code",
      "execution_count": null,
      "metadata": {
        "id": "wrDdAREyk5I2"
      },
      "outputs": [],
      "source": []
    }
  ]
}