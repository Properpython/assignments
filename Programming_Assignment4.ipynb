{
  "nbformat": 4,
  "nbformat_minor": 0,
  "metadata": {
    "colab": {
      "provenance": []
    },
    "kernelspec": {
      "name": "python3",
      "display_name": "Python 3"
    },
    "language_info": {
      "name": "python"
    }
  },
  "cells": [
    {
      "cell_type": "markdown",
      "source": [
        "##1. Write a Python Program to Find the Factorial of a Number?"
      ],
      "metadata": {
        "id": "TnYDau-3CEDU"
      }
    },
    {
      "cell_type": "code",
      "execution_count": 1,
      "metadata": {
        "colab": {
          "base_uri": "https://localhost:8080/"
        },
        "id": "1plYXLSKB5YV",
        "outputId": "28f75571-07af-45d0-efe1-d3f478330721"
      },
      "outputs": [
        {
          "output_type": "stream",
          "name": "stdout",
          "text": [
            "enter the number: 5\n",
            "The factorial of 5 is 120\n"
          ]
        }
      ],
      "source": [
        "num=int(input(\"enter the number: \"))\n",
        "factorial=1\n",
        "if num < 0:\n",
        "   print(\" factorial does not exist\")\n",
        "elif num == 0:\n",
        "   print(\"The factorial of 0 is 1\")\n",
        "else:\n",
        "   for i in range(1,num + 1):\n",
        "       factorial = factorial*i\n",
        "   print(\"The factorial of\",num,\"is\",factorial)"
      ]
    },
    {
      "cell_type": "markdown",
      "source": [
        "##2. Write a Python Program to Display the multiplication Table?"
      ],
      "metadata": {
        "id": "-hRN9VGECx7t"
      }
    },
    {
      "cell_type": "code",
      "source": [
        "num=int(input(\"enter the number: \"))\n",
        "for i in range(1,11):\n",
        "  print(num,\"x\",i,\"=\",num*i)"
      ],
      "metadata": {
        "colab": {
          "base_uri": "https://localhost:8080/"
        },
        "id": "tW_6plizCmLh",
        "outputId": "769401cf-193e-4463-8e35-fb71e76b301a"
      },
      "execution_count": 2,
      "outputs": [
        {
          "output_type": "stream",
          "name": "stdout",
          "text": [
            "enter the number: 10\n",
            "10 x 1 = 10\n",
            "10 x 2 = 20\n",
            "10 x 3 = 30\n",
            "10 x 4 = 40\n",
            "10 x 5 = 50\n",
            "10 x 6 = 60\n",
            "10 x 7 = 70\n",
            "10 x 8 = 80\n",
            "10 x 9 = 90\n",
            "10 x 10 = 100\n"
          ]
        }
      ]
    },
    {
      "cell_type": "markdown",
      "source": [
        "3. Write a Python Program to Print the Fibonacci sequence?"
      ],
      "metadata": {
        "id": "ze4KFcRzDYYq"
      }
    },
    {
      "cell_type": "code",
      "source": [
        "num=int(input(\"enter till how many terms: \"))\n",
        "num1,num2=0,1\n",
        "count=0\n",
        "if num <= 0:\n",
        "   print(\"Please enter a positive integer\")\n",
        "elif num == 1:\n",
        "   print(\"Fibonacci sequence upto\",num,\":\")\n",
        "   print(num1)\n",
        "else:\n",
        "   print(\"Fibonacci sequence:\")\n",
        "   while count < num:\n",
        "       print(num1)\n",
        "       nth = num1 + num2\n",
        "       num1 = num2\n",
        "       num2 = nth\n",
        "       count += 1\n"
      ],
      "metadata": {
        "colab": {
          "base_uri": "https://localhost:8080/"
        },
        "id": "5L3GOteXDT3g",
        "outputId": "6a214172-0b20-4d2d-af47-94737a20a5f2"
      },
      "execution_count": 4,
      "outputs": [
        {
          "output_type": "stream",
          "name": "stdout",
          "text": [
            "enter till how many terms: 7\n",
            "Fibonacci sequence:\n",
            "0\n",
            "1\n",
            "1\n",
            "2\n",
            "3\n",
            "5\n",
            "8\n"
          ]
        }
      ]
    },
    {
      "cell_type": "markdown",
      "source": [
        "##4. Write a Python Program to Check Armstrong Number?"
      ],
      "metadata": {
        "id": "FLSp74EUEoMW"
      }
    },
    {
      "cell_type": "code",
      "source": [
        "num = int(input(\"Enter a number: \"))\n",
        "sum = 0\n",
        "temp = num\n",
        "while temp > 0:\n",
        "   digit = temp % 10\n",
        "   sum += digit ** 3\n",
        "   temp //= 10\n",
        "if num == sum:\n",
        "   print(num,\"is an Armstrong number\")\n",
        "else:\n",
        "   print(num,\"is not an Armstrong number\")"
      ],
      "metadata": {
        "colab": {
          "base_uri": "https://localhost:8080/"
        },
        "id": "YWLPtmHJEdWo",
        "outputId": "d649b77e-5db6-4f9a-b002-e13e0a1467a9"
      },
      "execution_count": 5,
      "outputs": [
        {
          "output_type": "stream",
          "name": "stdout",
          "text": [
            "Enter a number: 153\n",
            "153 is an Armstrong number\n"
          ]
        }
      ]
    },
    {
      "cell_type": "markdown",
      "source": [
        "##5. Write a Python Program to Find Armstrong Number in an Interval?"
      ],
      "metadata": {
        "id": "pl7XXlmIFII7"
      }
    },
    {
      "cell_type": "code",
      "source": [
        "lower = 100\n",
        "upper = 2000\n",
        "\n",
        "for num in range(lower, upper + 1):\n",
        "   order = len(str(num))\n",
        "   sum = 0\n",
        "\n",
        "   temp = num\n",
        "   while temp > 0:\n",
        "       digit = temp % 10\n",
        "       sum += digit ** order\n",
        "       temp //= 10\n",
        "\n",
        "   if num == sum:\n",
        "       print(num)\n"
      ],
      "metadata": {
        "colab": {
          "base_uri": "https://localhost:8080/"
        },
        "id": "FoTQQOr4FEIR",
        "outputId": "8286302e-e74b-46ee-ae23-fc50324d0631"
      },
      "execution_count": 7,
      "outputs": [
        {
          "output_type": "stream",
          "name": "stdout",
          "text": [
            "153\n",
            "370\n",
            "371\n",
            "407\n",
            "1634\n"
          ]
        }
      ]
    },
    {
      "cell_type": "markdown",
      "source": [
        "##6. Write a Python Program to Find the Sum of Natural Numbers?"
      ],
      "metadata": {
        "id": "7o71jILpFwy5"
      }
    },
    {
      "cell_type": "code",
      "source": [
        "num=int(input(\"enter the number: \"))\n",
        "if num < 0:\n",
        "   print(\"Enter a positive number\")\n",
        "else:\n",
        "   sum = 0\n",
        "   # use while loop to iterate until zero\n",
        "   while(num > 0):\n",
        "       sum += num\n",
        "       num -= 1\n",
        "   print(\"The sum is\", sum)"
      ],
      "metadata": {
        "colab": {
          "base_uri": "https://localhost:8080/"
        },
        "id": "vppcF8jEFlLV",
        "outputId": "9efa5634-75ce-4640-a160-85b8f8bb920c"
      },
      "execution_count": 8,
      "outputs": [
        {
          "output_type": "stream",
          "name": "stdout",
          "text": [
            "enter the number: 10\n",
            "The sum is 55\n"
          ]
        }
      ]
    }
  ]
}