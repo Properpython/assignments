{
  "nbformat": 4,
  "nbformat_minor": 0,
  "metadata": {
    "colab": {
      "provenance": []
    },
    "kernelspec": {
      "name": "python3",
      "display_name": "Python 3"
    },
    "language_info": {
      "name": "python"
    }
  },
  "cells": [
    {
      "cell_type": "markdown",
      "source": [
        "##1. What is the concept of an abstract superclass?\n"
      ],
      "metadata": {
        "id": "c96qT7SHcJjq"
      }
    },
    {
      "cell_type": "markdown",
      "source": [
        "###An abstract class can be considered as a blueprint for other classes. It allows you to create a set of methods that must be created within any child classes built from the abstract class. A class which contains one or more abstract methods is called an abstract class"
      ],
      "metadata": {
        "id": "gSjjejzAdPiB"
      }
    },
    {
      "cell_type": "markdown",
      "source": [
        "##2. What happens when a class statement&#39;s top level contains a basic assignment statement?"
      ],
      "metadata": {
        "id": "L3ylCNSTdUsp"
      }
    },
    {
      "cell_type": "markdown",
      "source": [
        "### the compiler picks the function because a class is never called with its base name.. if you remove the void test(), you may likely get an undefined function.... it is not ambigue because the two are always called by diffent contexts"
      ],
      "metadata": {
        "id": "y5ZUQpz1dvzp"
      }
    },
    {
      "cell_type": "markdown",
      "source": [
        "##3. Why does a class need to manually call a superclass&#39;s __init__ method?"
      ],
      "metadata": {
        "id": "8hZsElOfdzdD"
      }
    },
    {
      "cell_type": "markdown",
      "source": [
        "###In object-oriented programming, when you create a class that inherits from another class (also known as a subclass or derived class), it is common to override or extend the functionality of the superclass (also known as the base class or parent class). In Python, when you define an __init__ method in a subclass, it replaces the __init__ method of the superclass.\n",
        "\n",
        "###So, manually calling the superclass's __init__ method allows you to properly initialize the shared attributes defined in the superclass and then add specific attributes or functionality to the subclass."
      ],
      "metadata": {
        "id": "K-IFGFM_erbv"
      }
    },
    {
      "cell_type": "markdown",
      "source": [
        "##4. How can you augment, instead of completely replacing, an inherited method?"
      ],
      "metadata": {
        "id": "-_7zwha_ezl1"
      }
    },
    {
      "cell_type": "markdown",
      "source": [
        "###You can augment an inherited method in a subclass instead of completely replacing it by using method overriding. Method overriding allows you to provide a new implementation for a method in the subclass while still utilizing the functionality of the method from the superclass. This way, you can add additional behavior to the method without losing the original behavior defined in the superclass."
      ],
      "metadata": {
        "id": "llbt8BRNfABR"
      }
    },
    {
      "cell_type": "markdown",
      "source": [
        "###5. How is the local scope of a class different from that of a function?"
      ],
      "metadata": {
        "id": "dL7gnJT4fC6a"
      }
    },
    {
      "cell_type": "markdown",
      "source": [
        "###Class local scope exists within the class body and includes class-level variables and nested class definitions.\n",
        "###Function local scope exists within the function body and includes local variables specific to that function.\n",
        "###Class local scope allows access to class-level variables and other methods within the class using self, while function local scope is isolated and does not allow access from outside the function."
      ],
      "metadata": {
        "id": "e1UHSdzjfUkZ"
      }
    },
    {
      "cell_type": "code",
      "execution_count": null,
      "metadata": {
        "id": "KhOhWDa2cHrM"
      },
      "outputs": [],
      "source": []
    }
  ]
}