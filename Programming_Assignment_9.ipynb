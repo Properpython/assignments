{
  "nbformat": 4,
  "nbformat_minor": 0,
  "metadata": {
    "colab": {
      "provenance": []
    },
    "kernelspec": {
      "name": "python3",
      "display_name": "Python 3"
    },
    "language_info": {
      "name": "python"
    }
  },
  "cells": [
    {
      "cell_type": "markdown",
      "source": [
        "##1. Write a Python program to check if the given number is a Disarium Number?"
      ],
      "metadata": {
        "id": "eDsmoIhS2ii0"
      }
    },
    {
      "cell_type": "code",
      "execution_count": 7,
      "metadata": {
        "colab": {
          "base_uri": "https://localhost:8080/"
        },
        "id": "It5aMIyK2bG5",
        "outputId": "2cf33e6f-0c29-4b48-c66b-b1a8b52e28db"
      },
      "outputs": [
        {
          "output_type": "stream",
          "name": "stdout",
          "text": [
            "enter the number: 89\n",
            "89  is a disarium number\n"
          ]
        }
      ],
      "source": [
        "n= int(input(\"enter the number: \"))\n",
        "temp=n\n",
        "x=n\n",
        "count=0\n",
        "while temp>0:\n",
        "  temp=temp//10\n",
        "  count=count+1\n",
        "\n",
        "sum=0\n",
        "while x>0:\n",
        "  rem=x%10\n",
        "  sum=sum+rem**count\n",
        "  x=x//10\n",
        "  count=count-1\n",
        "\n",
        "if sum==n:\n",
        "  print(n,\" is a disarium number\")\n",
        "else:\n",
        "  print(n,\" is not a disarium number\")\n",
        "\n"
      ]
    },
    {
      "cell_type": "markdown",
      "source": [
        "##2. Write a Python program to print all disarium numbers between 1 to 100?"
      ],
      "metadata": {
        "id": "8xJTTkOn9qvh"
      }
    },
    {
      "cell_type": "code",
      "source": [
        "def calculateLength(n):    \n",
        "    length = 0;    \n",
        "    while(n != 0):    \n",
        "        length = length + 1;    \n",
        "        n = n//10;    \n",
        "    return length;    \n",
        "  \n",
        "def sumOfDigits(num):    \n",
        "    rem = sum = 0;    \n",
        "    len = calculateLength(num);    \n",
        "        \n",
        "    while(num > 0):    \n",
        "        rem = num%10;    \n",
        "        sum = sum + (rem**len);    \n",
        "        num = num//10;    \n",
        "        len = len - 1;    \n",
        "    return sum;    \n",
        "      \n",
        "result = 0;    \n",
        "   \n",
        "print(\"Disarium numbers between 1 and 100 are\");    \n",
        "for i in range(1, 101):    \n",
        "    result = sumOfDigits(i);    \n",
        "        \n",
        "    if(result == i):    \n",
        "        print(i,end=' '),\n"
      ],
      "metadata": {
        "colab": {
          "base_uri": "https://localhost:8080/"
        },
        "id": "atwEUhdM7nII",
        "outputId": "57374cb0-aeaf-4c8c-98bc-ca86e3503b02"
      },
      "execution_count": 17,
      "outputs": [
        {
          "output_type": "stream",
          "name": "stdout",
          "text": [
            "Disarium numbers between 1 and 100 are\n",
            "1 2 3 4 5 6 7 8 9 89 "
          ]
        }
      ]
    },
    {
      "cell_type": "markdown",
      "source": [
        "##3. Write a Python program to check if the given number is Happy Number?"
      ],
      "metadata": {
        "id": "G326eonC_zAy"
      }
    },
    {
      "cell_type": "code",
      "source": [
        "n=int(input(\"enter the number: \"))\n",
        "x=n\n",
        "while x>=10:\n",
        "  sum=0\n",
        "  while x>0:\n",
        "    r=x%10\n",
        "    sum=sum+(r**2)\n",
        "    x=x//10\n",
        "  x=sum\n",
        "if x==1:\n",
        "  print(n,\" is a Happy number\")\n",
        "else:\n",
        "  print(n,\" is not a Happy number\")"
      ],
      "metadata": {
        "colab": {
          "base_uri": "https://localhost:8080/"
        },
        "id": "ryBO1d0m_NyX",
        "outputId": "7ae0b93f-08c7-4f36-f756-c2b24afc8263"
      },
      "execution_count": 11,
      "outputs": [
        {
          "output_type": "stream",
          "name": "stdout",
          "text": [
            "enter the number: 19\n",
            "19  is a Happy number\n"
          ]
        }
      ]
    },
    {
      "cell_type": "markdown",
      "source": [
        "##4. Write a Python program to print all happy numbers between 1 and 100?"
      ],
      "metadata": {
        "id": "zeOrHgTxDZFo"
      }
    },
    {
      "cell_type": "code",
      "source": [
        "def isHappyNumber(num):    \n",
        "    rem = sum = 0;      \n",
        "    while(num > 0):    \n",
        "        rem = num%10;    \n",
        "        sum = sum + (rem*rem);    \n",
        "        num = num//10;    \n",
        "    return sum;    \n",
        "\n",
        "print(\"List of happy numbers between 1 and 100: \");    \n",
        "for i in range(1, 101):    \n",
        "    result = i;        \n",
        "    while(result != 1 and result != 4):    \n",
        "        result = isHappyNumber(result);     \n",
        "    if(result == 1):    \n",
        "        print(i,end=' ')   \n",
        "  "
      ],
      "metadata": {
        "colab": {
          "base_uri": "https://localhost:8080/"
        },
        "id": "iVOpekajDG1-",
        "outputId": "55e310ff-b67a-43e0-e8ec-2bb211fb587a"
      },
      "execution_count": 15,
      "outputs": [
        {
          "output_type": "stream",
          "name": "stdout",
          "text": [
            "List of happy numbers between 1 and 100: \n",
            "1 7 10 13 19 23 28 31 32 44 49 68 70 79 82 86 91 94 97 100 "
          ]
        }
      ]
    },
    {
      "cell_type": "markdown",
      "source": [
        "##5. Write a Python program to determine whether the given number is a Harshad Number?"
      ],
      "metadata": {
        "id": "ueecz1JWEkFA"
      }
    },
    {
      "cell_type": "code",
      "source": [
        "n=int(input(\"enter the number: \"))\n",
        "x=n\n",
        "sum=0\n",
        "while x>0:\n",
        "  r=x%10\n",
        "  sum=sum+r\n",
        "  x=x//10\n",
        "if (n%sum==0):\n",
        "  print(n,\" is a Harshad number\")\n",
        "else:\n",
        "  print(n,\" is not a harshad number\")\n"
      ],
      "metadata": {
        "colab": {
          "base_uri": "https://localhost:8080/"
        },
        "id": "doUe5OhBD-Y-",
        "outputId": "8af918a6-d78b-4d0b-82dd-ea798953f131"
      },
      "execution_count": 16,
      "outputs": [
        {
          "output_type": "stream",
          "name": "stdout",
          "text": [
            "enter the number: 18\n",
            "18  is a Harshad number\n"
          ]
        }
      ]
    },
    {
      "cell_type": "markdown",
      "source": [
        "##6. Write a Python program to print all pronic numbers between 1 and 100?"
      ],
      "metadata": {
        "id": "nUIE9QzvG8SV"
      }
    },
    {
      "cell_type": "code",
      "source": [
        "def isPronicNumber(num):    \n",
        "    flag = False;    \n",
        "        \n",
        "    for j in range(1, num+1):        \n",
        "        if((j*(j+1)) == num):    \n",
        "            flag = True;    \n",
        "            break;    \n",
        "    return flag;    \n",
        "        \n",
        "print(\"Pronic numbers between 1 and 100: \");    \n",
        "for i in range(1, 101):    \n",
        "    if(isPronicNumber(i)):    \n",
        "        print(i,end=' ')    "
      ],
      "metadata": {
        "colab": {
          "base_uri": "https://localhost:8080/"
        },
        "id": "9L2jk8T4GzIl",
        "outputId": "4a26c025-5343-4ca5-8380-db60d4f441f5"
      },
      "execution_count": 19,
      "outputs": [
        {
          "output_type": "stream",
          "name": "stdout",
          "text": [
            "Pronic numbers between 1 and 100: \n",
            "2 6 12 20 30 42 56 72 90 "
          ]
        }
      ]
    }
  ]
}