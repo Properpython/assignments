{
  "nbformat": 4,
  "nbformat_minor": 0,
  "metadata": {
    "colab": {
      "provenance": []
    },
    "kernelspec": {
      "name": "python3",
      "display_name": "Python 3"
    },
    "language_info": {
      "name": "python"
    }
  },
  "cells": [
    {
      "cell_type": "markdown",
      "source": [
        "##Q1. What is the relationship between classes and modules?"
      ],
      "metadata": {
        "id": "tbn6Wgh0pc17"
      }
    },
    {
      "cell_type": "markdown",
      "source": [
        "### Ans: The main difference between classes and modules is that classes can be instantiated as objects while standard modules cannot. Because there is only one copy of a standard module's data, when one part of your program changes a public variable in a standard module, any other part of the program gets the same value if it then reads that variable."
      ],
      "metadata": {
        "id": "COD-1XxfppVh"
      }
    },
    {
      "cell_type": "markdown",
      "source": [
        "##Q2. How do you make instances and classes?"
      ],
      "metadata": {
        "id": "9yc7YynoptVa"
      }
    },
    {
      "cell_type": "markdown",
      "source": [
        "###We use the class keyword to create a class in Python. For example, Here, we have created a class named ClassName. name/gear - variables inside the class with default values \"\" and 0 respectively\n"
      ],
      "metadata": {
        "id": "LJI92DrEqMo3"
      }
    },
    {
      "cell_type": "markdown",
      "source": [
        "##Q3. Where and how should be class attributes created?"
      ],
      "metadata": {
        "id": "8sy6SxEzqPZK"
      }
    },
    {
      "cell_type": "markdown",
      "source": [
        "###ans: to define a class attribute, you place it outside of the __init__ () method. Use class_name.class_attribute or object_name.class_attribute to access the value of the class_attribute. Use class attributes for storing class contants, track data across all instances, and setting default values for all instances of the class."
      ],
      "metadata": {
        "id": "nehuuaGUqUgZ"
      }
    },
    {
      "cell_type": "markdown",
      "source": [
        "##Q4. Where and how are instance attributes created?"
      ],
      "metadata": {
        "id": "2FMiCuO5qZgJ"
      }
    },
    {
      "cell_type": "markdown",
      "source": [
        "###Ans: Class attributes are the variables defined directly in the class that are shared by all objects of the class. Instance attributes are attributes or properties attached to an instance of a clas"
      ],
      "metadata": {
        "id": "lLy7hMhxqfAx"
      }
    },
    {
      "cell_type": "markdown",
      "source": [
        "##Q5. What does the term &quot;self&quot; in a Python class mean?"
      ],
      "metadata": {
        "id": "nfxAebR7qjQZ"
      }
    },
    {
      "cell_type": "markdown",
      "source": [
        "### Ans: self represents the instance of the class. By using the “self” we can access the attributes and methods of the class in python. It binds the attributes with the given arguments."
      ],
      "metadata": {
        "id": "_fuGiEyoqqbq"
      }
    },
    {
      "cell_type": "markdown",
      "source": [
        "##Q6. How does a Python class handle operator overloading?"
      ],
      "metadata": {
        "id": "wBNGVyfXqveb"
      }
    },
    {
      "cell_type": "markdown",
      "source": [
        "###Ans: Operator Overloading means giving extended meaning beyond their predefined operational meaning. For example operator + is used to add two integers as well as join two strings and merge two lists. It is achievable because ‘+’ operator is overloaded by int class and str class."
      ],
      "metadata": {
        "id": "xq0X5kmuq-fL"
      }
    },
    {
      "cell_type": "markdown",
      "source": [
        "##Q7. When do you consider allowing operator overloading of your classes?"
      ],
      "metadata": {
        "id": "Q22vni8VrDZ4"
      }
    },
    {
      "cell_type": "markdown",
      "source": [
        "###Ans: Improves code readability by allowing the use of familiar operators. Ensures that objects of a class behave consistently with built-in types and other user-defined types. Makes it simpler to write code, especially for complex data types. Allows for code reuse by implementing one operator method and using it for other operators."
      ],
      "metadata": {
        "id": "ezCGuETGrIHJ"
      }
    },
    {
      "cell_type": "markdown",
      "source": [
        "##Q8. What is the most popular form of operator overloading?"
      ],
      "metadata": {
        "id": "HhW07lqBrLyv"
      }
    },
    {
      "cell_type": "markdown",
      "source": [
        "### Ans: For example operator + is used to add two integers as well as join two strings and merge two lists. It is achievable because ‘+’ operator is overloaded by int class and str class."
      ],
      "metadata": {
        "id": "S6ziZQZWrhzX"
      }
    },
    {
      "cell_type": "markdown",
      "source": [
        "##Q9. What are the two most important concepts to grasp in order to comprehend Python OOP code?"
      ],
      "metadata": {
        "id": "NcAuVkpVrlUy"
      }
    },
    {
      "cell_type": "markdown",
      "source": [
        "### Anns:  a data scientist should, at a minimum, grasp the main concepts of OOP: encapsulation, inheritance, polymorphism, and object association. Python OOP is a skill that I would personally like to test at interview time"
      ],
      "metadata": {
        "id": "fm6YqqJpr0LK"
      }
    }
  ]
}