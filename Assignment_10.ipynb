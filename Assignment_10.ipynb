{
  "nbformat": 4,
  "nbformat_minor": 0,
  "metadata": {
    "colab": {
      "provenance": []
    },
    "kernelspec": {
      "name": "python3",
      "display_name": "Python 3"
    },
    "language_info": {
      "name": "python"
    }
  },
  "cells": [
    {
      "cell_type": "markdown",
      "source": [
        "##1. How do you distinguish between shutil.copy() and shutil.copytree()?"
      ],
      "metadata": {
        "id": "uZLEu1TIQDUB"
      }
    },
    {
      "cell_type": "markdown",
      "source": [
        "##Answer\n",
        "shutil.copy : Copies a single file\n",
        "\n",
        "shutil.copytree() : will copy an entire folder and every folder and file contained in it\n"
      ],
      "metadata": {
        "id": "kJGtf3LrQo3Q"
      }
    },
    {
      "cell_type": "markdown",
      "source": [
        "##2. What function is used to rename files??"
      ],
      "metadata": {
        "id": "EMrZGi9RQu4r"
      }
    },
    {
      "cell_type": "markdown",
      "source": [
        "##Answer:\n",
        "import os\n",
        "\n",
        "os.rename(\"text.txt\",\"testnew.txt\")"
      ],
      "metadata": {
        "id": "qg6bkF8xRX86"
      }
    },
    {
      "cell_type": "markdown",
      "source": [
        "##3. What is the difference between the delete functions in the send2trash and shutil modules?"
      ],
      "metadata": {
        "id": "Rg2HuX9YRiCM"
      }
    },
    {
      "cell_type": "markdown",
      "source": [
        "##Answer\n",
        "The shutil module’s rmtree() function can be used to delete files or folders. But, this function delete the files permanently. \n",
        "\n",
        "The operations cannot be undone if there were any accidental deletions performed \n",
        "\n",
        "send2trash.send2trash() : Using send2trash, we can send files to the Trash or Recycle Bin instead of permanently \n",
        "deleting them.\n",
        "\n",
        "\n",
        "If the directory contains files or other folders, those are also deleted. A TrashPermissionError exception is raised,  in case a file could not be deleted due to permission error or any other unexpected reason."
      ],
      "metadata": {
        "id": "5vE1E8EBRqlf"
      }
    },
    {
      "cell_type": "markdown",
      "source": [
        "##4.ZipFile objects have a close() method just like File objects’ close() method. What ZipFile method is equivalent to File objects’ open() method?"
      ],
      "metadata": {
        "id": "_ERfsSfGSDjM"
      }
    },
    {
      "cell_type": "markdown",
      "source": [
        "rom zipfile import Zipfile\n",
        "\n",
        "with ZipFile(file_name, 'r') as zip: -> this code will open specified zipfile for us. we can use zip objext to preform oother operation the ziplife. like zip.read().\n",
        "\n",
        "```\n",
        "from zipfile import Zipfile\n",
        "with ZipFile(file_name, 'r') as zip\n",
        "```\n",
        "\n"
      ],
      "metadata": {
        "id": "yV_b-rkySJ3k"
      }
    },
    {
      "cell_type": "markdown",
      "source": [
        "##5. Create a programme that searches a folder tree for files with a certain file extension (such as .pdf or .jpg). Copy these files from whatever location they are in to a new folder."
      ],
      "metadata": {
        "id": "EWFMGehTSc3m"
      }
    },
    {
      "cell_type": "code",
      "execution_count": 1,
      "metadata": {
        "colab": {
          "base_uri": "https://localhost:8080/"
        },
        "id": "EhkDBTLcP-Zl",
        "outputId": "e4de36b3-4f09-4da2-ac53-3bfccdf24042"
      },
      "outputs": [
        {
          "output_type": "stream",
          "name": "stdout",
          "text": [
            "Looking in C:\\Users\\properpython\\Desktop\\source for files with extensions of .mp4, .pdf, .jpg\n"
          ]
        }
      ],
      "source": [
        "import os, shutil\n",
        "\n",
        "def search(source, extensions, destFolder):\n",
        "    folder = os.path.abspath(source)\n",
        "    destFolder = os.path.abspath(destFolder)\n",
        "    print('Looking in', source, 'for files with extensions of', ', '.join(extensions))\n",
        "    for foldername, subfolders, filenames in os.walk(source):\n",
        "        for filename in filenames:\n",
        "            name, extension = os.path.splitext(filename)\n",
        "            if extension in extensions:\n",
        "                fileAbsPath = foldername + os.path.sep + filename\n",
        "                print('Coping', fileAbsPath, 'to', destFolder)\n",
        "                shutil.copy(fileAbsPath, destFolder)\n",
        "\n",
        "extensions = ['.mp4', '.pdf','.jpg']\n",
        "source = \"C:\\\\Users\\\\properpython\\\\Desktop\\\\source\"\n",
        "destFolder =\"C:\\\\Users\\\\properpython\\\\Desktop\\\\dest\"\n",
        "search(source, extensions, destFolder)"
      ]
    }
  ]
}