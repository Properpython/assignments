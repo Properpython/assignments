{
  "nbformat": 4,
  "nbformat_minor": 0,
  "metadata": {
    "colab": {
      "provenance": []
    },
    "kernelspec": {
      "name": "python3",
      "display_name": "Python 3"
    },
    "language_info": {
      "name": "python"
    }
  },
  "cells": [
    {
      "cell_type": "markdown",
      "source": [
        "##1. What exactly is []?"
      ],
      "metadata": {
        "id": "ldv4rAvWxLQ-"
      }
    },
    {
      "cell_type": "markdown",
      "source": [
        "##Answer\n",
        "\n",
        "[] reprents an empty list.\n",
        "\n",
        "Lists are the simplest containers \n",
        "\n",
        " A list may contain DataTypes like Integers, Strings, as well as Objects. Lists are mutable, and hence, they can be altered even after their creation.\n",
        "\n",
        " Lists in can be created by just placing the sequence inside the square brackets[]."
      ],
      "metadata": {
        "id": "IwEx-AnixPP4"
      }
    },
    {
      "cell_type": "markdown",
      "source": [
        "##2. In a list of values stored in a variable called spam, how would you assign the value &#39;hello&#39; as the\n",
        "##third value? (Assume [2, 4, 6, 8, 10] are in spam.)"
      ],
      "metadata": {
        "id": "3OQ5Mdgvx2XR"
      }
    },
    {
      "cell_type": "code",
      "execution_count": 4,
      "metadata": {
        "colab": {
          "base_uri": "https://localhost:8080/"
        },
        "id": "N24DJbJGxCas",
        "outputId": "9044c1b2-e849-45e8-ebac-e99e561bf411"
      },
      "outputs": [
        {
          "output_type": "execute_result",
          "data": {
            "text/plain": [
              "[2, 4, 'hello', 8, 10]"
            ]
          },
          "metadata": {},
          "execution_count": 4
        }
      ],
      "source": [
        "spam=[2,4,6,8,10]\n",
        "spam[2]=\"hello\"\n",
        "spam"
      ]
    },
    {
      "cell_type": "markdown",
      "source": [
        "##Let&#39;s pretend the spam includes the list [&#39;a&#39;, &#39;b&#39;, &#39;c&#39;, &#39;d&#39;] for the next three queries.\n",
        "##3. What is the value of spam[int(int(&#39;3&#39; * 2) / 11)]?"
      ],
      "metadata": {
        "id": "zqpqqMP8zC0U"
      }
    },
    {
      "cell_type": "code",
      "source": [
        "spam=['a','b','c','d']\n",
        "spam[int(int('3' * 2) / 11)]\n"
      ],
      "metadata": {
        "colab": {
          "base_uri": "https://localhost:8080/",
          "height": 35
        },
        "id": "GCYLMQMuyW_R",
        "outputId": "4867fe52-3bf8-43cf-e53a-4776b6ff90cc"
      },
      "execution_count": 5,
      "outputs": [
        {
          "output_type": "execute_result",
          "data": {
            "text/plain": [
              "'d'"
            ],
            "application/vnd.google.colaboratory.intrinsic+json": {
              "type": "string"
            }
          },
          "metadata": {},
          "execution_count": 5
        }
      ]
    },
    {
      "cell_type": "markdown",
      "source": [
        "##4. What is the value of spam[-1]?"
      ],
      "metadata": {
        "id": "A6ysZ-7yztLi"
      }
    },
    {
      "cell_type": "code",
      "source": [
        "spam=['a','b','c','d']\n",
        "spam[-1]"
      ],
      "metadata": {
        "colab": {
          "base_uri": "https://localhost:8080/",
          "height": 35
        },
        "id": "IWM2jm6nzkYy",
        "outputId": "1f5bc6b1-15c7-4205-da1f-183f42e58bbe"
      },
      "execution_count": 6,
      "outputs": [
        {
          "output_type": "execute_result",
          "data": {
            "text/plain": [
              "'d'"
            ],
            "application/vnd.google.colaboratory.intrinsic+json": {
              "type": "string"
            }
          },
          "metadata": {},
          "execution_count": 6
        }
      ]
    },
    {
      "cell_type": "markdown",
      "source": [
        "##5. What is the value of spam[:2]?"
      ],
      "metadata": {
        "id": "8inRiJ9Xz5Yl"
      }
    },
    {
      "cell_type": "code",
      "source": [
        "spam[:2]"
      ],
      "metadata": {
        "colab": {
          "base_uri": "https://localhost:8080/"
        },
        "id": "bHkz7jhqz2Yb",
        "outputId": "1ade115a-0eca-41a8-9ab4-514a99f6dbb8"
      },
      "execution_count": 7,
      "outputs": [
        {
          "output_type": "execute_result",
          "data": {
            "text/plain": [
              "['a', 'b']"
            ]
          },
          "metadata": {},
          "execution_count": 7
        }
      ]
    },
    {
      "cell_type": "markdown",
      "source": [
        "##Let&#39;s pretend bacon has the list [3.14, &#39;cat,&#39; 11, &#39;cat,&#39; True] for the next three questions.\n",
        "##6. What is the value of bacon.index(&#39;cat&#39;)?"
      ],
      "metadata": {
        "id": "qYKaFg7n0GiS"
      }
    },
    {
      "cell_type": "code",
      "source": [
        "bacon=[3.14, 'cat', 11, 'cat', True]\n",
        "bacon.index('cat')"
      ],
      "metadata": {
        "colab": {
          "base_uri": "https://localhost:8080/"
        },
        "id": "_42aZAi60Aiz",
        "outputId": "441085af-5790-460f-ffa7-3ae07c9f5d95"
      },
      "execution_count": 10,
      "outputs": [
        {
          "output_type": "execute_result",
          "data": {
            "text/plain": [
              "1"
            ]
          },
          "metadata": {},
          "execution_count": 10
        }
      ]
    },
    {
      "cell_type": "markdown",
      "source": [
        "##7. How does bacon.append(99) change the look of the list value in bacon?"
      ],
      "metadata": {
        "id": "00wlOh6h0nx-"
      }
    },
    {
      "cell_type": "code",
      "source": [
        "bacon.append(99)\n",
        "bacon\n",
        "#it'll add the element 99 at the last of the list"
      ],
      "metadata": {
        "colab": {
          "base_uri": "https://localhost:8080/"
        },
        "id": "eunUz5jY1Kzz",
        "outputId": "5ee0d3fb-414c-4e26-d8c7-ca9e602ec7f8"
      },
      "execution_count": 19,
      "outputs": [
        {
          "output_type": "execute_result",
          "data": {
            "text/plain": [
              "[3.14, 'cat', 11, 'cat', True, 99, 99, 99, 99, 99]"
            ]
          },
          "metadata": {},
          "execution_count": 19
        }
      ]
    },
    {
      "cell_type": "markdown",
      "source": [
        "##8. How does bacon.remove(&#39;cat&#39;) change the look of the list in bacon?"
      ],
      "metadata": {
        "id": "B4EbsiXX1lBi"
      }
    },
    {
      "cell_type": "code",
      "source": [
        "bacon=[3.14, 'cat', 11, 'cat', True]\n",
        "bacon.remove('cat')\n",
        "bacon"
      ],
      "metadata": {
        "colab": {
          "base_uri": "https://localhost:8080/"
        },
        "id": "K_fA_D191WGZ",
        "outputId": "f7b79601-87e8-4ca0-a412-52743bae7e84"
      },
      "execution_count": 20,
      "outputs": [
        {
          "output_type": "execute_result",
          "data": {
            "text/plain": [
              "[3.14, 11, 'cat', True]"
            ]
          },
          "metadata": {},
          "execution_count": 20
        }
      ]
    },
    {
      "cell_type": "markdown",
      "source": [
        "##9. What are the list concatenation and list replication operators?"
      ],
      "metadata": {
        "id": "661PSjvA14fd"
      }
    },
    {
      "cell_type": "markdown",
      "source": [
        "##Answer\n",
        "When + appears between two lists, the expression will be evaluated as a new list that contains the elements from both lists. this is list concatenation\n",
        "\n",
        "When * appears between a list and an integer, the expression will be evaluated as a new list that consists of several copies of the original list concatenated together. this is list replication"
      ],
      "metadata": {
        "id": "ow6FYL-315-t"
      }
    },
    {
      "cell_type": "markdown",
      "source": [
        "##10. What is difference between the list methods append() and insert()?"
      ],
      "metadata": {
        "id": "lD3Y34an2q8f"
      }
    },
    {
      "cell_type": "markdown",
      "source": [
        "##Answer\n",
        "\n",
        "The difference between append () and insert () is that insert function allows us to add a specific element at a specified index of the list unlike append () where we can add the element only at end of the list."
      ],
      "metadata": {
        "id": "rYNLjApE2uP4"
      }
    },
    {
      "cell_type": "markdown",
      "source": [
        "##11. What are the two methods for removing items from a list?"
      ],
      "metadata": {
        "id": "kyILoxMS3AMt"
      }
    },
    {
      "cell_type": "markdown",
      "source": [
        "##Answer\n",
        "list.pop() -\tRemoves an item at an index position and returns it \n",
        "\n",
        "list.remove() -\tRemoves the first item matching a value\n",
        "\n",
        "slicing -\tCan be used to delete non-matching ranges of data\n",
        "\n",
        "del - statement\tRemoves an item at an index position and doesn’t return it\n",
        "\n",
        "list.clear() -\tRemoves all items in a Python list\n"
      ],
      "metadata": {
        "id": "Yhj9EhoZ3CV7"
      }
    },
    {
      "cell_type": "markdown",
      "source": [
        "##12. Describe how list values and string values are identical."
      ],
      "metadata": {
        "id": "0qog9B0o4iTy"
      }
    },
    {
      "cell_type": "markdown",
      "source": [
        "##Answer\n",
        "1. lists and strings can be passed to len()\n",
        "2. Have indexes and slices\n",
        "3. Can be used in for loops\n",
        "4. Can be concatenated or replicated\n",
        "5. Can be used with the in and not in operators"
      ],
      "metadata": {
        "id": "DQp_D6g34noK"
      }
    },
    {
      "cell_type": "markdown",
      "source": [
        "##13. What&#39;s the difference between tuples and lists?"
      ],
      "metadata": {
        "id": "gvixyAyx5AVv"
      }
    },
    {
      "cell_type": "markdown",
      "source": [
        "##Answer\n",
        "\n",
        "Lists are mutable and they can have values added, removed, or changed. \n",
        "lists use the square brackets []\n",
        "\n",
        "Tuples are immutable; they cannot be changed at all. \n",
        "Tuples are written using parenthesis() "
      ],
      "metadata": {
        "id": "VB2AqTuU5HhI"
      }
    },
    {
      "cell_type": "markdown",
      "source": [
        "##14. How do you type a tuple value that only contains the integer 42?"
      ],
      "metadata": {
        "id": "3SH6xAjL5cVa"
      }
    },
    {
      "cell_type": "code",
      "source": [
        "a=(42,)\n",
        "a"
      ],
      "metadata": {
        "colab": {
          "base_uri": "https://localhost:8080/"
        },
        "id": "hB4aCFU21yEH",
        "outputId": "f650c198-b0bf-4329-d8a7-7bf4bf5b9c15"
      },
      "execution_count": 21,
      "outputs": [
        {
          "output_type": "execute_result",
          "data": {
            "text/plain": [
              "(42,)"
            ]
          },
          "metadata": {},
          "execution_count": 21
        }
      ]
    },
    {
      "cell_type": "markdown",
      "source": [
        "##15. How do you get a list value&#39;s tuple form? How do you get a tuple value&#39;s list form?"
      ],
      "metadata": {
        "id": "X4qKZLxN5zcF"
      }
    },
    {
      "cell_type": "code",
      "source": [
        "a=[1,2,3]\n",
        "b=tuple(a)\n",
        "b"
      ],
      "metadata": {
        "colab": {
          "base_uri": "https://localhost:8080/"
        },
        "id": "YkkTq3mU5v9G",
        "outputId": "9427d3e5-92cd-41be-f4ed-be60c31b3c72"
      },
      "execution_count": 22,
      "outputs": [
        {
          "output_type": "execute_result",
          "data": {
            "text/plain": [
              "(1, 2, 3)"
            ]
          },
          "metadata": {},
          "execution_count": 22
        }
      ]
    },
    {
      "cell_type": "markdown",
      "source": [
        "##16. Variables that &quot;contain&quot; list values are not necessarily lists themselves. Instead, what do they contain?"
      ],
      "metadata": {
        "id": "DxK-KFAf6F_z"
      }
    },
    {
      "cell_type": "markdown",
      "source": [
        "##Answer\n",
        " The term list value refers to the list itself which is a value that can be stored in a variable or passed to a function like any other value, not the values inside the list value.\n",
        " \n",
        " it contain reference to the values"
      ],
      "metadata": {
        "id": "Wk7-2qfz6W4_"
      }
    },
    {
      "cell_type": "markdown",
      "source": [
        "##17. How do you distinguish between copy.copy() and copy.deepcopy()?"
      ],
      "metadata": {
        "id": "dhLsudzu6nPB"
      }
    },
    {
      "cell_type": "markdown",
      "source": [
        "##Answer\n",
        "\n",
        "The copy.copy() function will do a shallow copy of a list, \n",
        "The copy.deepcopy() function will do a deep copy of a list. only copy.deepcopy() will duplicate any lists inside the \n",
        "list"
      ],
      "metadata": {
        "id": "YdbIACdg6w4p"
      }
    }
  ]
}