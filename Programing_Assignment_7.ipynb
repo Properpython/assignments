{
  "nbformat": 4,
  "nbformat_minor": 0,
  "metadata": {
    "colab": {
      "provenance": []
    },
    "kernelspec": {
      "name": "python3",
      "display_name": "Python 3"
    },
    "language_info": {
      "name": "python"
    }
  },
  "cells": [
    {
      "cell_type": "markdown",
      "source": [
        "##1. Write a Python Program to find sum of array?"
      ],
      "metadata": {
        "id": "QUBiNtWMrJJB"
      }
    },
    {
      "cell_type": "code",
      "execution_count": 3,
      "metadata": {
        "colab": {
          "base_uri": "https://localhost:8080/"
        },
        "id": "epCU8ORtrEvL",
        "outputId": "73277987-126c-4db8-977b-af4e4b53c6fa"
      },
      "outputs": [
        {
          "output_type": "stream",
          "name": "stdout",
          "text": [
            "enter the number of elements: 5\n",
            "1\n",
            "2\n",
            "3\n",
            "4\n",
            "5\n",
            "[1, 2, 3, 4, 5]\n",
            "the sum of the aray is 15\n"
          ]
        }
      ],
      "source": [
        "lst=[]\n",
        "n=int(input(\"enter the number of elements: \"))\n",
        "for i in range(0,n):\n",
        "  element=int(input())\n",
        "  lst.append(element)\n",
        "print(lst)\n",
        "\n",
        "sum=0\n",
        "for i in lst:\n",
        "  sum=sum+i\n",
        "print(f\"the sum of the aray is {sum}\")\n",
        "\n"
      ]
    },
    {
      "cell_type": "markdown",
      "source": [
        "##2. Write a Python Program to find largest element in an array?"
      ],
      "metadata": {
        "id": "updjs202tWik"
      }
    },
    {
      "cell_type": "code",
      "source": [
        "lst=[]\n",
        "n=int(input(\"enter the number of elements: \"))\n",
        "for i in range(0,n):\n",
        "  element=int(input())\n",
        "  lst.append(element)\n",
        "print(lst)\n",
        "\n",
        "max=lst[0]\n",
        "for i in range(1,n):\n",
        "  if lst[i]>max:\n",
        "    max=lst[i]\n",
        "print(f\"the largest element in an array is {max}\")"
      ],
      "metadata": {
        "colab": {
          "base_uri": "https://localhost:8080/"
        },
        "id": "L9w7Xz4IsCjL",
        "outputId": "4747568b-c49f-4fb0-e9cd-d33b1234658f"
      },
      "execution_count": 4,
      "outputs": [
        {
          "output_type": "stream",
          "name": "stdout",
          "text": [
            "enter the number of elements: 5\n",
            "10\n",
            "40\n",
            "100\n",
            "150\n",
            "10\n",
            "[10, 40, 100, 150, 10]\n",
            "the largest element in an array is 150\n"
          ]
        }
      ]
    },
    {
      "cell_type": "markdown",
      "source": [
        "##3. Write a Python Program for array rotation?"
      ],
      "metadata": {
        "id": "_mzhcXoIupg2"
      }
    },
    {
      "cell_type": "code",
      "source": [
        "lst=[]\n",
        "n=int(input(\"enter the number of elements: \"))\n",
        "for i in range(0,n):\n",
        "  element=int(input())\n",
        "  lst.append(element)\n",
        "print(lst)\n",
        "\n",
        "d=int(input(\"by how many elements you want to rotate the list: \"))\n",
        "for i in range(0,d):\n",
        "  temp=lst[0]\n",
        "  for j in range(0,n-1):\n",
        "    lst[j]=lst[j+1]\n",
        "  lst[n-1]=temp\n",
        "\n",
        "for i in range(0,n):\n",
        "  print(lst[i],end=' ')\n",
        "\n",
        "\n"
      ],
      "metadata": {
        "colab": {
          "base_uri": "https://localhost:8080/"
        },
        "id": "Z-OaUESPuap_",
        "outputId": "3ff01321-94b7-41e6-b01a-fd4b395f6a20"
      },
      "execution_count": 12,
      "outputs": [
        {
          "output_type": "stream",
          "name": "stdout",
          "text": [
            "enter the number of elements: 5\n",
            "1\n",
            "2\n",
            "3\n",
            "4\n",
            "5\n",
            "[1, 2, 3, 4, 5]\n",
            "by how many elements you want to rotate the list: 2\n",
            "3 4 5 1 2 "
          ]
        }
      ]
    },
    {
      "cell_type": "markdown",
      "source": [
        "##4. Write a Python Program to Split the array and add the first part to the end?"
      ],
      "metadata": {
        "id": "VA2dNxMP2RDE"
      }
    },
    {
      "cell_type": "code",
      "source": [
        "lst=[]\n",
        "n=int(input(\"enter the number of elements: \"))\n",
        "for i in range(0,n):\n",
        "  element=int(input())\n",
        "  lst.append(element)\n",
        "print(lst)\n",
        "\n",
        "d=int(input(\"by how many index do you want to split the list: \"))\n",
        "for i in range(0,d):\n",
        "  temp=lst[0]\n",
        "  for j in range(0,n-1):\n",
        "    lst[j]=lst[j+1]\n",
        "  lst[n-1]=temp\n",
        "\n",
        "for i in range(0,n):\n",
        "  print(lst[i],end=' ')"
      ],
      "metadata": {
        "colab": {
          "base_uri": "https://localhost:8080/"
        },
        "id": "OzWWhCvy1QBB",
        "outputId": "14f946d5-a174-43ca-9fe9-dd7b1a63f8a1"
      },
      "execution_count": 13,
      "outputs": [
        {
          "output_type": "stream",
          "name": "stdout",
          "text": [
            "enter the number of elements: 5\n",
            "1\n",
            "2\n",
            "3\n",
            "4\n",
            "5\n",
            "[1, 2, 3, 4, 5]\n",
            "by how many index do you want to split the list: 3\n",
            "4 5 1 2 3 "
          ]
        }
      ]
    },
    {
      "cell_type": "markdown",
      "source": [
        "##5. Write a Python Program to check if given array is Monotonic?"
      ],
      "metadata": {
        "id": "i4Xdyt2_3wQM"
      }
    },
    {
      "cell_type": "code",
      "source": [
        "lst=[]\n",
        "n=int(input(\"enter the number of elements: \"))\n",
        "for i in range(0,n):\n",
        "  element=int(input())\n",
        "  lst.append(element)\n",
        "print(lst)\n",
        "def isMonotonic(lst):\n",
        " \n",
        "    return (all(lst[i] <= lst[i + 1] for i in range(len(lst) - 1)) or\n",
        "            all(lst[i] >= lst[i + 1] for i in range(len(lst) - 1)))\n",
        "print(isMonotonic(lst))"
      ],
      "metadata": {
        "colab": {
          "base_uri": "https://localhost:8080/"
        },
        "id": "4E33B2_U3iKL",
        "outputId": "8b591992-a8ce-44b0-8b22-2c00ed448f5b"
      },
      "execution_count": 14,
      "outputs": [
        {
          "output_type": "stream",
          "name": "stdout",
          "text": [
            "enter the number of elements: 5\n",
            "1\n",
            "3\n",
            "4\n",
            "5\n",
            "6\n",
            "[1, 3, 4, 5, 6]\n",
            "True\n"
          ]
        }
      ]
    }
  ]
}