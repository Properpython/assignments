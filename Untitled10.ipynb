{
  "nbformat": 4,
  "nbformat_minor": 0,
  "metadata": {
    "colab": {
      "provenance": []
    },
    "kernelspec": {
      "name": "python3",
      "display_name": "Python 3"
    },
    "language_info": {
      "name": "python"
    }
  },
  "cells": [
    {
      "cell_type": "markdown",
      "source": [
        "##Q1. What is the purpose of Python&#39;s OOP?"
      ],
      "metadata": {
        "id": "t35XLdkVlK9_"
      }
    },
    {
      "cell_type": "markdown",
      "source": [
        "### Ans: In Python, object-oriented Programming (OOPs) is a programming paradigm that uses objects and classes in programming. It aims to implement real-world entities like inheritance, polymorphisms, encapsulation, etc. in the programming."
      ],
      "metadata": {
        "id": "0DvcVKhnlXMx"
      }
    },
    {
      "cell_type": "markdown",
      "source": [
        "##Q2. Where does an inheritance search look for an attribute?\n",
        "\n",
        "1.   List item\n",
        "2.   List item\n",
        "\n"
      ],
      "metadata": {
        "id": "BpMP-dFNlctL"
      }
    },
    {
      "cell_type": "markdown",
      "source": [
        "### Ans: inheritance happens when an object is qualified, and involves searching an attribute definition tree (one or more namespaces). Every time you use an expression of the form object.attr where object is an instance or class object, Python searches the namespace tree at and above object, for the first attr it can find. Because lower definitions in the tree override higher ones, inheritance forms the basis of specialization."
      ],
      "metadata": {
        "id": "qxss2cinld8e"
      }
    },
    {
      "cell_type": "markdown",
      "source": [
        "### Ans: A Class defines the structure, property, and behaviour of an Object\n",
        "\n",
        "###In Object is created from a Class, like a house is created from a blueprint\n",
        "\n",
        "### So we've taken our blueprint (Class), and created multiple 3 bedroom homes (Objects), but how do we refer to one particular home (Object) we've built? We refer to a particular Object as an Instance.\n",
        "\n"
      ],
      "metadata": {
        "id": "b5QmelmnmjE0"
      }
    },
    {
      "cell_type": "markdown",
      "source": [
        "##Q4. What makes the first argument in a class’s method function special?"
      ],
      "metadata": {
        "id": "6gu9kuW6nKRQ"
      }
    },
    {
      "cell_type": "markdown",
      "source": [
        "### Ans: The first parameter in the class method is the class on which you are calling the method, not (necessarily) the class that defines the method. (Having a variable that always holds the same class would probably not be that useful.)"
      ],
      "metadata": {
        "id": "jH74kV7knEnM"
      }
    },
    {
      "cell_type": "markdown",
      "source": [
        "##Q5. What is the purpose of the __init__ method?"
      ],
      "metadata": {
        "id": "NjoTfMCpnPoV"
      }
    },
    {
      "cell_type": "markdown",
      "source": [
        "### Ans: Like any other function the in python the __init__ () method allows you to take default values. This feature can be particularly useful when a class takes in a lot of input parameters."
      ],
      "metadata": {
        "id": "0Gi-IiMYnVar"
      }
    },
    {
      "cell_type": "markdown",
      "source": [
        "##Q6. What is the process for creating a class instance?"
      ],
      "metadata": {
        "id": "WuHnOQronZoC"
      }
    },
    {
      "cell_type": "code",
      "execution_count": 1,
      "metadata": {
        "id": "LjLprRUcksh3"
      },
      "outputs": [],
      "source": [
        "class Pokemon:\n",
        "    # Class attribute\n",
        "    species = \"Mouse\"\n",
        "    def __init__(self, name, attack):\n",
        "        self.name = name\n",
        "        self.attack = attack\n",
        "\n",
        "pikachu = Pokemon(\"Pikachu\", \"Double Kick\")\n",
        "raichu = Pokemon(\"Raichu\", \"Thunder Punch\")"
      ]
    },
    {
      "cell_type": "markdown",
      "source": [
        "##Q7. What is the process for creating a class?"
      ],
      "metadata": {
        "id": "oVoAALVNoHIE"
      }
    },
    {
      "cell_type": "markdown",
      "source": [
        "### Ans:Creating a class is as easy as creating a function in Python. In function, we start with the def keyword while class definitions begin with the keyword class. Following the keyword class, we have the class identifier (i.e. the name of the class we created) and then the : (colon) operator after the class name."
      ],
      "metadata": {
        "id": "DblUa_7_oP4q"
      }
    },
    {
      "cell_type": "markdown",
      "source": [
        "##Q8. How would you define the superclasses of a class?"
      ],
      "metadata": {
        "id": "Ik2JeO72oXDi"
      }
    },
    {
      "cell_type": "markdown",
      "source": [
        "### Ans:A superclass is the class from which many subclasses can be created. The subclasses inherit the characteristics of a superclass. The superclass is also known as the parent class or base class."
      ],
      "metadata": {
        "id": "QxPiWFfDobYu"
      }
    },
    {
      "cell_type": "code",
      "source": [],
      "metadata": {
        "id": "NIksq5uuoD2e"
      },
      "execution_count": null,
      "outputs": []
    }
  ]
}