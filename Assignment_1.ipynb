{
  "nbformat": 4,
  "nbformat_minor": 0,
  "metadata": {
    "colab": {
      "provenance": []
    },
    "kernelspec": {
      "name": "python3",
      "display_name": "Python 3"
    },
    "language_info": {
      "name": "python"
    }
  },
  "cells": [
    {
      "cell_type": "markdown",
      "source": [
        "1. In the below elements which of them are values or an expression? eg:- values can be\n",
        "integer or string and expressions will be mathematical operators.\n",
        "*\n",
        "&#39;hello&#39;\n",
        "-87.8\n",
        "-\n",
        "/\n",
        "+\n",
        "6\n"
      ],
      "metadata": {
        "id": "2zSvoKxnyjus"
      }
    },
    {
      "cell_type": "markdown",
      "source": [
        "answer:\n",
        "'hello',-87.8,6 are the values and\n",
        "*,-,/,+ are the expressions\n"
      ],
      "metadata": {
        "id": "q_egXR9LystY"
      }
    },
    {
      "cell_type": "markdown",
      "source": [
        "2. What is the difference between string and variable?"
      ],
      "metadata": {
        "id": "h8-CutruzRqA"
      }
    },
    {
      "cell_type": "markdown",
      "source": [
        "answer:a string is a value that represents a text.\n",
        "\n",
        "a variable is a name that can refer to any value\n",
        "\n",
        "example for string is 'hello'\n",
        "\n",
        "example for variable is a='hello'\n",
        "\n",
        "here a is variable which is more or less an object"
      ],
      "metadata": {
        "id": "GMIslg09zUP4"
      }
    },
    {
      "cell_type": "markdown",
      "source": [
        "3. Describe three different data types."
      ],
      "metadata": {
        "id": "wAUZTe131ER6"
      }
    },
    {
      "cell_type": "markdown",
      "source": [
        "answer:\n",
        "\n",
        "Integers – This value is represented by int class. It contains positive or negative whole numbers. in python there is no limit to how long an integer value can be.\n",
        "\n",
        "\n",
        "String - A string is a collection of one or more characters put in a single quote, double-quote or triple quote. In python there is no character data type, a character is a string of length one. It is represented by str class.\n",
        "\n",
        "\n",
        "tuple -  tuple is an ordered collection of Python objects.tuples are immutable i.e. tuples cannot be modified after it is created. It is represented by tuple class."
      ],
      "metadata": {
        "id": "dlro9ogv1weK"
      }
    },
    {
      "cell_type": "markdown",
      "source": [
        "4. What is an expression made up of? What do all expressions do?"
      ],
      "metadata": {
        "id": "2Lo7n1P92wfy"
      }
    },
    {
      "cell_type": "markdown",
      "source": [
        " An expression is made up of operators, constants and variables. An expression may consist of one or more operands, and zero or more operators to produce a value.\n",
        "\n",
        "an expression may combine two or more variables to give us a desired result\n",
        "\n",
        "examples: x+y,x*y,x/y\n",
        "\n",
        "We have many different types of expressions in Python.some of them are:\n",
        "\n",
        "constant expression, arithmetic expression, logical expression etc.\n"
      ],
      "metadata": {
        "id": "xsg-IzGT3DmY"
      }
    },
    {
      "cell_type": "markdown",
      "source": [
        "5. This assignment statements, like spam = 10. What is the difference between an\n",
        "expression and a statement?"
      ],
      "metadata": {
        "id": "6B7JJvAG41ay"
      }
    },
    {
      "cell_type": "markdown",
      "source": [
        "An expression is any word or group of words or symbols that is a value. In programming, an expression is a value, or anything that executes and ends up being a value.\n",
        "\n",
        "in above example spam=10\n",
        "\n",
        "'spam', '=', 10 are the expressions because each of them has a definite and unique meaning or value. \n",
        "\n",
        "A statement is a group of expressions and/or statements that you design to carry out a task or an action.\n",
        "\n",
        "the whole \"spam=10\" is a statement because it carries out the task of assigning spam to 10."
      ],
      "metadata": {
        "id": "yksx9WFC5v9x"
      }
    },
    {
      "cell_type": "markdown",
      "source": [
        "6. After running the following code, what does the variable bacon contain?\n",
        "bacon = 22\n",
        "bacon + 1"
      ],
      "metadata": {
        "id": "7S15ZLjl67W7"
      }
    },
    {
      "cell_type": "code",
      "source": [
        "bacon =22\n",
        "c=bacon+1\n",
        "print(c)"
      ],
      "metadata": {
        "colab": {
          "base_uri": "https://localhost:8080/"
        },
        "id": "DV2kkMOz1MLA",
        "outputId": "7a6cd8f2-2620-4290-da07-178de4927988"
      },
      "execution_count": 2,
      "outputs": [
        {
          "output_type": "stream",
          "name": "stdout",
          "text": [
            "23\n"
          ]
        }
      ]
    },
    {
      "cell_type": "markdown",
      "source": [
        "the variable bacon contain a value 23"
      ],
      "metadata": {
        "id": "yLpDxv4-7MVY"
      }
    },
    {
      "cell_type": "markdown",
      "source": [
        "7. What should the values of the following two terms be?\n",
        "&#39;spam&#39; + &#39;spamspam&#39;\n",
        "&#39;spam&#39; * 3"
      ],
      "metadata": {
        "id": "nTp1I10O7c2-"
      }
    },
    {
      "cell_type": "code",
      "source": [
        "a='spam'+'spamspam'\n",
        "print(a)\n",
        "b='spam'*3\n",
        "print(b)"
      ],
      "metadata": {
        "colab": {
          "base_uri": "https://localhost:8080/"
        },
        "id": "qXa42Ucc7hER",
        "outputId": "66c97932-0d48-4ffe-c28e-b2a28fae01fa"
      },
      "execution_count": 4,
      "outputs": [
        {
          "output_type": "stream",
          "name": "stdout",
          "text": [
            "spamspamspam\n",
            "spamspamspam\n"
          ]
        }
      ]
    },
    {
      "cell_type": "markdown",
      "source": [
        "both have the values as spamspamspam and spamspamspam"
      ],
      "metadata": {
        "id": "NFdasofd721-"
      }
    },
    {
      "cell_type": "markdown",
      "source": [
        "8. Why is eggs a valid variable name while 100 is invalid?"
      ],
      "metadata": {
        "id": "oVWxPFV58D5j"
      }
    },
    {
      "cell_type": "markdown",
      "source": [
        "A variable name must start with a letter or the underscore character.\n",
        "\n",
        "\n",
        "A variable name cannot start with a number.\n",
        "\n",
        "\n",
        "A variable name can only contain alpha-numeric characters and underscores (A-z, 0-9, and _ ).\n",
        "\n",
        "so these are the reasaons we cant use 100 as a variable name"
      ],
      "metadata": {
        "id": "sGcLMjAJ9S-g"
      }
    },
    {
      "cell_type": "markdown",
      "source": [
        "9. What three functions can be used to get the integer, floating-point number, or string\n",
        "version of a value?"
      ],
      "metadata": {
        "id": "Rj9FlhBh9rcq"
      }
    },
    {
      "cell_type": "markdown",
      "source": [
        "there is int() function to get integer value.\n",
        "\n",
        "float() function to get floating-point number\n",
        "\n",
        "str() function to  get or convert into string"
      ],
      "metadata": {
        "id": "yIVBOBcV_GcH"
      }
    },
    {
      "cell_type": "markdown",
      "source": [
        "10. Why does this expression cause an error? How can you fix it?\n",
        "&#39;I have eaten &#39; + 99 + &#39; burritos.&#39;"
      ],
      "metadata": {
        "id": "nLmfsksO_haQ"
      }
    },
    {
      "cell_type": "markdown",
      "source": [
        "because above expression contain integer value in between of string it gives a TypeError\n",
        "\n",
        "it can only concatenate str (not \"int\") to str\n",
        "\n",
        "i can write it as 'i have eaten 99 burritos'"
      ],
      "metadata": {
        "id": "19czWV07_5bH"
      }
    },
    {
      "cell_type": "code",
      "source": [],
      "metadata": {
        "id": "egoGHuna_vP5"
      },
      "execution_count": null,
      "outputs": []
    }
  ]
}