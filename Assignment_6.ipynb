{
  "nbformat": 4,
  "nbformat_minor": 0,
  "metadata": {
    "colab": {
      "provenance": []
    },
    "kernelspec": {
      "name": "python3",
      "display_name": "Python 3"
    },
    "language_info": {
      "name": "python"
    }
  },
  "cells": [
    {
      "cell_type": "markdown",
      "source": [
        "##1. What are escape characters, and how do you use them?"
      ],
      "metadata": {
        "id": "8MBdyBwbtNGZ"
      }
    },
    {
      "cell_type": "markdown",
      "source": [
        "##Answer\n",
        "Escape characters are characters that are generally used to perform certain tasks and their usage in code directs the compiler to take a suitable action mapped to that character.\n",
        "\n",
        "\"\\t\" is a tab, \"\\n\" is a newline, and \"\\r\" is a carriage return\n"
      ],
      "metadata": {
        "id": "eUlJMuq3uBw9"
      }
    },
    {
      "cell_type": "code",
      "source": [
        "#Example\n",
        "a=\"iam\\ta\\tstudent\\nof\\nineuron\"\n",
        "print(a)"
      ],
      "metadata": {
        "colab": {
          "base_uri": "https://localhost:8080/"
        },
        "id": "wQSkbtMfuK1s",
        "outputId": "8e1b53bd-59e9-4340-cce9-c47f00e793bb"
      },
      "execution_count": 3,
      "outputs": [
        {
          "output_type": "stream",
          "name": "stdout",
          "text": [
            "iam\ta\tstudent\n",
            "of\n",
            "ineuron\n"
          ]
        }
      ]
    },
    {
      "cell_type": "markdown",
      "source": [
        "##2. What do the escape characters n and t stand for?"
      ],
      "metadata": {
        "id": "s-BV3Yg9uKEc"
      }
    },
    {
      "cell_type": "markdown",
      "source": [
        "##Answer\n",
        "\n",
        "\"\\t\" is for tab and \"\\n\" is for a newline"
      ],
      "metadata": {
        "id": "0nYM3Y7rvO6w"
      }
    },
    {
      "cell_type": "markdown",
      "source": [
        "##3. What is the way to include backslash characters in a string?"
      ],
      "metadata": {
        "id": "9_8nq1tUvmuV"
      }
    },
    {
      "cell_type": "code",
      "source": [
        "print('its a back slash \\\\ in a sentence')"
      ],
      "metadata": {
        "colab": {
          "base_uri": "https://localhost:8080/"
        },
        "id": "jzOwdCXdvIqg",
        "outputId": "c7e5fed3-0b2f-41f2-c04e-fb9f11389a40"
      },
      "execution_count": 4,
      "outputs": [
        {
          "output_type": "stream",
          "name": "stdout",
          "text": [
            "its a back slash \\ in a sentence\n"
          ]
        }
      ]
    },
    {
      "cell_type": "markdown",
      "source": [
        "##4. The string &quot;Howl&#39;s Moving Castle&quot; is a correct value. Why isn&#39;t the single quote character in the\n",
        "##word Howl&#39;s not escaped a problem?"
      ],
      "metadata": {
        "id": "gTodwNjVwR0C"
      }
    },
    {
      "cell_type": "markdown",
      "source": [
        "##Answer\n",
        "as we've used double quotes in starting and ending of a string,so it doesn't cause any problem with single quote in between."
      ],
      "metadata": {
        "id": "k1Q8gaLLwrhR"
      }
    },
    {
      "cell_type": "markdown",
      "source": [
        "##5. How do you write a string of newlines if you don&#39;t want to use the n character?"
      ],
      "metadata": {
        "id": "AuhSGLcsxWJy"
      }
    },
    {
      "cell_type": "code",
      "source": [
        "print(\"welcome to ineuron\",end = '\\n')\n",
        "print(\"ineuron\")"
      ],
      "metadata": {
        "colab": {
          "base_uri": "https://localhost:8080/"
        },
        "id": "xuRZn65-wNVg",
        "outputId": "9c1a136e-4d2e-49c5-fbee-580ea6307f2a"
      },
      "execution_count": 7,
      "outputs": [
        {
          "output_type": "stream",
          "name": "stdout",
          "text": [
            "welcome to ineuron\n",
            "ineuron\n"
          ]
        }
      ]
    },
    {
      "cell_type": "markdown",
      "source": [
        "##6. What are the values of the given expressions?\n",
        "##&#39;Hello, world!&#39;[1]\n",
        "\n",
        "##&#39;Hello, world!&#39;[0:5]\n",
        "\n",
        "##&#39;Hello, world!&#39;[:5]\n",
        "\n",
        "##&#39;Hello, world!&#39;[3:]"
      ],
      "metadata": {
        "id": "QTmKOXJ8x4yw"
      }
    },
    {
      "cell_type": "code",
      "source": [
        "'Hello, world!'[1]"
      ],
      "metadata": {
        "colab": {
          "base_uri": "https://localhost:8080/",
          "height": 35
        },
        "id": "_IqeMGCGxmpC",
        "outputId": "538acd0e-4d44-4100-d911-3bcff6c7d719"
      },
      "execution_count": 8,
      "outputs": [
        {
          "output_type": "execute_result",
          "data": {
            "text/plain": [
              "'e'"
            ],
            "application/vnd.google.colaboratory.intrinsic+json": {
              "type": "string"
            }
          },
          "metadata": {},
          "execution_count": 8
        }
      ]
    },
    {
      "cell_type": "code",
      "source": [
        "'Hello, world!'[0:5]"
      ],
      "metadata": {
        "colab": {
          "base_uri": "https://localhost:8080/",
          "height": 35
        },
        "id": "PpdH_33dyRAy",
        "outputId": "a32f8e9d-568a-47a0-ec1f-8d01dd36b8cf"
      },
      "execution_count": 9,
      "outputs": [
        {
          "output_type": "execute_result",
          "data": {
            "text/plain": [
              "'Hello'"
            ],
            "application/vnd.google.colaboratory.intrinsic+json": {
              "type": "string"
            }
          },
          "metadata": {},
          "execution_count": 9
        }
      ]
    },
    {
      "cell_type": "code",
      "source": [
        "'Hello, world!'[:5]"
      ],
      "metadata": {
        "colab": {
          "base_uri": "https://localhost:8080/",
          "height": 35
        },
        "id": "7dMI1QjsyU-X",
        "outputId": "9261af9a-6080-4525-b1e3-6b09578855e0"
      },
      "execution_count": 10,
      "outputs": [
        {
          "output_type": "execute_result",
          "data": {
            "text/plain": [
              "'Hello'"
            ],
            "application/vnd.google.colaboratory.intrinsic+json": {
              "type": "string"
            }
          },
          "metadata": {},
          "execution_count": 10
        }
      ]
    },
    {
      "cell_type": "code",
      "source": [
        "'Hello, world!'[3:]"
      ],
      "metadata": {
        "colab": {
          "base_uri": "https://localhost:8080/",
          "height": 35
        },
        "id": "BeahsTlRyayW",
        "outputId": "19a2620d-1851-4942-c993-99bc5c708cd1"
      },
      "execution_count": 11,
      "outputs": [
        {
          "output_type": "execute_result",
          "data": {
            "text/plain": [
              "'lo, world!'"
            ],
            "application/vnd.google.colaboratory.intrinsic+json": {
              "type": "string"
            }
          },
          "metadata": {},
          "execution_count": 11
        }
      ]
    },
    {
      "cell_type": "markdown",
      "source": [
        "##7. What are the values of the following expressions?\n",
        "##&#39;Hello&#39;.upper()\n",
        "\n",
        "##&#39;Hello&#39;.upper().isupper()\n",
        "\n",
        "##&#39;Hello&#39;.upper().lower()"
      ],
      "metadata": {
        "id": "xkX_q5ZlyhVC"
      }
    },
    {
      "cell_type": "code",
      "source": [
        "'Hello'.upper()"
      ],
      "metadata": {
        "colab": {
          "base_uri": "https://localhost:8080/",
          "height": 35
        },
        "id": "v03ghR6AydfP",
        "outputId": "cc538a55-2db2-434e-bd03-7c24ad393480"
      },
      "execution_count": 12,
      "outputs": [
        {
          "output_type": "execute_result",
          "data": {
            "text/plain": [
              "'HELLO'"
            ],
            "application/vnd.google.colaboratory.intrinsic+json": {
              "type": "string"
            }
          },
          "metadata": {},
          "execution_count": 12
        }
      ]
    },
    {
      "cell_type": "code",
      "source": [
        "'Hello'.upper().isupper()"
      ],
      "metadata": {
        "colab": {
          "base_uri": "https://localhost:8080/"
        },
        "id": "CbaqTBIxyxWC",
        "outputId": "e8460949-d394-439a-9972-76e849ee77d1"
      },
      "execution_count": 13,
      "outputs": [
        {
          "output_type": "execute_result",
          "data": {
            "text/plain": [
              "True"
            ]
          },
          "metadata": {},
          "execution_count": 13
        }
      ]
    },
    {
      "cell_type": "code",
      "source": [
        "'Hello'.upper().lower()"
      ],
      "metadata": {
        "colab": {
          "base_uri": "https://localhost:8080/",
          "height": 35
        },
        "id": "qFiYmLbZy0J5",
        "outputId": "049627b0-3c1f-445d-9abd-f3620161d3ed"
      },
      "execution_count": 14,
      "outputs": [
        {
          "output_type": "execute_result",
          "data": {
            "text/plain": [
              "'hello'"
            ],
            "application/vnd.google.colaboratory.intrinsic+json": {
              "type": "string"
            }
          },
          "metadata": {},
          "execution_count": 14
        }
      ]
    },
    {
      "cell_type": "markdown",
      "source": [
        "##8. What are the values of the following expressions?\n",
        "\n",
        "&#39;Remember, remember, the fifth of July.&#39;.split()\n",
        "&#39;-&#39;.join(&#39;There can only one.&#39;.split())"
      ],
      "metadata": {
        "id": "aa-sSZpVy8ul"
      }
    },
    {
      "cell_type": "code",
      "source": [
        "'Remember, remember, the fifth of July.'.split()"
      ],
      "metadata": {
        "colab": {
          "base_uri": "https://localhost:8080/"
        },
        "id": "ZRxdIdoKy44p",
        "outputId": "0ecda139-7147-4c48-b172-7888d9642f2b"
      },
      "execution_count": 15,
      "outputs": [
        {
          "output_type": "execute_result",
          "data": {
            "text/plain": [
              "['Remember,', 'remember,', 'the', 'fifth', 'of', 'July.']"
            ]
          },
          "metadata": {},
          "execution_count": 15
        }
      ]
    },
    {
      "cell_type": "code",
      "source": [
        "'-'.join('There can only one.'.split())"
      ],
      "metadata": {
        "colab": {
          "base_uri": "https://localhost:8080/",
          "height": 35
        },
        "id": "8670xt_8zWmA",
        "outputId": "da41a9c5-95e8-4cb5-c7ce-e7735293ef8f"
      },
      "execution_count": 16,
      "outputs": [
        {
          "output_type": "execute_result",
          "data": {
            "text/plain": [
              "'There-can-only-one.'"
            ],
            "application/vnd.google.colaboratory.intrinsic+json": {
              "type": "string"
            }
          },
          "metadata": {},
          "execution_count": 16
        }
      ]
    },
    {
      "cell_type": "markdown",
      "source": [
        "##9. What are the methods for right-justifying, left-justifying, and centering a string?"
      ],
      "metadata": {
        "id": "2Cmb7Id5zlPC"
      }
    },
    {
      "cell_type": "markdown",
      "source": [
        "##Answer\n",
        "The following methods are used for justifying strings\n",
        "\n",
        "ljust() ---->for left justifying\n",
        "\n",
        "rjust() ---->right justifying\n",
        "\n",
        "center() --->center justifying\n"
      ],
      "metadata": {
        "id": "_UWYl4OQzrfo"
      }
    },
    {
      "cell_type": "code",
      "source": [
        "#left justifying\n",
        "str =\"Hello\"\n",
        "str.ljust(10,\".\")"
      ],
      "metadata": {
        "colab": {
          "base_uri": "https://localhost:8080/",
          "height": 35
        },
        "id": "OFaYY5R-zevv",
        "outputId": "29b5d793-89a8-46c0-9729-708089fb3822"
      },
      "execution_count": 23,
      "outputs": [
        {
          "output_type": "execute_result",
          "data": {
            "text/plain": [
              "'Hello.....'"
            ],
            "application/vnd.google.colaboratory.intrinsic+json": {
              "type": "string"
            }
          },
          "metadata": {},
          "execution_count": 23
        }
      ]
    },
    {
      "cell_type": "code",
      "source": [
        "#right justifying\n",
        "str =\"How are you\"\n",
        "str.rjust(15,'*')"
      ],
      "metadata": {
        "colab": {
          "base_uri": "https://localhost:8080/",
          "height": 35
        },
        "id": "C125iebp0ImT",
        "outputId": "d0291577-6dfb-4030-d3e1-9d754a436e96"
      },
      "execution_count": 24,
      "outputs": [
        {
          "output_type": "execute_result",
          "data": {
            "text/plain": [
              "'****How are you'"
            ],
            "application/vnd.google.colaboratory.intrinsic+json": {
              "type": "string"
            }
          },
          "metadata": {},
          "execution_count": 24
        }
      ]
    },
    {
      "cell_type": "code",
      "source": [
        "#center justifying\n",
        "str =\" How are you \"\n",
        "str.center(40,'$')"
      ],
      "metadata": {
        "colab": {
          "base_uri": "https://localhost:8080/",
          "height": 35
        },
        "id": "DwYsTMG10MVI",
        "outputId": "bbb172e0-598d-490c-b0be-942018ee0ee4"
      },
      "execution_count": 25,
      "outputs": [
        {
          "output_type": "execute_result",
          "data": {
            "text/plain": [
              "'$$$$$$$$$$$$$ How are you $$$$$$$$$$$$$$'"
            ],
            "application/vnd.google.colaboratory.intrinsic+json": {
              "type": "string"
            }
          },
          "metadata": {},
          "execution_count": 25
        }
      ]
    },
    {
      "cell_type": "markdown",
      "source": [
        "##10. What is the best way to remove whitespace characters from the start or end?"
      ],
      "metadata": {
        "id": "k5htCUlg0vNf"
      }
    },
    {
      "cell_type": "markdown",
      "source": [
        "##Answer\n",
        "lstrip() -> removes white spaces from left of the string\n",
        "\n",
        "rstrip() -> removes whitespaces from right of the string"
      ],
      "metadata": {
        "id": "dE7YU7IJ06lx"
      }
    },
    {
      "cell_type": "code",
      "source": [
        "str =\"  hello world  \"\n",
        "str.lstrip()"
      ],
      "metadata": {
        "colab": {
          "base_uri": "https://localhost:8080/",
          "height": 35
        },
        "id": "LV9cySfq0cFx",
        "outputId": "3e51a5c4-94b8-4c5f-f13d-a49974e013d6"
      },
      "execution_count": 26,
      "outputs": [
        {
          "output_type": "execute_result",
          "data": {
            "text/plain": [
              "'hello world  '"
            ],
            "application/vnd.google.colaboratory.intrinsic+json": {
              "type": "string"
            }
          },
          "metadata": {},
          "execution_count": 26
        }
      ]
    },
    {
      "cell_type": "code",
      "source": [
        "str=\"  hello world  \"\n",
        "str.rstrip()"
      ],
      "metadata": {
        "colab": {
          "base_uri": "https://localhost:8080/",
          "height": 35
        },
        "id": "0oclRhtX1Fye",
        "outputId": "95596604-7a95-4e21-b33c-d898335e6aae"
      },
      "execution_count": 27,
      "outputs": [
        {
          "output_type": "execute_result",
          "data": {
            "text/plain": [
              "'  hello world'"
            ],
            "application/vnd.google.colaboratory.intrinsic+json": {
              "type": "string"
            }
          },
          "metadata": {},
          "execution_count": 27
        }
      ]
    }
  ]
}