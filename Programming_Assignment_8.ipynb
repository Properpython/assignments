{
  "nbformat": 4,
  "nbformat_minor": 0,
  "metadata": {
    "colab": {
      "provenance": []
    },
    "kernelspec": {
      "name": "python3",
      "display_name": "Python 3"
    },
    "language_info": {
      "name": "python"
    }
  },
  "cells": [
    {
      "cell_type": "markdown",
      "source": [
        "##1. Write a Python Program to Add Two Matrices?"
      ],
      "metadata": {
        "id": "qIRqXMA06foe"
      }
    },
    {
      "cell_type": "code",
      "execution_count": 2,
      "metadata": {
        "colab": {
          "base_uri": "https://localhost:8080/"
        },
        "id": "bqcMjR1n6Qc_",
        "outputId": "729932f9-3bf9-4f58-8c0a-4871944eafb6"
      },
      "outputs": [
        {
          "output_type": "stream",
          "name": "stdout",
          "text": [
            "[10, 9, 10]\n",
            "[10, 10, 25]\n",
            "[10, 33, 19]\n"
          ]
        }
      ],
      "source": [
        "\n",
        "X = [[1,2,3],\n",
        "    [4 ,5,6],\n",
        "    [7 ,8,9]]\n",
        "\n",
        "Y = [[9,7,7],\n",
        "    [6,5,19],\n",
        "    [3,25,10]]\n",
        "\n",
        "result = [[0,0,0],\n",
        "        [0,0,0],\n",
        "        [0,0,0]]\n",
        "for i in range(len(X)):  \n",
        "    for j in range(len(X[0])):\n",
        "        result[i][j] = X[i][j] + Y[i][j]\n",
        " \n",
        "for r in result:\n",
        "    print(r)"
      ]
    },
    {
      "cell_type": "markdown",
      "source": [
        "##2. Write a Python Program to Multiply Two Matrices?"
      ],
      "metadata": {
        "id": "-NZmEwi47VjR"
      }
    },
    {
      "cell_type": "code",
      "source": [
        "A = [[12, 7, 3],\n",
        "    [4, 5, 6],\n",
        "    [7, 8, 9]]\n",
        " \n",
        "# take a 3x4 matrix   \n",
        "B = [[5, 8, 1, 2],\n",
        "    [6, 7, 3, 0],\n",
        "    [4, 5, 9, 1]]\n",
        "     \n",
        "result = [[0, 0, 0, 0],\n",
        "        [0, 0, 0, 0],\n",
        "        [0, 0, 0, 0]]\n",
        "\n",
        "for i in range(len(A)):\n",
        "    for j in range(len(B[0])):\n",
        "        for k in range(len(B)):\n",
        "            result[i][j] += A[i][k] * B[k][j]\n",
        " \n",
        "for r in result:\n",
        "    print(r)"
      ],
      "metadata": {
        "colab": {
          "base_uri": "https://localhost:8080/"
        },
        "id": "jT4SPdnV7DTL",
        "outputId": "12b8a712-0b6e-4573-d764-53167345e904"
      },
      "execution_count": 3,
      "outputs": [
        {
          "output_type": "stream",
          "name": "stdout",
          "text": [
            "[114, 160, 60, 27]\n",
            "[74, 97, 73, 14]\n",
            "[119, 157, 112, 23]\n"
          ]
        }
      ]
    },
    {
      "cell_type": "markdown",
      "source": [
        "##3. Write a Python Program to Transpose a Matrix?"
      ],
      "metadata": {
        "id": "rBjCY3UO8Xun"
      }
    },
    {
      "cell_type": "code",
      "source": [
        "N = 4\n",
        "\n",
        "def transpose(A,B):\n",
        " for i in range(N):\n",
        "  for j in range(N):\n",
        "   B[i][j] = A[j][i]\n",
        " \n",
        "A = [ [1, 1, 1, 1],\n",
        " [2, 2, 2, 2],\n",
        " [3, 3, 3, 3],\n",
        " [4, 4, 4, 4]]\n",
        " \n",
        " \n",
        "B = A[:][:]\n",
        " \n",
        "transpose(A, B)\n",
        " \n",
        "print(\"Result matrix is\")\n",
        "for i in range(N):\n",
        " for j in range(N):\n",
        "  print(B[i][j], \" \", end='')\n",
        " print()"
      ],
      "metadata": {
        "colab": {
          "base_uri": "https://localhost:8080/"
        },
        "id": "6WUb6HKv7-Wa",
        "outputId": "f5015a2e-8517-44f9-a5ed-8260e9805c56"
      },
      "execution_count": 4,
      "outputs": [
        {
          "output_type": "stream",
          "name": "stdout",
          "text": [
            "Result matrix is\n",
            "1  2  3  4  \n",
            "2  2  3  4  \n",
            "3  3  3  4  \n",
            "4  4  4  4  \n"
          ]
        }
      ]
    },
    {
      "cell_type": "markdown",
      "source": [
        "##4. Write a Python Program to Sort Words in Alphabetic Order?"
      ],
      "metadata": {
        "id": "NECTtiMn9b6n"
      }
    },
    {
      "cell_type": "code",
      "source": [
        "def F(S):\n",
        "    W = S.split(\" \")\n",
        "    for i in range(len(W)):\n",
        "        W[i] = W[i].lower()\n",
        "    W.sort()\n",
        " \n",
        "    # return the sorted words\n",
        "    return ' '.join(W)\n",
        " \n",
        "# Driver code\n",
        "S = \"hi iam from ineuron\"\n",
        "print(F(S))"
      ],
      "metadata": {
        "colab": {
          "base_uri": "https://localhost:8080/"
        },
        "id": "-jxnsOXo9YSN",
        "outputId": "fee6948c-b1ff-4ba5-dba0-d050b8a50a44"
      },
      "execution_count": 7,
      "outputs": [
        {
          "output_type": "stream",
          "name": "stdout",
          "text": [
            "from hi iam ineuron\n"
          ]
        }
      ]
    },
    {
      "cell_type": "markdown",
      "source": [
        "##5. Write a Python Program to Remove Punctuation From a String?"
      ],
      "metadata": {
        "id": "Z5aaMsBo_-lc"
      }
    },
    {
      "cell_type": "code",
      "source": [
        "test_str = \"ineuron, is best : for ! datascience ;\"\n",
        "print(\"The original string is : \" + test_str)\n",
        " \n",
        "punc = '''!()-[]{};:'\"\\,<>./?@#$%^&*_~'''\n",
        "for ele in test_str:\n",
        "    if ele in punc:\n",
        "        test_str = test_str.replace(ele, \"\")\n",
        "print(\"The string after punctuation filter : \" + test_str)"
      ],
      "metadata": {
        "colab": {
          "base_uri": "https://localhost:8080/"
        },
        "id": "g7hH5jMN-Ess",
        "outputId": "90a20738-5913-4d77-bcd6-fa146dc61fcf"
      },
      "execution_count": 12,
      "outputs": [
        {
          "output_type": "stream",
          "name": "stdout",
          "text": [
            "The original string is : ineuron, is best : for ! datascience ;\n",
            "The string after punctuation filter : ineuron is best  for  datascience \n"
          ]
        }
      ]
    }
  ]
}