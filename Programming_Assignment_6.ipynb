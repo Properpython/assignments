{
  "nbformat": 4,
  "nbformat_minor": 0,
  "metadata": {
    "colab": {
      "provenance": []
    },
    "kernelspec": {
      "name": "python3",
      "display_name": "Python 3"
    },
    "language_info": {
      "name": "python"
    }
  },
  "cells": [
    {
      "cell_type": "markdown",
      "source": [
        "##1. Write a Python Program to Display Fibonacci Sequence Using Recursion?"
      ],
      "metadata": {
        "id": "-WqlQya7rFNg"
      }
    },
    {
      "cell_type": "code",
      "execution_count": 1,
      "metadata": {
        "colab": {
          "base_uri": "https://localhost:8080/"
        },
        "id": "R067lkemrCdj",
        "outputId": "3d52c859-7f52-4809-88f8-e6eeb89c1d26"
      },
      "outputs": [
        {
          "output_type": "stream",
          "name": "stdout",
          "text": [
            "Fibonacci sequence:\n",
            "0\n",
            "1\n",
            "1\n",
            "2\n",
            "3\n",
            "5\n",
            "8\n",
            "13\n",
            "21\n",
            "34\n"
          ]
        }
      ],
      "source": [
        "def recur_fibo(n):\n",
        "   if n <= 1:\n",
        "       return n\n",
        "   else:\n",
        "       return(recur_fibo(n-1) + recur_fibo(n-2))\n",
        "nterms = 10\n",
        "if nterms <= 0:\n",
        "   print(\"Plese enter a positive integer\")\n",
        "else:\n",
        "   print(\"Fibonacci sequence:\")\n",
        "   for i in range(nterms):\n",
        "       print(recur_fibo(i))"
      ]
    },
    {
      "cell_type": "markdown",
      "source": [
        "##2. Write a Python Program to Find Factorial of Number Using Recursion?"
      ],
      "metadata": {
        "id": "bmmKrLcgszJI"
      }
    },
    {
      "cell_type": "code",
      "source": [
        "def recur_factorial(n):\n",
        "   if n == 1:\n",
        "       return n\n",
        "   else:\n",
        "       return n*recur_factorial(n-1)\n",
        "num = 7\n",
        "if num < 0:\n",
        "   print(\"Sorry, factorial does not exist for negative numbers\")\n",
        "elif num == 0:\n",
        "   print(\"The factorial of 0 is 1\")\n",
        "else:\n",
        "   print(\"The factorial of\", num, \"is\", recur_factorial(num))"
      ],
      "metadata": {
        "id": "Q_sI729psZlf"
      },
      "execution_count": null,
      "outputs": []
    },
    {
      "cell_type": "markdown",
      "source": [
        "##3. Write a Python Program to Find Factorial of Number Using Recursion?"
      ],
      "metadata": {
        "id": "8zuTM10Cs_9A"
      }
    },
    {
      "cell_type": "code",
      "source": [
        "height = float(input(\"Enter your height(m): \"))\n",
        "weight = float(input(\"Enter your weight(kg): \"))\n",
        "print(\"Your BMI is: \", round(weight / (height * height), 2))"
      ],
      "metadata": {
        "colab": {
          "base_uri": "https://localhost:8080/"
        },
        "id": "NA6ZGeUhtBAR",
        "outputId": "31e5eb12-3e8b-4d08-d99a-64e658bf945e"
      },
      "execution_count": 2,
      "outputs": [
        {
          "output_type": "stream",
          "name": "stdout",
          "text": [
            "Enter your height(m): 5.7\n",
            "Enter your weight(kg): 63\n",
            "Your BMI is:  1.94\n"
          ]
        }
      ]
    },
    {
      "cell_type": "markdown",
      "source": [
        "##4. Write a Python Program to calculate the natural logarithm of any number?"
      ],
      "metadata": {
        "id": "dtWXT9l7thrA"
      }
    },
    {
      "cell_type": "code",
      "source": [
        "import math\n",
        "a=int(input(\"enter the log value: \"))\n",
        "print(f\"the natural log value of {a} is \",math.log(a))"
      ],
      "metadata": {
        "colab": {
          "base_uri": "https://localhost:8080/"
        },
        "id": "A0l9PhRktUbS",
        "outputId": "1d8f52ae-f26c-4de9-ab84-14dafeb4d60f"
      },
      "execution_count": 3,
      "outputs": [
        {
          "output_type": "stream",
          "name": "stdout",
          "text": [
            "enter the log value: 10\n",
            "the natural log value of 10 is  2.302585092994046\n"
          ]
        }
      ]
    },
    {
      "cell_type": "markdown",
      "source": [
        "##5. Write a Python Program for cube sum of first n natural numbers?"
      ],
      "metadata": {
        "id": "F0kq87Grujy0"
      }
    },
    {
      "cell_type": "code",
      "source": [
        "def sumOfSeries(n):\n",
        "    sum = 0\n",
        "    for i in range(1, n+1):\n",
        "        sum +=pow(i,3)\n",
        "         \n",
        "    return sum\n",
        "n =int(input(\"enter the number: \"))\n",
        "print(sumOfSeries(n))"
      ],
      "metadata": {
        "colab": {
          "base_uri": "https://localhost:8080/"
        },
        "id": "SXxvFAhhuQe-",
        "outputId": "31c86699-2b8d-46c8-bb1c-17f7efa3b4fd"
      },
      "execution_count": 5,
      "outputs": [
        {
          "output_type": "stream",
          "name": "stdout",
          "text": [
            "enter the number: 5\n",
            "225\n"
          ]
        }
      ]
    },
    {
      "cell_type": "code",
      "source": [],
      "metadata": {
        "id": "zgd0ZxMVuvLV"
      },
      "execution_count": null,
      "outputs": []
    }
  ]
}