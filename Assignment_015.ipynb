{
  "nbformat": 4,
  "nbformat_minor": 0,
  "metadata": {
    "colab": {
      "provenance": []
    },
    "kernelspec": {
      "name": "python3",
      "display_name": "Python 3"
    },
    "language_info": {
      "name": "python"
    }
  },
  "cells": [
    {
      "cell_type": "markdown",
      "source": [
        "##1. What are the new features added in Python 3.8 version?"
      ],
      "metadata": {
        "id": "caWsH0OuqP4N"
      }
    },
    {
      "cell_type": "markdown",
      "source": [
        "Python 3.8, released on October 14, 2019, introduced several new features and improvements. Some of the notable features added in Python 3.8 are:\n",
        "\n",
        "Assignment Expressions (The Walrus Operator):\n",
        "\n",
        "Python 3.8 introduced the \"walrus operator\" :=, which allows you to assign values to variables as part of an expression.\n",
        "\n",
        "Positional-Only Parameters:\n",
        "\n",
        " Python 3.8 added support for defining positional-only parameters in function signatures by using the / symbol. This allows you to enforce that certain parameters must be passed positionally and cannot be specified using keyword arguments.\n",
        "\n",
        " f-strings Support = for Debugging: Python 3.8 introduced the ability to use = inside f-strings to display variable names and their values, which is helpful for debugging.\n",
        "\n",
        "\n",
        " These are just some of the new features introduced in Python 3.8. The release also included various performance improvements, optimizations, and bug fixes. As always, it's recommended to refer to the official Python documentation or release notes for a comprehensive list of changes and enhancements in Python 3.8."
      ],
      "metadata": {
        "id": "3QoGSGPoqQG9"
      }
    },
    {
      "cell_type": "markdown",
      "source": [
        "##2. What is monkey patching in Python?"
      ],
      "metadata": {
        "id": "u-Goh9X3qQat"
      }
    },
    {
      "cell_type": "markdown",
      "source": [
        "Monkey patching in Python refers to the practice of dynamically modifying or extending the behavior of a module, class, or function at runtime. It involves changing the behavior of an object or adding new functionality to it without altering its original source code. The term \"monkey patching\" comes from the idea of \"monkeying\" with the code."
      ],
      "metadata": {
        "id": "Qr96oliGqQ4y"
      }
    },
    {
      "cell_type": "markdown",
      "source": [
        "##3. What is the difference between a shallow copy and deep copy?"
      ],
      "metadata": {
        "id": "MdlgX16tqRKH"
      }
    },
    {
      "cell_type": "markdown",
      "source": [
        "A shallow copy means constructing a new collection object and then populating it with references to the child objects found in the original. In essence, a shallow copy is only one level deep. The copying process does not recurse and therefore won’t create copies of the child objects themselves.\n",
        "\n",
        "A deep copy makes the copying process recursive. It means first constructing a new collection object and then recursively populating it with copies of the child objects found in the original. Copying an object this way walks the whole object tree to create a fully independent clone of the original object and all of its children."
      ],
      "metadata": {
        "id": "LEnrgd7eqRbN"
      }
    },
    {
      "cell_type": "markdown",
      "source": [
        "##4. What is the maximum possible length of an identifier?"
      ],
      "metadata": {
        "id": "ldTpqI8AqSAO"
      }
    },
    {
      "cell_type": "markdown",
      "source": [
        "In Python, the maximum possible length of an identifier (variable name, function name, class name, etc.) is implementation-dependent. It can vary based on the Python implementation you are using (e.g., CPython, Jython, IronPython) and the version of Python"
      ],
      "metadata": {
        "id": "rdCLDXWoqSQy"
      }
    },
    {
      "cell_type": "markdown",
      "source": [
        "##5. What is generator comprehension?"
      ],
      "metadata": {
        "id": "91usGQIUqSjW"
      }
    },
    {
      "cell_type": "markdown",
      "source": [
        "Generator comprehension, also known as generator expression, is a concise and memory-efficient way to create generator objects in Python. It is similar to list comprehension but uses parentheses () instead of square brackets [].\n",
        "\n",
        "Generator comprehension allows you to generate elements on-the-fly without creating an intermediate list or data structure in memory. Instead of creating and storing all the elements at once, a generator expression generates values one at a time as they are requested or iterated over."
      ],
      "metadata": {
        "id": "10q1VfJ3qS2b"
      }
    },
    {
      "cell_type": "code",
      "execution_count": null,
      "metadata": {
        "id": "pZCpZNT7qOQI"
      },
      "outputs": [],
      "source": []
    }
  ]
}