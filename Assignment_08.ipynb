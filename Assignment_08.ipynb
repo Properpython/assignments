{
  "nbformat": 4,
  "nbformat_minor": 0,
  "metadata": {
    "colab": {
      "provenance": []
    },
    "kernelspec": {
      "name": "python3",
      "display_name": "Python 3"
    },
    "language_info": {
      "name": "python"
    }
  },
  "cells": [
    {
      "cell_type": "markdown",
      "source": [
        "##Q1. What are the two latest user-defined exception constraints in Python 3.X?"
      ],
      "metadata": {
        "id": "qy-GMnPqMiEo"
      }
    },
    {
      "cell_type": "markdown",
      "source": [
        "\"latest\" user-defined exception constraints since the Python language allows developers to create custom exceptions as needed. Python developers can define their own exception classes by inheriting from the built-in Exception class or any other existing exception class."
      ],
      "metadata": {
        "id": "4pA6wmScMxun"
      }
    },
    {
      "cell_type": "markdown",
      "source": [
        "##Q2. How are class-based exceptions that have been raised matched to handlers?"
      ],
      "metadata": {
        "id": "INE2SgLQM0e3"
      }
    },
    {
      "cell_type": "markdown",
      "source": [
        "Raising the Exception:\n",
        "\n",
        "When an exceptional situation occurs in the code, an exception is raised using the raise statement. The raise statement can be used with or without an exception object. If an exception object is provided, it represents the specific exception being raised.\n",
        "\n",
        "Searching for the Exception Handler:\n",
        "\n",
        "Python will start searching for the appropriate exception handler in the current scope and then propagate upwards through the call stack. It looks for an exception handler that can catch the specific type of exception being raised or a base class of that exception.\n",
        "\n",
        "Exception Handling:\n",
        "\n",
        "When a matching exception handler is found, Python executes the code inside the corresponding except block. If no matching handler is found in the current scope or any enclosing scope, Python will terminate the program and display the traceback, which includes information about where the exception was raised."
      ],
      "metadata": {
        "id": "uC8B272dM1Hl"
      }
    },
    {
      "cell_type": "markdown",
      "source": [
        "##Q3. Describe two methods for attaching context information to exception artefacts."
      ],
      "metadata": {
        "id": "wY856EEuM1pf"
      }
    },
    {
      "cell_type": "markdown",
      "source": [
        "Using the args attribute of the exception class:\n",
        "\n",
        "In Python, every exception instance has an args attribute that contains the arguments passed to the exception when it was raised. You can utilize this attribute to include additional context information as a tuple of values.\n",
        "\n",
        "Subclassing Exception and using instance variables:\n",
        "\n",
        "Another approach is to create a custom exception class by subclassing the built-in Exception class and adding instance variables to store the context information. This way, you can have named attributes for the context information, making it more readable and accessible."
      ],
      "metadata": {
        "id": "Zg80wuJdM2EP"
      }
    },
    {
      "cell_type": "markdown",
      "source": [
        "##Q4. Describe two methods for specifying the text of an exception object&#39;s error message."
      ],
      "metadata": {
        "id": "X3m4Kd9gNXqO"
      }
    },
    {
      "cell_type": "markdown",
      "source": [
        "Using a String Argument in raise statement:\n",
        "\n",
        "The simplest and most common way to specify the error message of an exception object is by passing a string argument to the raise statement. When an exception is raised, the string argument will become the error message associated with the exception.\n",
        "\n",
        "Creating Custom Exception Classes with Error Messages:\n",
        "\n",
        "Another approach is to create custom exception classes that inherit from the built-in Exception class and provide the error message as an instance variable or an argument in the constructor."
      ],
      "metadata": {
        "id": "lDjzetGcNh3_"
      }
    },
    {
      "cell_type": "markdown",
      "source": [
        "##Q5. Why do you no longer use string-based exceptions?"
      ],
      "metadata": {
        "id": "6w6XIGyUNpN_"
      }
    },
    {
      "cell_type": "markdown",
      "source": [
        "No Clear Type Information:\n",
        "\n",
        " Using string-based exceptions does not provide any clear type information about the exception being raised. This makes it harder to distinguish different types of exceptions and handle them appropriately.\n",
        "\n",
        "Lack of Structure:\n",
        "\n",
        "String-based exceptions lack a formal structure, leading to less maintainable and readable code. Without a well-defined structure, it becomes challenging to extract meaningful information from the exceptions.\n",
        "\n",
        "No Custom Attributes or Methods:\n",
        "\n",
        " With string-based exceptions, you cannot define custom attributes or methods on the exception objects. This limits your ability to attach additional context information or customize exception handling.\n",
        "\n",
        "Localization and Internationalization Issues:\n",
        "\n",
        "String-based exceptions can pose challenges when it comes to localization and internationalization (i18n) of error messages, as it may require changing the code itself to support different languages.\n",
        "\n"
      ],
      "metadata": {
        "id": "hQtgIZB4NzUl"
      }
    },
    {
      "cell_type": "code",
      "execution_count": null,
      "metadata": {
        "id": "d4JYX2dBMWWA"
      },
      "outputs": [],
      "source": []
    }
  ]
}