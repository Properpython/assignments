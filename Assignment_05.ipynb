{
  "nbformat": 4,
  "nbformat_minor": 0,
  "metadata": {
    "colab": {
      "provenance": []
    },
    "kernelspec": {
      "name": "python3",
      "display_name": "Python 3"
    },
    "language_info": {
      "name": "python"
    }
  },
  "cells": [
    {
      "cell_type": "markdown",
      "source": [
        "##Q1. What is the meaning of multiple inheritance?"
      ],
      "metadata": {
        "id": "AI8z1Ar9ioT3"
      }
    },
    {
      "cell_type": "markdown",
      "source": [
        "Multiple inheritance is a feature in object-oriented programming languages that allows a class to inherit from more than one superclass (also known as base class or parent class). In other words, a class can have multiple direct parent classes from which it inherits attributes and methods.\n",
        "\n",
        "In a single inheritance model, a class can have only one direct superclass. However, in multiple inheritance, a class can inherit from multiple superclasses simultaneously, thus gaining the attributes and behavior from all the parent classes."
      ],
      "metadata": {
        "id": "ouaiGsovi1hQ"
      }
    },
    {
      "cell_type": "markdown",
      "source": [
        "##Q2. What is the concept of delegation?"
      ],
      "metadata": {
        "id": "tVmk1-u1i4Nk"
      }
    },
    {
      "cell_type": "markdown",
      "source": [
        "The concept of delegation is a design pattern in object-oriented programming where one object delegates or forwards a specific task or responsibility to another object. Instead of directly implementing the behavior itself, the delegating object passes the responsibility to a delegate object, which is responsible for handling the task.\n",
        "\n",
        "In delegation, the delegating object does not inherit from the delegate object but typically holds a reference to it. The delegating object then calls the corresponding methods on the delegate object, forwarding the task to be performed."
      ],
      "metadata": {
        "id": "o6DZTEbljB21"
      }
    },
    {
      "cell_type": "markdown",
      "source": [
        "##Q3. What is the concept of composition?"
      ],
      "metadata": {
        "id": "Zzv0CewejIOf"
      }
    },
    {
      "cell_type": "markdown",
      "source": [
        "The concept of composition is a design principle in object-oriented programming where one class contains an object of another class, and the contained object plays a vital role in the functionality of the containing class. In other words, composition is a way of constructing complex objects by combining simpler objects or components.\n",
        "\n",
        "Composition is based on the principle of \"has-a\" relationship, meaning that a class \"has-a\" member object of another class as part of its state. This is in contrast to inheritance, which represents an \"is-a\" relationship between classes."
      ],
      "metadata": {
        "id": "gZ5DYdMhjRBg"
      }
    },
    {
      "cell_type": "markdown",
      "source": [
        "##Q4. What are bound methods and how do we use them?"
      ],
      "metadata": {
        "id": "jQAAor7YjT6M"
      }
    },
    {
      "cell_type": "markdown",
      "source": [
        "Bound methods are a concept in object-oriented programming languages, including Python, that refers to methods that are associated with a specific instance of a class. When you call a method on an instance of a class, the method is automatically bound to that instance, meaning that it can access the instance's attributes and operate on its data.\n",
        "\n",
        "In Python, when you access an attribute that is a function defined within a class, it becomes a bound method when accessed from an instance of that class. The instance becomes the first argument (self) that is passed to the method, allowing the method to operate on the data of that specific instance."
      ],
      "metadata": {
        "id": "O7tcbaUWjaJ0"
      }
    },
    {
      "cell_type": "markdown",
      "source": [
        "##Q5. What is the purpose of pseudoprivate attributes?"
      ],
      "metadata": {
        "id": "Fg8mKJmfjclt"
      }
    },
    {
      "cell_type": "markdown",
      "source": [
        "In Python, pseudoprivate attributes (also known as \"name mangling\") are a mechanism to make class attributes less accessible from outside the class. They are created by adding two leading underscores (__) to the attribute name, followed by at most one trailing underscore (_).\n",
        "\n",
        "The purpose of pseudoprivate attributes is to provide a way for class authors to indicate that certain attributes are intended for internal use within the class and its subclasses, rather than being part of the public interface. It's a way to implement data encapsulation and hide implementation details, promoting information hiding and preventing accidental name clashes."
      ],
      "metadata": {
        "id": "07JYE5SMjkhl"
      }
    },
    {
      "cell_type": "code",
      "execution_count": null,
      "metadata": {
        "id": "Wa5ixiRjimIu"
      },
      "outputs": [],
      "source": []
    }
  ]
}