{
  "nbformat": 4,
  "nbformat_minor": 0,
  "metadata": {
    "colab": {
      "provenance": []
    },
    "kernelspec": {
      "name": "python3",
      "display_name": "Python 3"
    },
    "language_info": {
      "name": "python"
    }
  },
  "cells": [
    {
      "cell_type": "markdown",
      "source": [
        "##1. Create a list called years_list, starting with the year of your birth, and each year thereafter until the year of your fifth birthday. For example, if you were born in 1980. the list would be years_list = [1980, 1981, 1982, 1983, 1984, 1985]."
      ],
      "metadata": {
        "id": "NeaDTJ-PlzKY"
      }
    },
    {
      "cell_type": "code",
      "execution_count": 6,
      "metadata": {
        "colab": {
          "base_uri": "https://localhost:8080/"
        },
        "id": "iTKwhBlBkFa6",
        "outputId": "11054f40-675f-4802-a660-36d07aaa5666"
      },
      "outputs": [
        {
          "output_type": "execute_result",
          "data": {
            "text/plain": [
              "[2002, 2003, 2004, 2005, 2006, 2007]"
            ]
          },
          "metadata": {},
          "execution_count": 6
        }
      ],
      "source": [
        "years_list= [i for i in range(2002,2008)]\n",
        "years_list"
      ]
    },
    {
      "cell_type": "markdown",
      "source": [
        "##2. In which year in years_list was your third birthday? Remember, you were 0 years of age for your first year."
      ],
      "metadata": {
        "id": "510j3nIemBx9"
      }
    },
    {
      "cell_type": "code",
      "source": [
        "years_list[3]"
      ],
      "metadata": {
        "colab": {
          "base_uri": "https://localhost:8080/"
        },
        "id": "zery8nF6k46v",
        "outputId": "a561a9f7-e79b-4879-fc16-a06adabb58aa"
      },
      "execution_count": 7,
      "outputs": [
        {
          "output_type": "execute_result",
          "data": {
            "text/plain": [
              "2005"
            ]
          },
          "metadata": {},
          "execution_count": 7
        }
      ]
    },
    {
      "cell_type": "markdown",
      "source": [
        "##3.In the years list, which year were you the oldest?"
      ],
      "metadata": {
        "id": "TySMDqLlmbp3"
      }
    },
    {
      "cell_type": "code",
      "source": [
        "max(years_list)"
      ],
      "metadata": {
        "colab": {
          "base_uri": "https://localhost:8080/"
        },
        "id": "EkOG2l9VmWat",
        "outputId": "0d109f7d-c8bf-4e92-e03a-d96b615cc39e"
      },
      "execution_count": 8,
      "outputs": [
        {
          "output_type": "execute_result",
          "data": {
            "text/plain": [
              "2007"
            ]
          },
          "metadata": {},
          "execution_count": 8
        }
      ]
    },
    {
      "cell_type": "markdown",
      "source": [
        "##4. Make a list called things with these three strings as elements: &quot;mozzarella&quot;, &quot;cinderella&quot;, &quot;salmonella&quot;."
      ],
      "metadata": {
        "id": "XabpgcdEmkJY"
      }
    },
    {
      "cell_type": "code",
      "source": [
        "things=[\"mozzarella\",\"cindrella\",\"salmonella\"]\n",
        "things"
      ],
      "metadata": {
        "colab": {
          "base_uri": "https://localhost:8080/"
        },
        "id": "oObpcui1mghO",
        "outputId": "160afbd2-55d6-4d78-a1ea-9a509411ef79"
      },
      "execution_count": 12,
      "outputs": [
        {
          "output_type": "execute_result",
          "data": {
            "text/plain": [
              "['mozzarella', 'cindrella', 'salmonella']"
            ]
          },
          "metadata": {},
          "execution_count": 12
        }
      ]
    },
    {
      "cell_type": "markdown",
      "source": [
        "##5. Capitalize the element in things that refers to a person and then print the list. Did it change the element in the list?"
      ],
      "metadata": {
        "id": "BnVIsqIMnB1N"
      }
    },
    {
      "cell_type": "code",
      "source": [
        "for i in things:\n",
        "  print(i.capitalize())"
      ],
      "metadata": {
        "colab": {
          "base_uri": "https://localhost:8080/"
        },
        "id": "EyO_Qia5m1nv",
        "outputId": "b9cb9a27-2515-476a-ac33-7eea6fbf4790"
      },
      "execution_count": 14,
      "outputs": [
        {
          "output_type": "stream",
          "name": "stdout",
          "text": [
            "Mozzarella\n",
            "Cindrella\n",
            "Salmonella\n"
          ]
        }
      ]
    },
    {
      "cell_type": "code",
      "source": [
        "things"
      ],
      "metadata": {
        "colab": {
          "base_uri": "https://localhost:8080/"
        },
        "id": "wG81i1nPnZXK",
        "outputId": "aac5cc43-603a-48f6-9745-0a8c0b398f6b"
      },
      "execution_count": 15,
      "outputs": [
        {
          "output_type": "execute_result",
          "data": {
            "text/plain": [
              "['mozzarella', 'cindrella', 'salmonella']"
            ]
          },
          "metadata": {},
          "execution_count": 15
        }
      ]
    },
    {
      "cell_type": "markdown",
      "source": [
        "the elements are not changed in the list"
      ],
      "metadata": {
        "id": "0uIIOqGZnll9"
      }
    },
    {
      "cell_type": "markdown",
      "source": [
        "##6. Make a surprise list with the elements &quot;Groucho,&quot; &quot;Chico,&quot; and &quot;Harpo.&quot;"
      ],
      "metadata": {
        "id": "0CCbu-K1qYsV"
      }
    },
    {
      "cell_type": "code",
      "source": [
        "surprise_list=[\"Groucho\",\"Chico\",\"Harpo\"]\n",
        "surprise_list"
      ],
      "metadata": {
        "colab": {
          "base_uri": "https://localhost:8080/"
        },
        "id": "Dl1XqC9ynhhr",
        "outputId": "c6e86ded-2acd-402c-bf1c-c3790b060f9d"
      },
      "execution_count": 18,
      "outputs": [
        {
          "output_type": "execute_result",
          "data": {
            "text/plain": [
              "['Groucho', 'Chico', 'Harpo']"
            ]
          },
          "metadata": {},
          "execution_count": 18
        }
      ]
    },
    {
      "cell_type": "markdown",
      "source": [
        "##7. Lowercase the last element of the surprise list, reverse it, and then capitalize it."
      ],
      "metadata": {
        "id": "aE7OLT7oqyv2"
      }
    },
    {
      "cell_type": "code",
      "source": [
        "surprise_list[-1].lower()"
      ],
      "metadata": {
        "colab": {
          "base_uri": "https://localhost:8080/",
          "height": 35
        },
        "id": "nqafEMR8qnmB",
        "outputId": "ac5c801c-0d27-46ac-c78b-19dbac2e3c57"
      },
      "execution_count": 19,
      "outputs": [
        {
          "output_type": "execute_result",
          "data": {
            "text/plain": [
              "'harpo'"
            ],
            "application/vnd.google.colaboratory.intrinsic+json": {
              "type": "string"
            }
          },
          "metadata": {},
          "execution_count": 19
        }
      ]
    },
    {
      "cell_type": "code",
      "source": [
        "surprise_list[-1][::-1]"
      ],
      "metadata": {
        "colab": {
          "base_uri": "https://localhost:8080/",
          "height": 35
        },
        "id": "kGqZt9vprEeA",
        "outputId": "92b60723-9522-4918-d3dc-031aeac0e146"
      },
      "execution_count": 20,
      "outputs": [
        {
          "output_type": "execute_result",
          "data": {
            "text/plain": [
              "'opraH'"
            ],
            "application/vnd.google.colaboratory.intrinsic+json": {
              "type": "string"
            }
          },
          "metadata": {},
          "execution_count": 20
        }
      ]
    },
    {
      "cell_type": "code",
      "source": [
        "surprise_list[-1].capitalize()"
      ],
      "metadata": {
        "colab": {
          "base_uri": "https://localhost:8080/",
          "height": 35
        },
        "id": "32V7Qp0prKSK",
        "outputId": "0a8c6b98-dc53-4630-fb78-9ed3953a3697"
      },
      "execution_count": 21,
      "outputs": [
        {
          "output_type": "execute_result",
          "data": {
            "text/plain": [
              "'Harpo'"
            ],
            "application/vnd.google.colaboratory.intrinsic+json": {
              "type": "string"
            }
          },
          "metadata": {},
          "execution_count": 21
        }
      ]
    },
    {
      "cell_type": "markdown",
      "source": [
        "##8. Make an English-to-French dictionary called e2f and print it. Here are your starter words: dog is chien, cat is chat, and walrus is morse."
      ],
      "metadata": {
        "id": "AV_VQrlAre_k"
      }
    },
    {
      "cell_type": "code",
      "source": [
        "e2f={'dog':'chien',\n",
        "     'cat':'chat',\n",
        "     'walrus':'morse'\n",
        "    \n",
        "}\n",
        "e2f"
      ],
      "metadata": {
        "colab": {
          "base_uri": "https://localhost:8080/"
        },
        "id": "xymH4hDdrYVw",
        "outputId": "0bb37f3f-cbd4-46f7-a42c-5252345f32cb"
      },
      "execution_count": 24,
      "outputs": [
        {
          "output_type": "execute_result",
          "data": {
            "text/plain": [
              "{'dog': 'chien', 'cat': 'chat', 'walrus': 'morse'}"
            ]
          },
          "metadata": {},
          "execution_count": 24
        }
      ]
    },
    {
      "cell_type": "markdown",
      "source": [
        "##9. Write the French word for walrus in your three-word dictionary e2f."
      ],
      "metadata": {
        "id": "WNFR12BMsDzW"
      }
    },
    {
      "cell_type": "code",
      "source": [
        "e2f['walrus']"
      ],
      "metadata": {
        "colab": {
          "base_uri": "https://localhost:8080/",
          "height": 35
        },
        "id": "2qjX4EiNr8W5",
        "outputId": "d469f03e-1045-47df-e8ed-1271dd3955f2"
      },
      "execution_count": 25,
      "outputs": [
        {
          "output_type": "execute_result",
          "data": {
            "text/plain": [
              "'morse'"
            ],
            "application/vnd.google.colaboratory.intrinsic+json": {
              "type": "string"
            }
          },
          "metadata": {},
          "execution_count": 25
        }
      ]
    },
    {
      "cell_type": "markdown",
      "source": [
        "##10. Make a French-to-English dictionary called f2e from e2f. Use the items method."
      ],
      "metadata": {
        "id": "gCHQ4bWOsRK8"
      }
    },
    {
      "cell_type": "code",
      "source": [
        "f2e = dict((key,value) for value,key in e2f.items())\n",
        "f2e"
      ],
      "metadata": {
        "colab": {
          "base_uri": "https://localhost:8080/"
        },
        "id": "z1XPmvjlsLQv",
        "outputId": "46999a6f-dfcd-45ab-f4ef-7296938ee3b5"
      },
      "execution_count": 26,
      "outputs": [
        {
          "output_type": "execute_result",
          "data": {
            "text/plain": [
              "{'chien': 'dog', 'chat': 'cat', 'morse': 'walrus'}"
            ]
          },
          "metadata": {},
          "execution_count": 26
        }
      ]
    },
    {
      "cell_type": "markdown",
      "source": [
        "##11. Print the English version of the French word chien using f2e."
      ],
      "metadata": {
        "id": "3lzm-U7DshCE"
      }
    },
    {
      "cell_type": "code",
      "source": [
        "f2e['chien']"
      ],
      "metadata": {
        "colab": {
          "base_uri": "https://localhost:8080/",
          "height": 35
        },
        "id": "K6D8wFqGselk",
        "outputId": "bc73548d-540d-4c29-93e2-42f33952b55c"
      },
      "execution_count": 27,
      "outputs": [
        {
          "output_type": "execute_result",
          "data": {
            "text/plain": [
              "'dog'"
            ],
            "application/vnd.google.colaboratory.intrinsic+json": {
              "type": "string"
            }
          },
          "metadata": {},
          "execution_count": 27
        }
      ]
    },
    {
      "cell_type": "markdown",
      "source": [
        "##12. Make and print a set of English words from the keys in e2f."
      ],
      "metadata": {
        "id": "Ylw29Hh8snu4"
      }
    },
    {
      "cell_type": "code",
      "source": [
        "e2f.keys()"
      ],
      "metadata": {
        "colab": {
          "base_uri": "https://localhost:8080/"
        },
        "id": "HyODBCeNslOp",
        "outputId": "5712c1d2-6dd7-4a31-b6a6-4cf038bba603"
      },
      "execution_count": 28,
      "outputs": [
        {
          "output_type": "execute_result",
          "data": {
            "text/plain": [
              "dict_keys(['dog', 'cat', 'walrus'])"
            ]
          },
          "metadata": {},
          "execution_count": 28
        }
      ]
    },
    {
      "cell_type": "markdown",
      "source": [
        "##13. Make a multilevel dictionary called life. Use these strings for the topmost keys: &#39;animals&#39;, &#39;plants&#39;, and &#39;other&#39;. Make the &#39;animals&#39; key refer to another dictionary with the keys &#39;cats&#39;, &#39;octopi&#39;, and &#39;emus&#39;. Make the &#39;cats&#39; key refer to a list of strings with the values &#39;Henri&#39;, &#39;Grumpy&#39;, and &#39;Lucy&#39;. Make all the other keys refer to empty dictionaries."
      ],
      "metadata": {
        "id": "BLMRvht8s__8"
      }
    },
    {
      "cell_type": "code",
      "source": [
        "life={'animals':{'cats':{'Henri','Grumpy','Lucy'},'octupi':'','emus':''},\n",
        "      'plants':'',\n",
        "      'other':''\n",
        "    \n",
        "}\n",
        "life"
      ],
      "metadata": {
        "colab": {
          "base_uri": "https://localhost:8080/"
        },
        "id": "5vfZRYFAs57w",
        "outputId": "94269f72-7a11-4980-8883-fe22784a64bb"
      },
      "execution_count": 30,
      "outputs": [
        {
          "output_type": "execute_result",
          "data": {
            "text/plain": [
              "{'animals': {'cats': {'Grumpy', 'Henri', 'Lucy'}, 'octupi': '', 'emus': ''},\n",
              " 'plants': '',\n",
              " 'other': ''}"
            ]
          },
          "metadata": {},
          "execution_count": 30
        }
      ]
    },
    {
      "cell_type": "markdown",
      "source": [
        "##14. Print the top-level keys of life."
      ],
      "metadata": {
        "id": "agrN3S7LuJ9F"
      }
    },
    {
      "cell_type": "code",
      "source": [
        "life.keys()"
      ],
      "metadata": {
        "colab": {
          "base_uri": "https://localhost:8080/"
        },
        "id": "xxLR6CWWuDH2",
        "outputId": "8e7bffd7-3097-4537-8607-8d3b603527d5"
      },
      "execution_count": 31,
      "outputs": [
        {
          "output_type": "execute_result",
          "data": {
            "text/plain": [
              "dict_keys(['animals', 'plants', 'other'])"
            ]
          },
          "metadata": {},
          "execution_count": 31
        }
      ]
    },
    {
      "cell_type": "markdown",
      "source": [
        "##15. Print the keys for life[&#39;animals&#39;]."
      ],
      "metadata": {
        "id": "zFTEC3OJuRL0"
      }
    },
    {
      "cell_type": "code",
      "source": [
        "life['animals'].keys()"
      ],
      "metadata": {
        "colab": {
          "base_uri": "https://localhost:8080/"
        },
        "id": "KKChU2z_uOBz",
        "outputId": "1cce958e-9506-4479-c9b5-423663ed6f30"
      },
      "execution_count": 33,
      "outputs": [
        {
          "output_type": "execute_result",
          "data": {
            "text/plain": [
              "dict_keys(['cats', 'octupi', 'emus'])"
            ]
          },
          "metadata": {},
          "execution_count": 33
        }
      ]
    },
    {
      "cell_type": "markdown",
      "source": [
        "##16. Print the values for life[&#39;animals&#39;][&#39;cats&#39;]"
      ],
      "metadata": {
        "id": "NcbTOBmIucdQ"
      }
    },
    {
      "cell_type": "code",
      "source": [
        "life['animals']['cats']"
      ],
      "metadata": {
        "colab": {
          "base_uri": "https://localhost:8080/"
        },
        "id": "PuKMeuoDuV0N",
        "outputId": "ee0ba7f7-e95b-44e2-d345-4643456d9677"
      },
      "execution_count": 34,
      "outputs": [
        {
          "output_type": "execute_result",
          "data": {
            "text/plain": [
              "{'Grumpy', 'Henri', 'Lucy'}"
            ]
          },
          "metadata": {},
          "execution_count": 34
        }
      ]
    }
  ]
}