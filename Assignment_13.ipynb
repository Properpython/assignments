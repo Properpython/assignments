{
  "nbformat": 4,
  "nbformat_minor": 0,
  "metadata": {
    "colab": {
      "provenance": []
    },
    "kernelspec": {
      "name": "python3",
      "display_name": "Python 3"
    },
    "language_info": {
      "name": "python"
    }
  },
  "cells": [
    {
      "cell_type": "markdown",
      "source": [
        "##1. What advantages do Excel spreadsheets have over CSV spreadsheets?"
      ],
      "metadata": {
        "id": "Hzo9pX2ulUAy"
      }
    },
    {
      "cell_type": "markdown",
      "source": [
        "##Answer\n",
        "1. It is a binary file that holds information about all the worksheets in a workbook.\n",
        "2. An Excel not only stores data but can also do operations on the data.\n",
        "3. Files saved in excel cannot be opened or edited by text editors.\n",
        "4. Apart from text, data can also be stored in form of charts and graphs\n",
        "5. Excel can connect to external data sources to fetch data. You can use custom add-in in Excel to increase its functionality. \n",
        "6. Excel allows for Review of Data with detailed tracking and commenting feature.\n",
        "7. In Excel, spreadsheets can have values of data types other than strings; cells can have different fonts, sizes, \n",
        "   or color settings; cells can have varying widths and heights; adjacent cells can be merged.\n"
      ],
      "metadata": {
        "id": "8EDixGLNl8GY"
      }
    },
    {
      "cell_type": "markdown",
      "source": [
        "##2.What do you pass to csv.reader() and csv.writer() to create reader and writer objects?"
      ],
      "metadata": {
        "id": "6lMgtScJmTKx"
      }
    },
    {
      "cell_type": "markdown",
      "source": [
        "we pass a File object, obtained from a call to open()\n",
        "\n",
        "```\n",
        "import csv\n",
        "exFile = open('filename.csv')\n",
        "exreader = csv.reader(exFile)\n",
        "exData = list(exreader)\n",
        "exData\n",
        "```\n",
        "\n"
      ],
      "metadata": {
        "id": "ttiDRovwmhh5"
      }
    },
    {
      "cell_type": "markdown",
      "source": [
        "##3. What modes do File objects for reader and writer objects need to be opened in?"
      ],
      "metadata": {
        "id": "GgEgSKyRmv-g"
      }
    },
    {
      "cell_type": "markdown",
      "source": [
        "File objects need to be opened in read-binary ('rb') for Reader objects and write-binary ('wb') for Writer objects"
      ],
      "metadata": {
        "id": "odtOtF5bm00Z"
      }
    },
    {
      "cell_type": "markdown",
      "source": [
        "##4. What method takes a list argument and writes it to a CSV file?"
      ],
      "metadata": {
        "id": "joqulv8im5sK"
      }
    },
    {
      "cell_type": "markdown",
      "source": [
        "##Answer\n",
        "\n",
        "the writerow() method takes a list arguement and writes it to a csv file"
      ],
      "metadata": {
        "id": "BSLzJcrHnD-p"
      }
    },
    {
      "cell_type": "markdown",
      "source": [
        "##5. What do the keyword arguments delimiter and line terminator do?"
      ],
      "metadata": {
        "id": "103d5zYrnQow"
      }
    },
    {
      "cell_type": "markdown",
      "source": [
        "##Answer\n",
        "The delimiter argument changes the string used to separate cells in a row.\n",
        "\n",
        "The line terminator argument changes the string used to separate rows."
      ],
      "metadata": {
        "id": "0srHWXzcnZAC"
      }
    },
    {
      "cell_type": "markdown",
      "source": [
        "##6. What function takes a string of JSON data and returns a Python data structure?"
      ],
      "metadata": {
        "id": "Mdyriuj0njZw"
      }
    },
    {
      "cell_type": "markdown",
      "source": [
        "##Answer\n",
        "json.loads() takes a string of json data and returns a python data structure"
      ],
      "metadata": {
        "id": "UynxSUdNnqYh"
      }
    },
    {
      "cell_type": "markdown",
      "source": [
        "##7. What function takes a Python data structure and returns a string of JSON data?"
      ],
      "metadata": {
        "id": "ShVUtQaln4l6"
      }
    },
    {
      "cell_type": "markdown",
      "source": [
        "##Answer\n",
        "json.dumps() takes a python data structure and returns a string of json data"
      ],
      "metadata": {
        "id": "Db5n2Dizn7dI"
      }
    }
  ]
}