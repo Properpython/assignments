{
  "nbformat": 4,
  "nbformat_minor": 0,
  "metadata": {
    "colab": {
      "provenance": []
    },
    "kernelspec": {
      "name": "python3",
      "display_name": "Python 3"
    },
    "language_info": {
      "name": "python"
    }
  },
  "cells": [
    {
      "cell_type": "markdown",
      "source": [
        "##1. Write a Python program to print &quot;Hello Python&quot;?"
      ],
      "metadata": {
        "id": "9J8MBui8pFGW"
      }
    },
    {
      "cell_type": "code",
      "execution_count": 1,
      "metadata": {
        "colab": {
          "base_uri": "https://localhost:8080/"
        },
        "id": "xZZ0dUh5o7st",
        "outputId": "4501418b-c8be-4786-b1e8-d70551e7035b"
      },
      "outputs": [
        {
          "output_type": "stream",
          "name": "stdout",
          "text": [
            "Hello Python\n"
          ]
        }
      ],
      "source": [
        "a=\"Hello Python\"\n",
        "print(a)"
      ]
    },
    {
      "cell_type": "markdown",
      "source": [
        "##2. Write a Python program to do arithmetical operations addition and division.?"
      ],
      "metadata": {
        "id": "oMZXxIzdpej3"
      }
    },
    {
      "cell_type": "code",
      "source": [
        "a=10\n",
        "b=20\n",
        "print(f\"sum of {a} and {b} is\",a+b)\n",
        "print(f\"division of {a} and {b} is\",a/b)"
      ],
      "metadata": {
        "colab": {
          "base_uri": "https://localhost:8080/"
        },
        "id": "Pqi5C-YDpO6d",
        "outputId": "a6c0fc5a-b063-438f-8373-b63af1b2870c"
      },
      "execution_count": 5,
      "outputs": [
        {
          "output_type": "stream",
          "name": "stdout",
          "text": [
            "sum of 10 and 20 is 30\n",
            "division of 10 and 20 is 0.5\n"
          ]
        }
      ]
    },
    {
      "cell_type": "markdown",
      "source": [
        "##3. Write a Python program to find the area of a triangle?"
      ],
      "metadata": {
        "id": "9OC9vKxYqtns"
      }
    },
    {
      "cell_type": "code",
      "source": [
        "base=20\n",
        "height=30\n",
        "area_of_triangle=1/2*base*height\n",
        "print(f\"the area of triangle with base {base} and height {height} is\",area_of_triangle)\n"
      ],
      "metadata": {
        "colab": {
          "base_uri": "https://localhost:8080/"
        },
        "id": "I4TMslfAp4qu",
        "outputId": "4440ba94-e158-4f7b-dd78-008f2c11b652"
      },
      "execution_count": 6,
      "outputs": [
        {
          "output_type": "stream",
          "name": "stdout",
          "text": [
            "the area of triangle with base 20 and height 30 is 300.0\n"
          ]
        }
      ]
    },
    {
      "cell_type": "markdown",
      "source": [
        "##4. Write a Python program to swap two variables?"
      ],
      "metadata": {
        "id": "nh6SJrK1r5VW"
      }
    },
    {
      "cell_type": "code",
      "source": [
        "x=5\n",
        "y=10\n",
        "#creating a temp variable\n",
        "temp=x\n",
        "x=y\n",
        "y=temp\n",
        "print(\"the value of x is\",x)\n",
        "print(\"the value of y is\",y)"
      ],
      "metadata": {
        "colab": {
          "base_uri": "https://localhost:8080/"
        },
        "id": "2pKTf41rryXn",
        "outputId": "88aa2610-3b92-4d07-8545-b3245fe8b772"
      },
      "execution_count": 8,
      "outputs": [
        {
          "output_type": "stream",
          "name": "stdout",
          "text": [
            "the value of x is 10\n",
            "the value of y is 5\n"
          ]
        }
      ]
    },
    {
      "cell_type": "markdown",
      "source": [
        "##5. Write a Python program to generate a random number?"
      ],
      "metadata": {
        "id": "falnO6QnsjEm"
      }
    },
    {
      "cell_type": "code",
      "source": [
        "import random\n",
        "print(random.randint(0,9))"
      ],
      "metadata": {
        "colab": {
          "base_uri": "https://localhost:8080/"
        },
        "id": "SWie4i6Vsdj-",
        "outputId": "cbb0a290-0859-4e4a-8534-c56453abb95b"
      },
      "execution_count": 9,
      "outputs": [
        {
          "output_type": "stream",
          "name": "stdout",
          "text": [
            "3\n"
          ]
        }
      ]
    },
    {
      "cell_type": "code",
      "source": [],
      "metadata": {
        "id": "xnq-3hpFs8Fq"
      },
      "execution_count": null,
      "outputs": []
    }
  ]
}