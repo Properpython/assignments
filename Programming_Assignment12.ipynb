{
  "nbformat": 4,
  "nbformat_minor": 0,
  "metadata": {
    "colab": {
      "provenance": []
    },
    "kernelspec": {
      "name": "python3",
      "display_name": "Python 3"
    },
    "language_info": {
      "name": "python"
    }
  },
  "cells": [
    {
      "cell_type": "markdown",
      "source": [
        "###1. Write a Python program to Extract Unique values dictionary values?"
      ],
      "metadata": {
        "id": "9ArIPnUKgs1w"
      }
    },
    {
      "cell_type": "code",
      "execution_count": 1,
      "metadata": {
        "colab": {
          "base_uri": "https://localhost:8080/"
        },
        "id": "FH5QGO9tgbYh",
        "outputId": "f71ea62e-5c81-4e95-8655-fd2f8e1924b9"
      },
      "outputs": [
        {
          "output_type": "stream",
          "name": "stdout",
          "text": [
            "The original dictionary is : {'ineuron': [5, 6, 7, 8], 'is': [10, 11, 7, 5], 'best': [6, 12, 10, 8], 'for': [1, 2, 5]}\n",
            "The unique values list is : [1, 2, 5, 6, 7, 8, 10, 11, 12]\n"
          ]
        }
      ],
      "source": [
        "test_dict = {'ineuron': [5, 6, 7, 8],\n",
        "             'is': [10, 11, 7, 5],\n",
        "             'best': [6, 12, 10, 8],\n",
        "             'for': [1, 2, 5]}\n",
        "\n",
        "print(\"The original dictionary is : \" + str(test_dict))\n",
        "\n",
        "res = list(sorted({ele for val in test_dict.values() for ele in val}))\n",
        "\n",
        "print(\"The unique values list is : \" + str(res))"
      ]
    },
    {
      "cell_type": "markdown",
      "source": [
        "###2. Write a Python program to find the sum of all items in a dictionary?"
      ],
      "metadata": {
        "id": "55o35-PKhdpx"
      }
    },
    {
      "cell_type": "code",
      "source": [
        "def returnSum(myDict):\n",
        "\n",
        "    list = []\n",
        "    for i in myDict:\n",
        "        list.append(myDict[i])\n",
        "    final = sum(list)\n",
        "\n",
        "    return final\n",
        "\n",
        "dict = {'a': 100, 'b': 200, 'c': 300}\n",
        "print(\"Sum :\", returnSum(dict))"
      ],
      "metadata": {
        "colab": {
          "base_uri": "https://localhost:8080/"
        },
        "id": "jXDDH46uhSlr",
        "outputId": "f569cc72-2004-4ae8-ac43-3affad60d17c"
      },
      "execution_count": 2,
      "outputs": [
        {
          "output_type": "stream",
          "name": "stdout",
          "text": [
            "Sum : 600\n"
          ]
        }
      ]
    },
    {
      "cell_type": "markdown",
      "source": [
        "###3. Write a Python program to Merging two Dictionaries?"
      ],
      "metadata": {
        "id": "67lgDrgxhyin"
      }
    },
    {
      "cell_type": "code",
      "source": [
        "def Merge(dict1, dict2):\n",
        "    return(dict2.update(dict1))\n",
        "\n",
        "dict1 = {'a': 10, 'b': 8}\n",
        "dict2 = {'d': 6, 'c': 4}\n",
        "print(Merge(dict1, dict2))\n",
        "print(dict2)"
      ],
      "metadata": {
        "colab": {
          "base_uri": "https://localhost:8080/"
        },
        "id": "4VTBzR5WhvSY",
        "outputId": "790364b3-4576-4eb7-bf54-f74294f3deaa"
      },
      "execution_count": 3,
      "outputs": [
        {
          "output_type": "stream",
          "name": "stdout",
          "text": [
            "None\n",
            "{'d': 6, 'c': 4, 'a': 10, 'b': 8}\n"
          ]
        }
      ]
    },
    {
      "cell_type": "markdown",
      "source": [
        "###5. Write a Python program to insertion at the beginning in OrderedDict?"
      ],
      "metadata": {
        "id": "O6hbi6ivi464"
      }
    },
    {
      "cell_type": "code",
      "source": [
        "from collections import OrderedDict\n",
        "\n",
        "# Initialising ordered_dict\n",
        "iniordered_dict = OrderedDict([('akshat', '1'), ('nikhil', '2')])\n",
        "\n",
        "# Inserting items in starting of dict\n",
        "iniordered_dict.update({'manjeet': '3'})\n",
        "iniordered_dict.move_to_end('manjeet', last=False)\n",
        "\n",
        "# Printing result\n",
        "print(\"Resultant Dictionary : \"+str(iniordered_dict))"
      ],
      "metadata": {
        "colab": {
          "base_uri": "https://localhost:8080/"
        },
        "id": "uWVEnsCGiQtf",
        "outputId": "cc7687b1-d3d5-47a5-a437-f009f519021b"
      },
      "execution_count": 6,
      "outputs": [
        {
          "output_type": "stream",
          "name": "stdout",
          "text": [
            "Resultant Dictionary : OrderedDict([('manjeet', '3'), ('akshat', '1'), ('nikhil', '2')])\n"
          ]
        }
      ]
    },
    {
      "cell_type": "markdown",
      "source": [
        "###6. Write a Python program to check order of character in string using OrderedDict()?"
      ],
      "metadata": {
        "id": "xT40dM4fjKMP"
      }
    },
    {
      "cell_type": "code",
      "source": [
        "from collections import OrderedDict\n",
        "\n",
        "def checkOrder(input, pattern):\n",
        "\n",
        "    dict = OrderedDict.fromkeys(input)\n",
        "\n",
        "\n",
        "    ptrlen = 0\n",
        "    for key,value in dict.items():\n",
        "        if (key == pattern[ptrlen]):\n",
        "            ptrlen = ptrlen + 1\n",
        "\n",
        "        if (ptrlen == (len(pattern))):\n",
        "            return 'true'\n",
        "\n",
        "    return 'false'\n",
        "\n",
        "if __name__ == \"__main__\":\n",
        "    input = 'engineers rock'\n",
        "    pattern = 'er'\n",
        "    print (checkOrder(input,pattern))"
      ],
      "metadata": {
        "colab": {
          "base_uri": "https://localhost:8080/"
        },
        "id": "8rTdpBSXjG4o",
        "outputId": "29c0a32b-334d-40f8-e1bd-29b968d55375"
      },
      "execution_count": 7,
      "outputs": [
        {
          "output_type": "stream",
          "name": "stdout",
          "text": [
            "true\n"
          ]
        }
      ]
    },
    {
      "cell_type": "markdown",
      "source": [
        "###7. Write a Python program to sort Python Dictionaries by Key or Value?"
      ],
      "metadata": {
        "id": "07LN4h70jc7s"
      }
    },
    {
      "cell_type": "code",
      "source": [
        "myDict = {'ravi': 10, 'rajnish': 9,\n",
        "        'sanjeev': 15, 'yash': 2, 'suraj': 32}\n",
        "\n",
        "myKeys = list(myDict.keys())\n",
        "myKeys.sort()\n",
        "sorted_dict = {i: myDict[i] for i in myKeys}\n",
        "\n",
        "print(sorted_dict)"
      ],
      "metadata": {
        "colab": {
          "base_uri": "https://localhost:8080/"
        },
        "id": "3yPM5ffUjY6C",
        "outputId": "8ff2d5f0-5c5d-4cb5-cfb9-6bbe826f67e4"
      },
      "execution_count": 8,
      "outputs": [
        {
          "output_type": "stream",
          "name": "stdout",
          "text": [
            "{'rajnish': 9, 'ravi': 10, 'sanjeev': 15, 'suraj': 32, 'yash': 2}\n"
          ]
        }
      ]
    },
    {
      "cell_type": "code",
      "source": [],
      "metadata": {
        "id": "xO0Qj9A6jjz0"
      },
      "execution_count": null,
      "outputs": []
    }
  ]
}