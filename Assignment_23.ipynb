{
  "nbformat": 4,
  "nbformat_minor": 0,
  "metadata": {
    "colab": {
      "provenance": []
    },
    "kernelspec": {
      "name": "python3",
      "display_name": "Python 3"
    },
    "language_info": {
      "name": "python"
    }
  },
  "cells": [
    {
      "cell_type": "markdown",
      "source": [
        "##1. What is the result of the code, and why?\n",
        "&gt;&gt;&gt; def func(a, b=6, c=8):\n",
        "\n",
        "print(a, b, c)\n",
        "\n",
        "&gt;&gt;&gt; func(1, 2)"
      ],
      "metadata": {
        "id": "bPYIJ2zn4aOn"
      }
    },
    {
      "cell_type": "code",
      "execution_count": 2,
      "metadata": {
        "colab": {
          "base_uri": "https://localhost:8080/"
        },
        "id": "_kcXJCfQ4S-8",
        "outputId": "3873f251-3bba-4846-ef3e-ff9c44197f36"
      },
      "outputs": [
        {
          "output_type": "stream",
          "name": "stdout",
          "text": [
            "1 2 8\n"
          ]
        }
      ],
      "source": [
        "def func(a, b=6, c=8):\n",
        "    print(a, b, c)\n",
        "func(1, 2)"
      ]
    },
    {
      "cell_type": "markdown",
      "source": [
        "  This funtion is taking a positional argument and 2 keyword argument. When function call is made, parameter passed are a=1,b=2. When the function is executed , parameter c=8 will be taken by default as its a keyword argument."
      ],
      "metadata": {
        "id": "xnhmc8rM5JR1"
      }
    },
    {
      "cell_type": "markdown",
      "source": [
        "##2. What is the result of this code, and why?\n",
        "&gt;&gt;&gt; def func(a, b, c=5):\n",
        "\n",
        "print(a, b, c)\n",
        "\n",
        "&gt;&gt;&gt; func(1, c=3, b=2)"
      ],
      "metadata": {
        "id": "QhWfQhQP5W6d"
      }
    },
    {
      "cell_type": "code",
      "source": [
        "def func(a, b, c=5):\n",
        "    print(a, b, c)\n",
        "func(1, c=3, b=2)"
      ],
      "metadata": {
        "colab": {
          "base_uri": "https://localhost:8080/"
        },
        "id": "hOQ4XcbP4tNd",
        "outputId": "a7aadded-70a6-4407-9928-6cb7d3c0e43c"
      },
      "execution_count": 3,
      "outputs": [
        {
          "output_type": "stream",
          "name": "stdout",
          "text": [
            "1 2 3\n"
          ]
        }
      ]
    },
    {
      "cell_type": "markdown",
      "source": [
        "When we make function call, order will be positional argument and then keywords arguments. we can pass the keyword arguments in any order we want."
      ],
      "metadata": {
        "id": "F5NzUBBR7_hC"
      }
    },
    {
      "cell_type": "markdown",
      "source": [
        "##3. How about this code: what is its result, and why?\n",
        "&gt;&gt;&gt; def func(a, *pargs):\n",
        "\n",
        "print(a, pargs)\n",
        "\n",
        "&gt;&gt;&gt; func(1, 2, 3)"
      ],
      "metadata": {
        "id": "vWiivFdm8E_i"
      }
    },
    {
      "cell_type": "code",
      "source": [
        "def func(a, *pargs):\n",
        "    print(a, pargs)\n",
        "func(1, 2, 3)"
      ],
      "metadata": {
        "colab": {
          "base_uri": "https://localhost:8080/"
        },
        "id": "7jKK-1sv5cm1",
        "outputId": "92abdaa0-8573-4e52-8cc9-e8b19aceb5b3"
      },
      "execution_count": 4,
      "outputs": [
        {
          "output_type": "stream",
          "name": "stdout",
          "text": [
            "1 (2, 3)\n"
          ]
        }
      ]
    },
    {
      "cell_type": "markdown",
      "source": [
        "The return type of *args parameter is tuple, where as **kwargs will be dictionary"
      ],
      "metadata": {
        "id": "EFTvSh-Z8P4c"
      }
    },
    {
      "cell_type": "markdown",
      "source": [
        "##4. What does this code print, and why?\n",
        "&gt;&gt;&gt; def func(a, **kargs):\n",
        "\n",
        "print(a, kargs)\n",
        "\n",
        "&gt;&gt;&gt; func(a=1, c=3, b=2)"
      ],
      "metadata": {
        "id": "aQ8n0AzG8Tm0"
      }
    },
    {
      "cell_type": "code",
      "source": [
        "def func(a, **kargs):\n",
        "    print(a, kargs)\n",
        "func(a=1, c=3, b=2)"
      ],
      "metadata": {
        "colab": {
          "base_uri": "https://localhost:8080/"
        },
        "id": "-5WWVd1C8JLu",
        "outputId": "bc3c20de-806c-45bc-bbe0-ed18c035dca3"
      },
      "execution_count": 5,
      "outputs": [
        {
          "output_type": "stream",
          "name": "stdout",
          "text": [
            "1 {'c': 3, 'b': 2}\n"
          ]
        }
      ]
    },
    {
      "cell_type": "markdown",
      "source": [
        "The return type of  **kargs is  dictionary"
      ],
      "metadata": {
        "id": "KS0AhRKa8Zt1"
      }
    },
    {
      "cell_type": "markdown",
      "source": [
        "##5. What gets printed by this, and explain?\n",
        "&gt;&gt;&gt; def func(a, b, c=8, d=5): print(a, b, c, d)\n",
        "\n",
        "&gt;&gt;&gt; func(1, *(5, 6))"
      ],
      "metadata": {
        "id": "Mr9hwh8d8dfv"
      }
    },
    {
      "cell_type": "code",
      "source": [
        "def func(a, b, c=8, d=5): \n",
        "    print(a, b, c, d)\n",
        "func(1, *(5, 6))"
      ],
      "metadata": {
        "colab": {
          "base_uri": "https://localhost:8080/"
        },
        "id": "_bS9Dp_e8XeF",
        "outputId": "ae71a23f-b810-4b36-a777-36f2ad22f1d1"
      },
      "execution_count": 6,
      "outputs": [
        {
          "output_type": "stream",
          "name": "stdout",
          "text": [
            "1 5 6 5\n"
          ]
        }
      ]
    },
    {
      "cell_type": "markdown",
      "source": [
        "\"*\" is the unpacking operator and are operators that unpack the values from iterable objects in Python. The single \n",
        "    asterisk operator * can be used on any iterable that Python provides, while the double asterisk operator ** can only \n",
        "    be used on dictionaries. In the example the value *(5,6) will be unpacked and will be assigned to b and c and passed \n",
        "    as arguments, d =5 will taken by defaults are keyword arguments."
      ],
      "metadata": {
        "id": "dFIlW-0N8-sE"
      }
    },
    {
      "cell_type": "markdown",
      "source": [
        "##6. what is the result of this, and explain?\n",
        "&gt;&gt;&gt; def func(a, b, c):\n",
        "\n",
        " a = 2; b[0] = &#39;x&#39;; c[&#39;a&#39;] = &#39;y&#39;\n",
        "\n",
        "&gt;&gt;&gt; l=1; m=[1]; n={&#39;a&#39;:0}\n",
        "\n",
        "&gt;&gt;&gt; func(l, m, n)\n",
        "\n",
        "&gt;&gt;&gt; l, m, n"
      ],
      "metadata": {
        "id": "B-Dkz13f9u2E"
      }
    },
    {
      "cell_type": "code",
      "source": [
        "def func(a, b, c): \n",
        "    a = 2; b[0] = 'x'; c['a'] = 'y'\n",
        "    \n",
        "l=1; m=[1]; n={'a':0}\n",
        "func(l, m, n)\n",
        "\n",
        "l, m, n"
      ],
      "metadata": {
        "colab": {
          "base_uri": "https://localhost:8080/"
        },
        "id": "2rh0Cd5g8x7I",
        "outputId": "b5f5cd97-f8af-4c2e-de3b-25f845e11183"
      },
      "execution_count": 7,
      "outputs": [
        {
          "output_type": "execute_result",
          "data": {
            "text/plain": [
              "(1, ['x'], {'a': 'y'})"
            ]
          },
          "metadata": {},
          "execution_count": 7
        }
      ]
    },
    {
      "cell_type": "markdown",
      "source": [
        "Here in the code, the list and dict are passed as argument, and those are mutable. Here the list l and parametr b point \n",
        "to the same list in the memeory location where as dict n and c point to the same memory location. Any updates to this \n",
        "list will update in the memory location\n",
        "\n",
        "l = 1 , integer values, immutable, m is list, mutable, n is dict, mutable."
      ],
      "metadata": {
        "id": "neQE7eaN-KjL"
      }
    }
  ]
}