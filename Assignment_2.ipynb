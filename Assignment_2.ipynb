{
  "nbformat": 4,
  "nbformat_minor": 0,
  "metadata": {
    "colab": {
      "provenance": []
    },
    "kernelspec": {
      "name": "python3",
      "display_name": "Python 3"
    },
    "language_info": {
      "name": "python"
    }
  },
  "cells": [
    {
      "cell_type": "markdown",
      "source": [
        "##1.What are the two values of the Boolean data type? How do you write them?"
      ],
      "metadata": {
        "id": "bnXQ0jLKEVkp"
      }
    },
    {
      "cell_type": "markdown",
      "source": [
        "##Answer\n",
        "\n",
        "two values of boolean data type are True and False\n",
        "\n",
        "example:\n",
        "\n",
        "a = 10\n",
        "\n",
        "b = 20\n",
        "\n",
        "print(a == b)\n",
        " \n",
        "\n",
        "here we used boolean datatype to compare between a and b"
      ],
      "metadata": {
        "id": "VfiwdqHrEUjL"
      }
    },
    {
      "cell_type": "markdown",
      "source": [
        "##2. What are the three different types of Boolean operators?"
      ],
      "metadata": {
        "id": "VSYJ5ymWFpE4"
      }
    },
    {
      "cell_type": "markdown",
      "source": [
        "##Answer\n",
        "three different types of boolean operators are and, or, not\n",
        "\n",
        "and -\tTrue if both the operands are true\tx and y\n",
        "\n",
        "or -\tTrue if either of the operands is true\tx or y\n",
        "\n",
        "not\t- True if operand is false.\tnot x"
      ],
      "metadata": {
        "id": "m9_xVMIpFySS"
      }
    },
    {
      "cell_type": "markdown",
      "source": [
        "##3. Make a list of each Boolean operator&#39;s truth tables (i.e. every possible combination of Boolean\n",
        "##values for the operator and what it evaluate )."
      ],
      "metadata": {
        "id": "sXk_hlASHjMH"
      }
    },
    {
      "cell_type": "markdown",
      "source": [
        "##Answer\n",
        "\n",
        "and table\n",
        "\n",
        "|a|   |b| |a and b|\n",
        "|--|  |--| |-----|\n",
        "|False|\t|False|\t|False|\n",
        "|False|\t|True| |False|\n",
        "|True|\t|False|\t|False|\n",
        "|True|\t|True| \t|True|\n",
        "\n",
        "---\n",
        "or table\n",
        "\n",
        "|a|\t|b|\t|a or b|\n",
        "|--| |--| |--|\n",
        "|False|\t|False|\t|False|\n",
        "|False|\t|True|\t|True|\n",
        "|True|\t|False|\t|True|\n",
        "|True|\t|True|\t|True|\n",
        "\n",
        "---\n",
        "not table\n",
        "\n",
        "|a|\t|not a|\n",
        "|--| |--|\n",
        "|False|\t|True|\n",
        "|True|\t|False|\n",
        "\n",
        "\n",
        "\n",
        "\n",
        "\n"
      ],
      "metadata": {
        "id": "ShUfF1VGIbaX"
      }
    },
    {
      "cell_type": "markdown",
      "source": [
        "##4. What are the values of the following expressions?\n",
        "##(5 &gt; 4) and (3 == 5)\n",
        "##not (5 &gt; 4)\n",
        "##(5 &gt; 4) or (3 == 5)\n",
        "##not ((5 &gt; 4) or (3 == 5))\n",
        "##(True and True) and (True == False)\n",
        "##(not False) or (not True)"
      ],
      "metadata": {
        "id": "OoJQva75MtMB"
      }
    },
    {
      "cell_type": "markdown",
      "source": [
        "##Answer"
      ],
      "metadata": {
        "id": "suu7eOuTNmn4"
      }
    },
    {
      "cell_type": "code",
      "source": [
        "(5 > 4) and (3 == 5)"
      ],
      "metadata": {
        "colab": {
          "base_uri": "https://localhost:8080/"
        },
        "id": "Qe7XHQI2FjfZ",
        "outputId": "b4ed7947-f6d7-4864-ce4e-e0f87b60c46d"
      },
      "execution_count": 1,
      "outputs": [
        {
          "output_type": "execute_result",
          "data": {
            "text/plain": [
              "False"
            ]
          },
          "metadata": {},
          "execution_count": 1
        }
      ]
    },
    {
      "cell_type": "code",
      "source": [
        "not (5 > 4)\n"
      ],
      "metadata": {
        "colab": {
          "base_uri": "https://localhost:8080/"
        },
        "id": "M2bBxLmzNFKc",
        "outputId": "3bc67206-719f-49ae-e03b-7e0690a2461d"
      },
      "execution_count": 2,
      "outputs": [
        {
          "output_type": "execute_result",
          "data": {
            "text/plain": [
              "False"
            ]
          },
          "metadata": {},
          "execution_count": 2
        }
      ]
    },
    {
      "cell_type": "code",
      "source": [
        "(5 > 4) or (3 == 5)"
      ],
      "metadata": {
        "colab": {
          "base_uri": "https://localhost:8080/"
        },
        "id": "lmG0PwZ8NR-D",
        "outputId": "f297fb36-0cfb-48f9-e2a1-1408fbc0024b"
      },
      "execution_count": 3,
      "outputs": [
        {
          "output_type": "execute_result",
          "data": {
            "text/plain": [
              "True"
            ]
          },
          "metadata": {},
          "execution_count": 3
        }
      ]
    },
    {
      "cell_type": "code",
      "source": [
        "not ((5 > 4) or (3 == 5))"
      ],
      "metadata": {
        "colab": {
          "base_uri": "https://localhost:8080/"
        },
        "id": "KI8S1VNONYVf",
        "outputId": "96bf7252-7a76-4144-d830-6c1bd4a944d3"
      },
      "execution_count": 4,
      "outputs": [
        {
          "output_type": "execute_result",
          "data": {
            "text/plain": [
              "False"
            ]
          },
          "metadata": {},
          "execution_count": 4
        }
      ]
    },
    {
      "cell_type": "code",
      "source": [
        "(True and True) and (True == False)"
      ],
      "metadata": {
        "colab": {
          "base_uri": "https://localhost:8080/"
        },
        "id": "ZqV8VmEDNbgf",
        "outputId": "d9b014c1-1ef8-416c-a43d-304baa31c811"
      },
      "execution_count": 5,
      "outputs": [
        {
          "output_type": "execute_result",
          "data": {
            "text/plain": [
              "False"
            ]
          },
          "metadata": {},
          "execution_count": 5
        }
      ]
    },
    {
      "cell_type": "code",
      "source": [
        "(not False) or (not True)"
      ],
      "metadata": {
        "colab": {
          "base_uri": "https://localhost:8080/"
        },
        "id": "U-I32IluNevP",
        "outputId": "1878d7e0-9c88-487b-cd26-ddb77c6c5fc2"
      },
      "execution_count": 6,
      "outputs": [
        {
          "output_type": "execute_result",
          "data": {
            "text/plain": [
              "True"
            ]
          },
          "metadata": {},
          "execution_count": 6
        }
      ]
    },
    {
      "cell_type": "markdown",
      "source": [
        "##5. What are the six comparison operators?"
      ],
      "metadata": {
        "id": "jSCqUceaNlIn"
      }
    },
    {
      "cell_type": "markdown",
      "source": [
        "##Answer\n",
        "1. Less than (<)\n",
        "2. Greater than (>)\n",
        "3. Less than or equal to (<=)\n",
        "4. Greater than or equal to (>=)\n",
        "5. Equal to (==)\n",
        "6. Not equal to (!=)\n",
        "\n",
        "these are the six comparison operators in pyhton."
      ],
      "metadata": {
        "id": "GRWeT_UNNvxV"
      }
    },
    {
      "cell_type": "markdown",
      "source": [
        "##6. How do you tell the difference between the equal to and assignment operators?Describe a condition and when you would use one."
      ],
      "metadata": {
        "id": "jB-bzT9EOTDV"
      }
    },
    {
      "cell_type": "markdown",
      "source": [
        "##Answer\n",
        "equal to has only one'='\n",
        "assignent operator has two '=='\n",
        "\n",
        "example:\n",
        "\n",
        "\n",
        "```\n",
        "a=10\n",
        "if a==10:\n",
        "  print(\"true\")\n",
        "```\n",
        "\n"
      ],
      "metadata": {
        "id": "7kB1j_nCOqJf"
      }
    },
    {
      "cell_type": "markdown",
      "source": [
        "7. Identify the three blocks in this code:\n",
        "\n",
        "spam = 0\n",
        "\n",
        "if spam == 10:\n",
        "\n",
        "print(&#39;eggs&#39;)\n",
        "\n",
        "if spam &gt; 5:\n",
        "\n",
        "print(&#39;bacon&#39;)\n",
        "\n",
        "else:\n",
        "\n",
        "print(&#39;ham&#39;)\n",
        "\n",
        "print(&#39;spam&#39;)\n",
        "\n",
        "print(&#39;spam&#39;)"
      ],
      "metadata": {
        "id": "oeMtToOVPrjW"
      }
    },
    {
      "cell_type": "code",
      "source": [
        "spam =0\n",
        "# 1st block\n",
        "if spam ==10:\n",
        "  print(\"eggs\")\n",
        "# second block\n",
        "if spam>5:\n",
        "  print(\"bacon\")\n",
        "# third block\n",
        "else:\n",
        "  print(\"ham\")\n",
        "  print(\"spam\")\n",
        "  print(\"spam\")"
      ],
      "metadata": {
        "colab": {
          "base_uri": "https://localhost:8080/"
        },
        "id": "ZCg83j4VPL2R",
        "outputId": "8a8a02f7-4536-40b0-cfdd-d4a0552b4f50"
      },
      "execution_count": 12,
      "outputs": [
        {
          "output_type": "stream",
          "name": "stdout",
          "text": [
            "ham\n",
            "spam\n",
            "spam\n"
          ]
        }
      ]
    },
    {
      "cell_type": "markdown",
      "source": [
        "##8. Write code that prints Hello if 1 is stored in spam, prints Howdy if 2 is stored in spam, and prints Greetings! if anything else is stored in spam."
      ],
      "metadata": {
        "id": "3-ZcN2bHQq7e"
      }
    },
    {
      "cell_type": "code",
      "source": [
        "spam=0\n",
        "if spam==1:\n",
        "  print(\"Hello\")\n",
        "elif spam==2:\n",
        "  print(\"Howdy\")\n",
        "elif spam!=(0,3,4,5,6,7,8,9):\n",
        "  print(\"greetings\")\n"
      ],
      "metadata": {
        "colab": {
          "base_uri": "https://localhost:8080/"
        },
        "id": "B2Nw7u_FQX4I",
        "outputId": "7fb05e8a-8bf8-4735-ea42-dadf2dcc0683"
      },
      "execution_count": 27,
      "outputs": [
        {
          "output_type": "stream",
          "name": "stdout",
          "text": [
            "greetings\n"
          ]
        }
      ]
    },
    {
      "cell_type": "markdown",
      "source": [
        "##9.If your programme is stuck in an endless loop, what keys you’ll press?"
      ],
      "metadata": {
        "id": "i0ydmDu0TTiY"
      }
    },
    {
      "cell_type": "markdown",
      "source": [
        "##Answer\n",
        "we can use ctrl+c to exit from an endless loop"
      ],
      "metadata": {
        "id": "zdZcIOxNTWb5"
      }
    },
    {
      "cell_type": "markdown",
      "source": [
        "##10. How can you tell the difference between break and continue?"
      ],
      "metadata": {
        "id": "07iwQHERUXnr"
      }
    },
    {
      "cell_type": "markdown",
      "source": [
        "##answer\n",
        "Break is used  eliminate the execution of remaining iteration of loop\n",
        "\n",
        "continue is used to  terminate only the current iteration of loop."
      ],
      "metadata": {
        "id": "yeEqaYkDU5lo"
      }
    },
    {
      "cell_type": "markdown",
      "source": [
        "##11. In a for loop, what is the difference between range(10), range(0, 10), and range(0, 10, 1)?"
      ],
      "metadata": {
        "id": "kvpC5vlwVSiF"
      }
    },
    {
      "cell_type": "markdown",
      "source": [
        "##Answer\n",
        "\n",
        "There is no difference between range (10), range (0,10) and range (0,10,1). range function in Python takes 3 arguments and they are initial value, final value and increment value."
      ],
      "metadata": {
        "id": "4cNnXOxUVzKG"
      }
    },
    {
      "cell_type": "markdown",
      "source": [
        "##12. Write a short program that prints the numbers 1 to 10 using a for loop. Then write an equivalent program that prints the numbers 1 to 10 using a while loop."
      ],
      "metadata": {
        "id": "fHinmNxKWJup"
      }
    },
    {
      "cell_type": "code",
      "source": [
        "# using for loop\n",
        "for i in range(1, 101):\n",
        "    print(i)"
      ],
      "metadata": {
        "colab": {
          "base_uri": "https://localhost:8080/"
        },
        "id": "PrSZLm0_RP31",
        "outputId": "fe681c7c-45e8-423f-e76c-8d7080a65a79"
      },
      "execution_count": 31,
      "outputs": [
        {
          "output_type": "stream",
          "name": "stdout",
          "text": [
            "1\n",
            "2\n",
            "3\n",
            "4\n",
            "5\n",
            "6\n",
            "7\n",
            "8\n",
            "9\n",
            "10\n",
            "11\n",
            "12\n",
            "13\n",
            "14\n",
            "15\n",
            "16\n",
            "17\n",
            "18\n",
            "19\n",
            "20\n",
            "21\n",
            "22\n",
            "23\n",
            "24\n",
            "25\n",
            "26\n",
            "27\n",
            "28\n",
            "29\n",
            "30\n",
            "31\n",
            "32\n",
            "33\n",
            "34\n",
            "35\n",
            "36\n",
            "37\n",
            "38\n",
            "39\n",
            "40\n",
            "41\n",
            "42\n",
            "43\n",
            "44\n",
            "45\n",
            "46\n",
            "47\n",
            "48\n",
            "49\n",
            "50\n",
            "51\n",
            "52\n",
            "53\n",
            "54\n",
            "55\n",
            "56\n",
            "57\n",
            "58\n",
            "59\n",
            "60\n",
            "61\n",
            "62\n",
            "63\n",
            "64\n",
            "65\n",
            "66\n",
            "67\n",
            "68\n",
            "69\n",
            "70\n",
            "71\n",
            "72\n",
            "73\n",
            "74\n",
            "75\n",
            "76\n",
            "77\n",
            "78\n",
            "79\n",
            "80\n",
            "81\n",
            "82\n",
            "83\n",
            "84\n",
            "85\n",
            "86\n",
            "87\n",
            "88\n",
            "89\n",
            "90\n",
            "91\n",
            "92\n",
            "93\n",
            "94\n",
            "95\n",
            "96\n",
            "97\n",
            "98\n",
            "99\n",
            "100\n"
          ]
        }
      ]
    },
    {
      "cell_type": "code",
      "source": [
        "# using while loop\n",
        "i = 1\n",
        "while i <= 100:\n",
        "    print(i)\n",
        "    i = i+1"
      ],
      "metadata": {
        "colab": {
          "base_uri": "https://localhost:8080/"
        },
        "id": "hoFZZGfgWjL9",
        "outputId": "2a127f78-545a-47d3-d06b-13e5ac788696"
      },
      "execution_count": 32,
      "outputs": [
        {
          "output_type": "stream",
          "name": "stdout",
          "text": [
            "1\n",
            "2\n",
            "3\n",
            "4\n",
            "5\n",
            "6\n",
            "7\n",
            "8\n",
            "9\n",
            "10\n",
            "11\n",
            "12\n",
            "13\n",
            "14\n",
            "15\n",
            "16\n",
            "17\n",
            "18\n",
            "19\n",
            "20\n",
            "21\n",
            "22\n",
            "23\n",
            "24\n",
            "25\n",
            "26\n",
            "27\n",
            "28\n",
            "29\n",
            "30\n",
            "31\n",
            "32\n",
            "33\n",
            "34\n",
            "35\n",
            "36\n",
            "37\n",
            "38\n",
            "39\n",
            "40\n",
            "41\n",
            "42\n",
            "43\n",
            "44\n",
            "45\n",
            "46\n",
            "47\n",
            "48\n",
            "49\n",
            "50\n",
            "51\n",
            "52\n",
            "53\n",
            "54\n",
            "55\n",
            "56\n",
            "57\n",
            "58\n",
            "59\n",
            "60\n",
            "61\n",
            "62\n",
            "63\n",
            "64\n",
            "65\n",
            "66\n",
            "67\n",
            "68\n",
            "69\n",
            "70\n",
            "71\n",
            "72\n",
            "73\n",
            "74\n",
            "75\n",
            "76\n",
            "77\n",
            "78\n",
            "79\n",
            "80\n",
            "81\n",
            "82\n",
            "83\n",
            "84\n",
            "85\n",
            "86\n",
            "87\n",
            "88\n",
            "89\n",
            "90\n",
            "91\n",
            "92\n",
            "93\n",
            "94\n",
            "95\n",
            "96\n",
            "97\n",
            "98\n",
            "99\n",
            "100\n"
          ]
        }
      ]
    },
    {
      "cell_type": "markdown",
      "source": [
        "##13. If you had a function named bacon() inside a module named spam, how would you call it after importing spam?"
      ],
      "metadata": {
        "id": "14f3sOQhXLaS"
      }
    },
    {
      "cell_type": "markdown",
      "source": [
        "##Answer\n",
        "ill call it as spam.bacon()"
      ],
      "metadata": {
        "id": "Ug0jsT_mXR0q"
      }
    },
    {
      "cell_type": "code",
      "source": [],
      "metadata": {
        "id": "UcXyrYzUW9_V"
      },
      "execution_count": null,
      "outputs": []
    }
  ]
}