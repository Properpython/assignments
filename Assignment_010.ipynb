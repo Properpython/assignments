{
  "nbformat": 4,
  "nbformat_minor": 0,
  "metadata": {
    "colab": {
      "provenance": []
    },
    "kernelspec": {
      "name": "python3",
      "display_name": "Python 3"
    },
    "language_info": {
      "name": "python"
    }
  },
  "cells": [
    {
      "cell_type": "markdown",
      "source": [
        "##Q1. What is the difference between __getattr__ and __getattribute__?"
      ],
      "metadata": {
        "id": "2hIta20-QsXO"
      }
    },
    {
      "cell_type": "markdown",
      "source": [
        "###__getattr__(self, name):\n",
        "\n",
        "This method is called when an attribute is accessed, and the attribute is not found in the usual places (i.e., not an instance attribute, class attribute, or attribute in any of the base classes).\n",
        "\n",
        "It takes two arguments: self (the instance of the class) and name (the name of the attribute being accessed).\n",
        "\n",
        "If __getattr__ is defined in a class, it allows you to define a custom behavior for attribute access when the requested attribute is not directly available in the instance or its class hierarchy. This method is commonly used to implement dynamic attributes or handle missing attributes gracefully.\n",
        "\n",
        "###__getattribute__(self, name):\n",
        "\n",
        "This method is called every time an attribute is accessed, regardless of whether the attribute exists or not.\n",
        "\n",
        "It takes two arguments: self (the instance of the class) and name (the name of the attribute being accessed).\n",
        "\n",
        "__getattribute__ is a more general and powerful method compared to __getattr__ but requires more caution when implementing it. If you want to access the actual attribute in the class hierarchy, you need to use the object.__getattribute__(self, name) method to avoid infinite recursion."
      ],
      "metadata": {
        "id": "8bAiWaJSQs5b"
      }
    },
    {
      "cell_type": "markdown",
      "source": [
        "##Q2. What is the difference between properties and descriptors?"
      ],
      "metadata": {
        "id": "Op1TQ3upQtX6"
      }
    },
    {
      "cell_type": "markdown",
      "source": [
        "###Properties:\n",
        "\n",
        "Properties are a simple and convenient way to manage attribute access in Python classes.\n",
        "\n",
        "They are defined using the property built-in function or as a decorator with the @property syntax.\n",
        "\n",
        "Properties allow you to define custom getter, setter, and deleter methods for an attribute, giving you control over how the attribute is accessed, set, and deleted.\n",
        "\n",
        "Properties are bound to a specific attribute name and are accessed like regular instance attributes.\n",
        "\n",
        "They are most commonly used when you want to add additional logic or validation when getting or setting an attribute.\n",
        "\n",
        "###Descriptors:\n",
        "\n",
        "Descriptors are a more powerful and lower-level mechanism for controlling attribute access in Python.\n",
        "\n",
        "They are implemented as classes that define the __get__, __set__, and/or __delete__ methods, known as the descriptor protocol.\n",
        "\n",
        "Descriptors allow you to define custom behavior for attribute access at the class level, rather than the instance level. They can be shared across multiple instances of a class.\n",
        "\n",
        "Descriptors are not bound to a specific attribute name. Instead, they are associated with the class attribute itself, allowing you to define custom behavior for all instances that use the descriptor.\n",
        "\n",
        "They are most commonly used when you need fine-grained control over attribute access and want to share that behavior across multiple attributes."
      ],
      "metadata": {
        "id": "muuWZUjGQtpO"
      }
    },
    {
      "cell_type": "markdown",
      "source": [
        "##Q3. What are the key differences in functionality between __getattr__ and __getattribute__, as well as properties and descriptors?"
      ],
      "metadata": {
        "id": "TpCq9EHCQt_U"
      }
    },
    {
      "cell_type": "markdown",
      "source": [
        "##Differences between __getattr__ and __getattribute__:\n",
        "\n",
        "###Invocation:\n",
        "\n",
        "__getattr__(self, name): This method is called when an attribute is accessed, but the attribute is not found in the usual places (i.e., not an instance attribute, class attribute, or attribute in any of the base classes). It is a fallback method for attribute access.\n",
        "\n",
        "__getattribute__(self, name): This method is called every time an attribute is accessed, regardless of whether the attribute exists or not. It is a general method that is called for all attribute accesses.\n",
        "\n",
        "###Purpose:\n",
        "\n",
        "__getattr__: It is typically used to provide custom behavior for accessing non-existent attributes or implementing dynamic attributes. It can be useful for handling missing attributes gracefully.\n",
        "\n",
        "__getattribute__: It is a more general and powerful method that can be used to implement custom behavior for all attribute accesses. However, you need to be careful when using it to avoid infinite recursion.\n",
        "\n",
        "##Differences between properties and descriptors:\n",
        "\n",
        "###Implementation:\n",
        "\n",
        "Properties are implemented using the property built-in function or as a decorator with the @property syntax. They allow you to define custom getter, setter, and deleter methods for an attribute.\n",
        "\n",
        "Descriptors are implemented as classes that define the __get__, __set__, and/or __delete__ methods. They are more low-level and allow you to define custom behavior at the class level for attribute access.\n",
        "\n",
        "###Scope of Customization:\n",
        "\n",
        "Properties are bound to a specific attribute name and are defined at the instance level. They allow you to add additional logic or validation when getting or setting an attribute, but they are limited to that specific attribute.\n",
        "\n",
        "Descriptors are not bound to a specific attribute name. They are associated with the class attribute itself, allowing you to define custom behavior that applies to all instances that use the descriptor. Descriptors provide more fine-grained control and can be shared across multiple attributes.\n",
        "\n",
        "###Ease of Use:\n",
        "\n",
        "Properties are simpler to use, especially for basic attribute customization needs. They allow you to define custom behavior for getting, setting, and deleting attributes using simple decorator syntax.\n",
        "Descriptors are more complex and require defining a separate class for each descriptor. They are more suitable for advanced use cases where fine-grained control over attribute access is necessary."
      ],
      "metadata": {
        "id": "ZazrB2MiQuXj"
      }
    },
    {
      "cell_type": "code",
      "execution_count": null,
      "metadata": {
        "id": "mRZJ6fFYQqZV"
      },
      "outputs": [],
      "source": []
    }
  ]
}