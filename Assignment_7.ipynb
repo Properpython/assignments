{
  "nbformat": 4,
  "nbformat_minor": 0,
  "metadata": {
    "colab": {
      "provenance": []
    },
    "kernelspec": {
      "name": "python3",
      "display_name": "Python 3"
    },
    "language_info": {
      "name": "python"
    }
  },
  "cells": [
    {
      "cell_type": "markdown",
      "source": [
        "##1. What is the name of the feature responsible for generating Regex objects?"
      ],
      "metadata": {
        "id": "5wv5_Yu5fguW"
      }
    },
    {
      "cell_type": "markdown",
      "source": [
        "import re\n",
        "\n",
        " The re.compile() function returns Regex objects."
      ],
      "metadata": {
        "id": "PoarNnCWhpc3"
      }
    },
    {
      "cell_type": "code",
      "execution_count": 1,
      "metadata": {
        "colab": {
          "base_uri": "https://localhost:8080/"
        },
        "id": "5xyJJzgbe7fA",
        "outputId": "dffac61d-1f60-4dc7-ef8f-b900be757565"
      },
      "outputs": [
        {
          "output_type": "execute_result",
          "data": {
            "text/plain": [
              "re.compile(r'ineuron', re.UNICODE)"
            ]
          },
          "metadata": {},
          "execution_count": 1
        }
      ],
      "source": [
        "import re\n",
        "re.compile(\"ineuron\")"
      ]
    },
    {
      "cell_type": "markdown",
      "source": [
        "##2. Why do raw strings often appear in Regex objects?"
      ],
      "metadata": {
        "id": "hralr4yViNQu"
      }
    },
    {
      "cell_type": "markdown",
      "source": [
        "##Answer\n",
        "Since regular expressions frequently use backslashes in them, it is convenient to pass raw strings to the re.compile() function instead of typing extra backslashes."
      ],
      "metadata": {
        "id": "SzrTEdVDiVYj"
      }
    },
    {
      "cell_type": "markdown",
      "source": [
        "##3. What is the return value of the search() method?"
      ],
      "metadata": {
        "id": "Su57VWxEivaC"
      }
    },
    {
      "cell_type": "markdown",
      "source": [
        "##Answer\n",
        "The search() method searches a string for a specified value, and returns the position of the match.\n",
        "\n",
        "This method returns -1 if no match is found"
      ],
      "metadata": {
        "id": "nTjIrpUJi3nE"
      }
    },
    {
      "cell_type": "markdown",
      "source": [
        "##4. From a Match item, how do you get the actual strings that match the pattern?"
      ],
      "metadata": {
        "id": "GsXgjT2-jPkr"
      }
    },
    {
      "cell_type": "code",
      "source": [
        "#Calling matchingObject.group() will return the string.\n",
        "\n",
        "emailRegex = re.compile(r'([a-zA-Z0-9_\\-\\.]+)@([a-zA-Z0-9_\\-\\.]+)\\.([a-zA-Z]{2,5})')\n",
        "mo = emailRegex.search('My email is shedoleshahaji@gmail.com')\n",
        "print('Email found: ' + mo.group())"
      ],
      "metadata": {
        "colab": {
          "base_uri": "https://localhost:8080/"
        },
        "id": "1LXbgQOQiAXH",
        "outputId": "756d0c7f-3d57-44ad-9bf6-76edbd4eabdc"
      },
      "execution_count": 4,
      "outputs": [
        {
          "output_type": "stream",
          "name": "stdout",
          "text": [
            "Email found: shedoleshahaji@gmail.com\n"
          ]
        }
      ]
    },
    {
      "cell_type": "markdown",
      "source": [
        "##5. In the regex which created from the r&#39;(\\d\\d\\d)-(\\d\\d\\d-\\d\\d\\d\\d)&#39;, what does group zero cover?\n",
        "##Group 2? Group 1?"
      ],
      "metadata": {
        "id": "D4UBtdOPmGoi"
      }
    },
    {
      "cell_type": "markdown",
      "source": [
        "##Answer\n",
        "The first set of parentheses in a regex string will be group 1. \n",
        "\n",
        "The second set will be group 2. \n",
        "\n",
        "By passing the integer 1 or 2 to the group() match object method, you can grab different parts of the matched text.\n",
        " \n",
        "Passing 0 or nothing to the group() method will return the entire matched text"
      ],
      "metadata": {
        "id": "lD2myuulmqHA"
      }
    },
    {
      "cell_type": "code",
      "source": [
        "phoneNumRegex = re.compile(r'(\\d\\d\\d)-(\\d\\d\\d-\\d\\d\\d\\d)')\n",
        "mo = phoneNumRegex.search('My number is 415-555-4242.')\n",
        "mo.group(1)"
      ],
      "metadata": {
        "colab": {
          "base_uri": "https://localhost:8080/",
          "height": 35
        },
        "id": "WBBSNRazl2iD",
        "outputId": "e2fb5c65-3156-44e1-c5aa-ab7745d44872"
      },
      "execution_count": 5,
      "outputs": [
        {
          "output_type": "execute_result",
          "data": {
            "text/plain": [
              "'415'"
            ],
            "application/vnd.google.colaboratory.intrinsic+json": {
              "type": "string"
            }
          },
          "metadata": {},
          "execution_count": 5
        }
      ]
    },
    {
      "cell_type": "code",
      "source": [
        "mo.group(2)"
      ],
      "metadata": {
        "colab": {
          "base_uri": "https://localhost:8080/",
          "height": 35
        },
        "id": "ojeTyQjpm0wm",
        "outputId": "fd0b585d-0108-4277-b0f2-ac7886fe985d"
      },
      "execution_count": 6,
      "outputs": [
        {
          "output_type": "execute_result",
          "data": {
            "text/plain": [
              "'555-4242'"
            ],
            "application/vnd.google.colaboratory.intrinsic+json": {
              "type": "string"
            }
          },
          "metadata": {},
          "execution_count": 6
        }
      ]
    },
    {
      "cell_type": "code",
      "source": [
        "mo.group(0)"
      ],
      "metadata": {
        "colab": {
          "base_uri": "https://localhost:8080/",
          "height": 35
        },
        "id": "B60doxefm3RN",
        "outputId": "a3401a97-e435-468c-9e59-356b9db396e1"
      },
      "execution_count": 7,
      "outputs": [
        {
          "output_type": "execute_result",
          "data": {
            "text/plain": [
              "'415-555-4242'"
            ],
            "application/vnd.google.colaboratory.intrinsic+json": {
              "type": "string"
            }
          },
          "metadata": {},
          "execution_count": 7
        }
      ]
    },
    {
      "cell_type": "markdown",
      "source": [
        "##6. In standard expression syntax, parentheses and intervals have distinct meanings. How can you tell a regex that you want it to fit real parentheses and periods?"
      ],
      "metadata": {
        "id": "CdK389Utm80W"
      }
    },
    {
      "cell_type": "code",
      "source": [
        "#Answer\n",
        "#Periods and parentheses can be escaped with a backslash: \\., \\(,  and  \\)."
      ],
      "metadata": {
        "id": "aa5CinQunmjF"
      },
      "execution_count": 8,
      "outputs": []
    },
    {
      "cell_type": "markdown",
      "source": [
        "##7. The findall() method returns a string list or a list of string tuples. What causes it to return one of the two options?"
      ],
      "metadata": {
        "id": "EnuJ9amwnwDW"
      }
    },
    {
      "cell_type": "markdown",
      "source": [
        "##Answer\n",
        "If the regex has no groups, a list of strings is returned.\n",
        "\n",
        " If the regex has groups, a list of tuples of strings is \n",
        "returned."
      ],
      "metadata": {
        "id": "i8J5bgEvn5Bu"
      }
    },
    {
      "cell_type": "markdown",
      "source": [
        "##8. In standard expressions, what does the | character mean?"
      ],
      "metadata": {
        "id": "KULQowMcoBjH"
      }
    },
    {
      "cell_type": "markdown",
      "source": [
        "##Answer\n",
        "The | character is called a pipe. You can use it anywhere you want to match one of many expressions. \n",
        "\n",
        " the first occurrence of matching text will be \n",
        "returned as the Match object.\n",
        "\n",
        "The | character signifies matching “either, or” between two groups\n",
        "\n",
        "Example"
      ],
      "metadata": {
        "id": "j_NdI6acpJln"
      }
    },
    {
      "cell_type": "code",
      "source": [
        "a = re.compile (r'ineuron|fsds')\n",
        "mo1 = a.search('ineuron and fsds')\n",
        "mo1.group()"
      ],
      "metadata": {
        "colab": {
          "base_uri": "https://localhost:8080/",
          "height": 35
        },
        "id": "q8hUY3aFm5hX",
        "outputId": "8bfbeb3f-5183-480b-e361-f2b863afef42"
      },
      "execution_count": 9,
      "outputs": [
        {
          "output_type": "execute_result",
          "data": {
            "text/plain": [
              "'ineuron'"
            ],
            "application/vnd.google.colaboratory.intrinsic+json": {
              "type": "string"
            }
          },
          "metadata": {},
          "execution_count": 9
        }
      ]
    },
    {
      "cell_type": "markdown",
      "source": [
        "##9. In regular expressions, what does the character stand for?"
      ],
      "metadata": {
        "id": "cj3DlKwdpxkg"
      }
    },
    {
      "cell_type": "markdown",
      "source": [
        "##10.In regular expressions, what is the difference between the + and * characters?"
      ],
      "metadata": {
        "id": "MDNSH3E1qBFd"
      }
    },
    {
      "cell_type": "markdown",
      "source": [
        "##Answer\n",
        "The + matches one or more. The * matches zero or more"
      ],
      "metadata": {
        "id": "t8I420drsApb"
      }
    },
    {
      "cell_type": "markdown",
      "source": [
        "##11. What is the difference between {4} and {4,5} in regular expression?"
      ],
      "metadata": {
        "id": "kghqtC9wsGSo"
      }
    },
    {
      "cell_type": "markdown",
      "source": [
        "##Answer\n",
        "The {4} matches exactly four instances of the preceding group. \n",
        "\n",
        "The {4,5} matches between four and five instances"
      ],
      "metadata": {
        "id": "TaEia05ssGMC"
      }
    },
    {
      "cell_type": "markdown",
      "source": [
        "##12. What do you mean by the \\d, \\w, and \\s shorthand character classes signify in regular expressions?"
      ],
      "metadata": {
        "id": "J3juhi-Wsh3P"
      }
    },
    {
      "cell_type": "markdown",
      "source": [
        "##Answer\n",
        "The \\d, stands for single digit, Any numeric digit from 0 to 9\n",
        "\n",
        "\\w, stands for single word, Any letter, numeric digit, or the underscore character. \n",
        "\n",
        "\\s stands for single space character, Any space, tab, or newline character. "
      ],
      "metadata": {
        "id": "XBn1RosVs1Lc"
      }
    },
    {
      "cell_type": "markdown",
      "source": [
        "##13. What do means by \\D, \\W, and \\S shorthand character classes signify in regular expressions?"
      ],
      "metadata": {
        "id": "gFtxdBDhtEcd"
      }
    },
    {
      "cell_type": "markdown",
      "source": [
        "##Answer\n",
        "\\D - > Any character that is not a numeric digit from 0 to 9.\n",
        "\n",
        "\\W - > Any character that is not a letter, numeric digit, or the underscore character.\n",
        "\n",
        "\\S - > Any character that is not a space, tab, or newline."
      ],
      "metadata": {
        "id": "7CLsVs01tMK9"
      }
    },
    {
      "cell_type": "markdown",
      "source": [
        "##14. What is the difference between .*? and .*?"
      ],
      "metadata": {
        "id": "OL69PF2htVxf"
      }
    },
    {
      "cell_type": "markdown",
      "source": [
        "##Answer\n",
        ".* - > The dot-star uses greedy mode: It will always try to match as much text as possible.\n",
        "\n",
        ".*? - > To match any and all text in a non-greedy fashion, use the dot, star, and question mark (.*?). \n",
        "\n",
        "Example"
      ],
      "metadata": {
        "id": "ZHmaUOhLudQ1"
      }
    },
    {
      "cell_type": "code",
      "source": [
        "a = re.compile(r'<.*>')\n",
        "mo = a.search('<welcome to> ineuron.>')\n",
        "mo.group()"
      ],
      "metadata": {
        "colab": {
          "base_uri": "https://localhost:8080/",
          "height": 35
        },
        "id": "5E_DuNHvprLQ",
        "outputId": "8e082acb-cd3a-4df8-edaa-00301f684743"
      },
      "execution_count": 10,
      "outputs": [
        {
          "output_type": "execute_result",
          "data": {
            "text/plain": [
              "'<welcome to> ineuron.>'"
            ],
            "application/vnd.google.colaboratory.intrinsic+json": {
              "type": "string"
            }
          },
          "metadata": {},
          "execution_count": 10
        }
      ]
    },
    {
      "cell_type": "code",
      "source": [
        "b = re.compile(r'<.*?>')\n",
        "mo = b.search('<welcome to> ineuron.>')\n",
        "mo.group()"
      ],
      "metadata": {
        "colab": {
          "base_uri": "https://localhost:8080/",
          "height": 35
        },
        "id": "3ttEci83vE_-",
        "outputId": "2af3077a-46b2-4897-8422-3811e2f30446"
      },
      "execution_count": 11,
      "outputs": [
        {
          "output_type": "execute_result",
          "data": {
            "text/plain": [
              "'<welcome to>'"
            ],
            "application/vnd.google.colaboratory.intrinsic+json": {
              "type": "string"
            }
          },
          "metadata": {},
          "execution_count": 11
        }
      ]
    },
    {
      "cell_type": "markdown",
      "source": [
        "##15. What is the syntax for matching both numbers and lowercase letters with a character class?"
      ],
      "metadata": {
        "id": "lyxjrYTVvn4l"
      }
    },
    {
      "cell_type": "code",
      "source": [
        "a = re.compile(r'[0-9a-z]')\n",
        "b = re.compile(r'[a-z0-9]')\n",
        "\n",
        "mo1 = a.search('100 times I am Reading  this for 100 th time')\n",
        "mo1.group()"
      ],
      "metadata": {
        "colab": {
          "base_uri": "https://localhost:8080/",
          "height": 35
        },
        "id": "2tvDM8pjviPZ",
        "outputId": "6726af02-faaf-43e2-8aa0-efd4c9d5b6d1"
      },
      "execution_count": 12,
      "outputs": [
        {
          "output_type": "execute_result",
          "data": {
            "text/plain": [
              "'1'"
            ],
            "application/vnd.google.colaboratory.intrinsic+json": {
              "type": "string"
            }
          },
          "metadata": {},
          "execution_count": 12
        }
      ]
    },
    {
      "cell_type": "code",
      "source": [
        "a= re.compile(r'[a-z0-9]')\n",
        "\n",
        "mo1 = a.search('times I am Reading  this for 100 th time')\n",
        "mo1.group()"
      ],
      "metadata": {
        "colab": {
          "base_uri": "https://localhost:8080/",
          "height": 35
        },
        "id": "88-dGVcTwOm7",
        "outputId": "33f21e1d-0ec6-43ca-9188-999e2d551f34"
      },
      "execution_count": 13,
      "outputs": [
        {
          "output_type": "execute_result",
          "data": {
            "text/plain": [
              "'t'"
            ],
            "application/vnd.google.colaboratory.intrinsic+json": {
              "type": "string"
            }
          },
          "metadata": {},
          "execution_count": 13
        }
      ]
    },
    {
      "cell_type": "markdown",
      "source": [
        "##16. What is the procedure for making a normal expression in regax case insensitive?"
      ],
      "metadata": {
        "id": "MDAxpVpQwYzM"
      }
    },
    {
      "cell_type": "markdown",
      "source": [
        "##Answer\n",
        "\n",
        "\n",
        "Passing re.I or re.IGNORECASE as the second argument to re.compile() will make the matching case insensitive"
      ],
      "metadata": {
        "id": "c64DqkRkwjsg"
      }
    },
    {
      "cell_type": "markdown",
      "source": [
        "##17. What does the . character normally match? What does it match if re.DOTALL is passed as 2nd argument in re.compile()?"
      ],
      "metadata": {
        "id": "HBOmKjiZwqhd"
      }
    },
    {
      "cell_type": "markdown",
      "source": [
        "##Answer\n",
        "\n",
        "The . character normally matches any character except the newline character. \n",
        "\n",
        "If re.DOTALL is passed as the second argument to re.compile(), then the dot will also match newline characters."
      ],
      "metadata": {
        "id": "MeL7xgr-w0L-"
      }
    },
    {
      "cell_type": "markdown",
      "source": [
        "##18. If numReg = re.compile(r&#39;\\d+&#39;), what will numRegex.sub(&#39;X&#39;, &#39;11 drummers, 10 pipers, five rings, 4hen&#39;) return?"
      ],
      "metadata": {
        "id": "fwR_Ve-qw9mU"
      }
    },
    {
      "cell_type": "code",
      "source": [
        "numRegex = re.compile(r'\\d+')\n",
        "mo = numRegex.sub('X', '11 drummers, 10 pipers, five rings, 4hen')\n",
        "mo"
      ],
      "metadata": {
        "colab": {
          "base_uri": "https://localhost:8080/",
          "height": 35
        },
        "id": "E-eepN01wUUK",
        "outputId": "a500b8e4-0edf-4c62-b0ad-3840036977f0"
      },
      "execution_count": 14,
      "outputs": [
        {
          "output_type": "execute_result",
          "data": {
            "text/plain": [
              "'X drummers, X pipers, five rings, Xhen'"
            ],
            "application/vnd.google.colaboratory.intrinsic+json": {
              "type": "string"
            }
          },
          "metadata": {},
          "execution_count": 14
        }
      ]
    },
    {
      "cell_type": "markdown",
      "source": [
        "##19. What does passing re.VERBOSE as the 2nd argument to re.compile() allow to do?"
      ],
      "metadata": {
        "id": "vcsX_Qz6xVco"
      }
    },
    {
      "cell_type": "markdown",
      "source": [
        "##Answer\n",
        "The re.VERBOSE argument allows you to add whitespace and comments to the string passed to re.compile()"
      ],
      "metadata": {
        "id": "htdIGwbqxbzQ"
      }
    },
    {
      "cell_type": "markdown",
      "source": [
        "##20. How would you write a regex that match a number with comma for every three digits? It must match the given following:\n",
        "&#39;42&#39;\n",
        "\n",
        "&#39;1,234&#39;\n",
        "\n",
        "&#39;6,368,745&#39;\n",
        "\n",
        "but not the following:\n",
        "\n",
        "&#39;12,34,567&#39;\n",
        "\n",
        " (which has only two digits between the commas)\n",
        " \n",
        "&#39;1234&#39; (which lacks commas)"
      ],
      "metadata": {
        "id": "Dc4zvNjIxiPR"
      }
    },
    {
      "cell_type": "code",
      "source": [
        "reg1 = re.compile(r'^\\d{1,3}(,\\d{3})*$')\n",
        "mo1 = reg1.search('42')\n",
        "mo1.group()"
      ],
      "metadata": {
        "colab": {
          "base_uri": "https://localhost:8080/",
          "height": 35
        },
        "id": "2rKTWkPDxOVa",
        "outputId": "7350c3e3-0d46-4fcc-8de1-4c1c68b641dd"
      },
      "execution_count": 15,
      "outputs": [
        {
          "output_type": "execute_result",
          "data": {
            "text/plain": [
              "'42'"
            ],
            "application/vnd.google.colaboratory.intrinsic+json": {
              "type": "string"
            }
          },
          "metadata": {},
          "execution_count": 15
        }
      ]
    },
    {
      "cell_type": "code",
      "source": [
        "reg1 = re.compile(r'^\\d{1,3}(,\\d{3})*$')\n",
        "mo1 = reg1.search('1,234')\n",
        "mo1.group()"
      ],
      "metadata": {
        "colab": {
          "base_uri": "https://localhost:8080/",
          "height": 35
        },
        "id": "QK1bmeekyA0a",
        "outputId": "7d70c80e-1a4e-48e6-9f31-9972d8b92478"
      },
      "execution_count": 16,
      "outputs": [
        {
          "output_type": "execute_result",
          "data": {
            "text/plain": [
              "'1,234'"
            ],
            "application/vnd.google.colaboratory.intrinsic+json": {
              "type": "string"
            }
          },
          "metadata": {},
          "execution_count": 16
        }
      ]
    },
    {
      "cell_type": "code",
      "source": [
        "reg1 = re.compile(r'^\\d{1,3}(,\\d{3})*$')\n",
        "mo1 = reg1.search('6,368,745')\n",
        "mo1.group()"
      ],
      "metadata": {
        "colab": {
          "base_uri": "https://localhost:8080/",
          "height": 35
        },
        "id": "jRE9QDk9yFa_",
        "outputId": "618d4c5a-f697-4e78-a248-84b5f5c61c83"
      },
      "execution_count": 17,
      "outputs": [
        {
          "output_type": "execute_result",
          "data": {
            "text/plain": [
              "'6,368,745'"
            ],
            "application/vnd.google.colaboratory.intrinsic+json": {
              "type": "string"
            }
          },
          "metadata": {},
          "execution_count": 17
        }
      ]
    },
    {
      "cell_type": "markdown",
      "source": [
        "##21. How would you write a regex that matches the full name of someone whose last name is Watanabe? You can assume that the first name that comes before it will always be one word that begins with a capital letter. The regex must match the following:\n",
        "&#39;Haruto Watanabe&#39;\n",
        "\n",
        "&#39;Alice Watanabe&#39;\n",
        "\n",
        "&#39;RoboCop Watanabe&#39;\n",
        "\n",
        "but not the following:\n",
        "\n",
        "&#39;haruto Watanabe&#39; (where the first name is not capitalized)\n",
        "\n",
        "&#39;Mr. Watanabe&#39; (where the preceding word has a nonletter character)\n",
        "\n",
        "&#39;Watanabe&#39; (which has no first name)\n",
        "\n",
        "&#39;Haruto watanabe&#39; (where Watanabe is not capitalized)"
      ],
      "metadata": {
        "id": "5h2bphzxyOp8"
      }
    },
    {
      "cell_type": "code",
      "source": [
        "name = re.compile(r'[A-Z][a-z]*\\sWatanabe')\n",
        "reg1 = re.compile(r'^\\d{1,3}(,\\d{haruto Watanabe3})*$')\n",
        "mo1 = name.search('Haruto Watanabe')\n",
        "mo1.group()"
      ],
      "metadata": {
        "colab": {
          "base_uri": "https://localhost:8080/",
          "height": 35
        },
        "id": "pL0omovUyIAP",
        "outputId": "95d22209-1ab9-40ae-fb28-5af18dbe0657"
      },
      "execution_count": 18,
      "outputs": [
        {
          "output_type": "execute_result",
          "data": {
            "text/plain": [
              "'Haruto Watanabe'"
            ],
            "application/vnd.google.colaboratory.intrinsic+json": {
              "type": "string"
            }
          },
          "metadata": {},
          "execution_count": 18
        }
      ]
    },
    {
      "cell_type": "code",
      "source": [
        "name = re.compile(r'[A-Z][a-z]*\\sWatanabe')\n",
        "reg1 = re.compile(r'^\\d{1,3}(,\\d{3})*$')\n",
        "mo1 = name.search('Alice Watanabe')\n",
        "mo1.group()"
      ],
      "metadata": {
        "colab": {
          "base_uri": "https://localhost:8080/",
          "height": 35
        },
        "id": "A6XWjR6LyyZe",
        "outputId": "da232469-37a8-4f50-bccf-f57ba1988d6e"
      },
      "execution_count": 19,
      "outputs": [
        {
          "output_type": "execute_result",
          "data": {
            "text/plain": [
              "'Alice Watanabe'"
            ],
            "application/vnd.google.colaboratory.intrinsic+json": {
              "type": "string"
            }
          },
          "metadata": {},
          "execution_count": 19
        }
      ]
    },
    {
      "cell_type": "code",
      "source": [
        "name = re.compile(r'[A-Z][a-z]*\\sWatanabe')\n",
        "reg1 = re.compile(r'^\\d{1,3}(,\\d{3})*$')\n",
        "mo1 = name.search('Robocop Watanabe')\n",
        "mo1.group()"
      ],
      "metadata": {
        "colab": {
          "base_uri": "https://localhost:8080/",
          "height": 35
        },
        "id": "dv2xkL9Dy1LF",
        "outputId": "7c310e3d-a6bb-4034-f314-ce219653090a"
      },
      "execution_count": 20,
      "outputs": [
        {
          "output_type": "execute_result",
          "data": {
            "text/plain": [
              "'Robocop Watanabe'"
            ],
            "application/vnd.google.colaboratory.intrinsic+json": {
              "type": "string"
            }
          },
          "metadata": {},
          "execution_count": 20
        }
      ]
    },
    {
      "cell_type": "markdown",
      "source": [
        "##22. How would you write a regex that matches a sentence where the first word is either Alice, Bob, or Carol; the second word is either eats, pets, or throws; the third word is apples, cats, or baseballs; and the sentence ends with a period? This regex should be case-insensitive. It must match the following:\n",
        "&#39;Alice eats apples.&#39;\n",
        "\n",
        "&#39;Bob pets cats.&#39;\n",
        "\n",
        "&#39;Carol throws baseballs.&#39;\n",
        "\n",
        "&#39;Alice throws Apples.&#39;\n",
        "\n",
        "&#39;BOB EATS CATS.&#39;\n",
        "\n",
        "but not the following:\n",
        "\n",
        "&#39;RoboCop eats apples.&#39;\n",
        "\n",
        "&#39;ALICE THROWS FOOTBALLS.&#39;\n",
        "\n",
        "&#39;Carol eats 7 cats.&#39;"
      ],
      "metadata": {
        "id": "FqIpmp4czAUr"
      }
    },
    {
      "cell_type": "code",
      "source": [
        "name = re.compile(r'(Alice|Bob|Carol)\\s(eats|pets|throws)\\s(apples|cats|baseballs)\\.', re.IGNORECASE)\n",
        "\n",
        "mo1 = name.search('Alice eats apples.')\n",
        "mo1.group()"
      ],
      "metadata": {
        "colab": {
          "base_uri": "https://localhost:8080/",
          "height": 35
        },
        "id": "HdIp8d1ry7E9",
        "outputId": "43b0f53c-3109-4945-9f35-b81a2082be4c"
      },
      "execution_count": 22,
      "outputs": [
        {
          "output_type": "execute_result",
          "data": {
            "text/plain": [
              "'Alice eats apples.'"
            ],
            "application/vnd.google.colaboratory.intrinsic+json": {
              "type": "string"
            }
          },
          "metadata": {},
          "execution_count": 22
        }
      ]
    },
    {
      "cell_type": "code",
      "source": [
        "name = re.compile(r'(Alice|Bob|Carol)\\s(eats|pets|throws)\\s(apples|cats|baseballs)\\.', re.IGNORECASE)\n",
        "\n",
        "mo1 = name.search('Carol throws baseballs.')\n",
        "mo1.group()"
      ],
      "metadata": {
        "colab": {
          "base_uri": "https://localhost:8080/",
          "height": 35
        },
        "id": "HGL-0CDFzQ5K",
        "outputId": "32791ad7-c929-4804-ffe4-6dab0eff0ea3"
      },
      "execution_count": 23,
      "outputs": [
        {
          "output_type": "execute_result",
          "data": {
            "text/plain": [
              "'Carol throws baseballs.'"
            ],
            "application/vnd.google.colaboratory.intrinsic+json": {
              "type": "string"
            }
          },
          "metadata": {},
          "execution_count": 23
        }
      ]
    }
  ]
}