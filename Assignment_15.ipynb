{
  "nbformat": 4,
  "nbformat_minor": 0,
  "metadata": {
    "colab": {
      "provenance": []
    },
    "kernelspec": {
      "name": "python3",
      "display_name": "Python 3"
    },
    "language_info": {
      "name": "python"
    }
  },
  "cells": [
    {
      "cell_type": "markdown",
      "source": [
        "##1.How many seconds are in an hour? Use the interactive interpreter as a calculator and multiply the number of seconds in a minute (60) by the number of minutes in an hour (also 60)."
      ],
      "metadata": {
        "id": "Wgrqs_BshiJN"
      }
    },
    {
      "cell_type": "code",
      "execution_count": 1,
      "metadata": {
        "colab": {
          "base_uri": "https://localhost:8080/"
        },
        "id": "eWihNho8hMm2",
        "outputId": "6a0819a7-c35c-4ebd-8bbf-a1275a073b1c"
      },
      "outputs": [
        {
          "output_type": "execute_result",
          "data": {
            "text/plain": [
              "3600"
            ]
          },
          "metadata": {},
          "execution_count": 1
        }
      ],
      "source": [
        "60*60"
      ]
    },
    {
      "cell_type": "markdown",
      "source": [
        "##2. Assign the result from the previous task (seconds in an hour) to a variable called seconds_per_hour."
      ],
      "metadata": {
        "id": "YaeLKVcEhxvX"
      }
    },
    {
      "cell_type": "code",
      "source": [
        "seconds_per_hour=3600\n",
        "seconds_per_hour\n"
      ],
      "metadata": {
        "colab": {
          "base_uri": "https://localhost:8080/"
        },
        "id": "635SKNSUhrYW",
        "outputId": "118c228a-8507-4232-8064-526846ea3a69"
      },
      "execution_count": 3,
      "outputs": [
        {
          "output_type": "execute_result",
          "data": {
            "text/plain": [
              "3600"
            ]
          },
          "metadata": {},
          "execution_count": 3
        }
      ]
    },
    {
      "cell_type": "markdown",
      "source": [
        "##3. How many seconds do you think there are in a day? Make use of the variables seconds per hour and minutes per hour."
      ],
      "metadata": {
        "id": "jNm9-tu4iEKs"
      }
    },
    {
      "cell_type": "code",
      "source": [
        "oneday=24\n",
        "seconds_in_a_day=24*seconds_per_hour\n",
        "seconds_in_a_day"
      ],
      "metadata": {
        "colab": {
          "base_uri": "https://localhost:8080/"
        },
        "id": "GS6Ue8kKh79i",
        "outputId": "37996258-5e63-492f-f6fa-96bdc2063108"
      },
      "execution_count": 4,
      "outputs": [
        {
          "output_type": "execute_result",
          "data": {
            "text/plain": [
              "86400"
            ]
          },
          "metadata": {},
          "execution_count": 4
        }
      ]
    },
    {
      "cell_type": "markdown",
      "source": [
        "##4. Calculate seconds per day again, but this time save the result in a variable called seconds_per_day"
      ],
      "metadata": {
        "id": "Dosom74qifpF"
      }
    },
    {
      "cell_type": "code",
      "source": [
        "seconds_per_day =  24 * seconds_per_hour\n",
        "seconds_per_day "
      ],
      "metadata": {
        "colab": {
          "base_uri": "https://localhost:8080/"
        },
        "id": "1cFM6o7ticjE",
        "outputId": "375ae0d0-de7f-46dd-9420-2df67445578c"
      },
      "execution_count": 5,
      "outputs": [
        {
          "output_type": "execute_result",
          "data": {
            "text/plain": [
              "86400"
            ]
          },
          "metadata": {},
          "execution_count": 5
        }
      ]
    },
    {
      "cell_type": "markdown",
      "source": [
        "##5. Divide seconds_per_day by seconds_per_hour. Use floating-point (/) division."
      ],
      "metadata": {
        "id": "gLzTJ7Hvipb0"
      }
    },
    {
      "cell_type": "code",
      "source": [
        "seconds_per_day/seconds_per_hour"
      ],
      "metadata": {
        "colab": {
          "base_uri": "https://localhost:8080/"
        },
        "id": "r1Q3cMUdinFe",
        "outputId": "fcaaa942-6ac5-4472-cf0f-db45cae63543"
      },
      "execution_count": 6,
      "outputs": [
        {
          "output_type": "execute_result",
          "data": {
            "text/plain": [
              "24.0"
            ]
          },
          "metadata": {},
          "execution_count": 6
        }
      ]
    },
    {
      "cell_type": "markdown",
      "source": [
        "##6. Divide seconds_per_day by seconds_per_hour, using integer (//) division. Did this number agree with the floating-point value from the previous question, aside from the final .0?"
      ],
      "metadata": {
        "id": "j1Pg7gjSixRA"
      }
    },
    {
      "cell_type": "code",
      "source": [
        "#yes\n",
        "seconds_per_day // seconds_per_hour"
      ],
      "metadata": {
        "colab": {
          "base_uri": "https://localhost:8080/"
        },
        "id": "qHkHPp6Viuk-",
        "outputId": "b074a300-e54b-4dc5-b1d1-3f745cfdf928"
      },
      "execution_count": 7,
      "outputs": [
        {
          "output_type": "execute_result",
          "data": {
            "text/plain": [
              "24"
            ]
          },
          "metadata": {},
          "execution_count": 7
        }
      ]
    },
    {
      "cell_type": "markdown",
      "source": [
        "##7. Write a generator, genPrimes, that returns the sequence of prime numbers on successive calls to its next() method: 2, 3, 5, 7, 11, ..."
      ],
      "metadata": {
        "id": "aVlzLkFpjBg9"
      }
    },
    {
      "cell_type": "code",
      "source": [
        "def genPrimes():\n",
        "    n = 2\n",
        "    primes = []\n",
        "    while True:\n",
        "        for i in primes:\n",
        "            if n % i == 0:\n",
        "                break\n",
        "        else:\n",
        "            primes.append(n)\n",
        "            yield n\n",
        "        n += 1\n"
      ],
      "metadata": {
        "id": "0X6NswLXi-6Q"
      },
      "execution_count": 10,
      "outputs": []
    }
  ]
}