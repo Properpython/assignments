{
  "nbformat": 4,
  "nbformat_minor": 0,
  "metadata": {
    "colab": {
      "provenance": []
    },
    "kernelspec": {
      "name": "python3",
      "display_name": "Python 3"
    },
    "language_info": {
      "name": "python"
    }
  },
  "cells": [
    {
      "cell_type": "markdown",
      "source": [
        "##1. Write a Python program to find words which are greater than given length k?"
      ],
      "metadata": {
        "id": "dkBDKLRBjB8k"
      }
    },
    {
      "cell_type": "code",
      "execution_count": 1,
      "metadata": {
        "colab": {
          "base_uri": "https://localhost:8080/"
        },
        "id": "iM4kkxCVjAXM",
        "outputId": "378c2c11-5a36-4264-dffa-ea2fa0c98be5"
      },
      "outputs": [
        {
          "output_type": "stream",
          "name": "stdout",
          "text": [
            "enter the number: 3\n",
            "['hello', 'from', 'ineuron']\n"
          ]
        }
      ],
      "source": [
        "def string_k(k, str):\n",
        "    string = []\n",
        "    text = str.split(\" \")\n",
        "    for x in text:\n",
        "        if len(x) > k:\n",
        "            string.append(x)\n",
        "    return string\n",
        "    \n",
        "k = int(input(\"enter the number: \"))\n",
        "str =\"hello iam from ineuron\"\n",
        "print(string_k(k, str))"
      ]
    },
    {
      "cell_type": "markdown",
      "source": [
        "##2. Write a Python program for removing i-th character from a string?"
      ],
      "metadata": {
        "id": "8axI3n7hju__"
      }
    },
    {
      "cell_type": "code",
      "source": [
        "test_str = \"HELLO IAM FROM INEURON\"\n",
        "new_str = \"\"\n",
        " \n",
        "for i in range(len(test_str)):\n",
        "    if i != 0:\n",
        "        new_str = new_str + test_str[i]\n",
        "print (\"The string after removal of i'th character : \" + new_str)"
      ],
      "metadata": {
        "colab": {
          "base_uri": "https://localhost:8080/"
        },
        "id": "cQLbKFMAjlo5",
        "outputId": "42c648b1-9963-422a-aa65-c4af580a83c6"
      },
      "execution_count": 3,
      "outputs": [
        {
          "output_type": "stream",
          "name": "stdout",
          "text": [
            "The string after removal of i'th character : ELLO IAM FROM INEURON\n"
          ]
        }
      ]
    },
    {
      "cell_type": "markdown",
      "source": [
        "##3. Write a Python program to split and join a string?"
      ],
      "metadata": {
        "id": "vJQoBTibkPD7"
      }
    },
    {
      "cell_type": "code",
      "source": [
        "def split_string(string):\n",
        "    list_string = string.split(' ')\n",
        "    return list_string\n",
        " \n",
        "def join_string(list_string):\n",
        "    string = '-'.join(list_string)  \n",
        "    return string\n",
        "\n",
        "if __name__ == '__main__':\n",
        "    string = 'INEURON FOR DATASCIENCE'\n",
        "    list_string = split_string(string)\n",
        "    print(list_string)\n",
        "    new_string = join_string(list_string)\n",
        "    print(new_string)"
      ],
      "metadata": {
        "colab": {
          "base_uri": "https://localhost:8080/"
        },
        "id": "aUkdsTd4kDbk",
        "outputId": "5838dbae-7173-4cc4-fef5-ce1253f72265"
      },
      "execution_count": 4,
      "outputs": [
        {
          "output_type": "stream",
          "name": "stdout",
          "text": [
            "['INEURON', 'FOR', 'DATASCIENCE']\n",
            "INEURON-FOR-DATASCIENCE\n"
          ]
        }
      ]
    },
    {
      "cell_type": "markdown",
      "source": [
        "##4. Write a Python to check if a given string is binary string or not?"
      ],
      "metadata": {
        "id": "UIZmpcYrkqTE"
      }
    },
    {
      "cell_type": "code",
      "source": [
        "def check(string):\n",
        "    p = set(string)\n",
        "    s = {'0', '1'}\n",
        "    if s == p or p == {'0'} or p == {'1'}:\n",
        "        print(\"Yes\")\n",
        "    else:\n",
        "        print(\"No\")\n",
        "if __name__ == \"__main__\":\n",
        " \n",
        "    string = \"101010000111\"\n",
        "    check(string)"
      ],
      "metadata": {
        "colab": {
          "base_uri": "https://localhost:8080/"
        },
        "id": "gg-ET3f5kmvB",
        "outputId": "397643b6-a852-4e39-f705-2b211ddaa938"
      },
      "execution_count": 5,
      "outputs": [
        {
          "output_type": "stream",
          "name": "stdout",
          "text": [
            "Yes\n"
          ]
        }
      ]
    },
    {
      "cell_type": "markdown",
      "source": [
        "##5. Write a Python program to find uncommon words from two Strings?"
      ],
      "metadata": {
        "id": "1O-KMtR-k9jE"
      }
    },
    {
      "cell_type": "code",
      "source": [
        "def UncommonWords(A, B):\n",
        "    count = {}\n",
        "    for word in A.split():\n",
        "        count[word] = count.get(word, 0) + 1\n",
        "    for word in B.split():\n",
        "        count[word] = count.get(word, 0) + 1\n",
        "    return [word for word in count if count[word] == 1]\n",
        " \n",
        " \n",
        "A = \"IAM FROM INEURON\"\n",
        "B = \"INEURON IS BEST FOR DATASCIENCE\"\n",
        "print(UncommonWords(A, B))"
      ],
      "metadata": {
        "colab": {
          "base_uri": "https://localhost:8080/"
        },
        "id": "4F0o-Jz5k6PD",
        "outputId": "c1364ced-169a-483c-e3ad-f3442957d603"
      },
      "execution_count": 6,
      "outputs": [
        {
          "output_type": "stream",
          "name": "stdout",
          "text": [
            "['IAM', 'FROM', 'IS', 'BEST', 'FOR', 'DATASCIENCE']\n"
          ]
        }
      ]
    },
    {
      "cell_type": "markdown",
      "source": [
        "##6. Write a Python to find all duplicate characters in string?"
      ],
      "metadata": {
        "id": "qwPexupXlesb"
      }
    },
    {
      "cell_type": "code",
      "source": [
        "def duplicate_characters(string):\n",
        "    chars = {}\n",
        "    for char in string:\n",
        "        if char not in chars:\n",
        "            chars[char] = 1\n",
        "        else:\n",
        "            chars[char] += 1\n",
        " \n",
        "    duplicates = []\n",
        "    for char, count in chars.items():\n",
        "        if count > 1:\n",
        "            duplicates.append(char)\n",
        " \n",
        "    return duplicates\n",
        " \n",
        "print(duplicate_characters(\"INEURON\"))"
      ],
      "metadata": {
        "colab": {
          "base_uri": "https://localhost:8080/"
        },
        "id": "QmssPs85lZm6",
        "outputId": "f5687cb4-60bf-4ab4-a364-421a699ef982"
      },
      "execution_count": 8,
      "outputs": [
        {
          "output_type": "stream",
          "name": "stdout",
          "text": [
            "['N']\n"
          ]
        }
      ]
    },
    {
      "cell_type": "markdown",
      "source": [
        "##7. Write a Python Program to check if a string contains any special character?"
      ],
      "metadata": {
        "id": "z9Gw_wQmmIyO"
      }
    },
    {
      "cell_type": "code",
      "source": [
        "import re\n",
        "def run(string):\n",
        "    regex = re.compile('[@_!#$%^&*()<>?/\\|}{~:]')\n",
        "    if(regex.search(string) == None):\n",
        "        print(\"String is accepted\")    \n",
        "    else:\n",
        "        print(\"String is not accepted.\")\n",
        "if __name__ == '__main__' :\n",
        "    string = \"INEU@RON\"\n",
        "    run(string)"
      ],
      "metadata": {
        "colab": {
          "base_uri": "https://localhost:8080/"
        },
        "id": "oQyFOlIOmBrt",
        "outputId": "7b060a05-3c2e-4134-b41e-0869fa6f813c"
      },
      "execution_count": 9,
      "outputs": [
        {
          "output_type": "stream",
          "name": "stdout",
          "text": [
            "String is not accepted.\n"
          ]
        }
      ]
    }
  ]
}