{
  "nbformat": 4,
  "nbformat_minor": 0,
  "metadata": {
    "colab": {
      "provenance": []
    },
    "kernelspec": {
      "name": "python3",
      "display_name": "Python 3"
    },
    "language_info": {
      "name": "python"
    }
  },
  "cells": [
    {
      "cell_type": "markdown",
      "source": [
        "\n",
        "\n",
        "##1. To what does a relative path refer?\n",
        "\n"
      ],
      "metadata": {
        "id": "39DtwzkwMuTo"
      }
    },
    {
      "cell_type": "markdown",
      "source": [
        "##Answer\n",
        "The relative path is the path of a file with respect to your current working directory (PWD)."
      ],
      "metadata": {
        "id": "E8VgY6ZQNGtY"
      }
    },
    {
      "cell_type": "markdown",
      "source": [
        "##2. What does an absolute path start with your operating system?\n"
      ],
      "metadata": {
        "id": "HvgpnkVyNLy0"
      }
    },
    {
      "cell_type": "markdown",
      "source": [
        "##Answer\n",
        "An absolute path contains the full set of directories from the root of the file system up to your target file or directory. An absolute path start with the root folder, such as / or C:"
      ],
      "metadata": {
        "id": "ETHHk1uxNOkR"
      }
    },
    {
      "cell_type": "markdown",
      "source": [
        "##3. What do the functions os.getcwd() and os.chdir() do?"
      ],
      "metadata": {
        "id": "f-WMoDYyNWXj"
      }
    },
    {
      "cell_type": "markdown",
      "source": [
        "##Answer\n",
        "getcwd stands for \"get current working directory\". os.getcwd() returns the absolute path of the working directory where Python is currently running as a string str .\n",
        "\n",
        " os.chdir() method in Python used to change the current working directory to specified path. It takes only a single argument as new directory path"
      ],
      "metadata": {
        "id": "LO0fn_WlNWQQ"
      }
    },
    {
      "cell_type": "markdown",
      "source": [
        "##4. What are the . and .. folders?"
      ],
      "metadata": {
        "id": "MqzRDy-KNypB"
      }
    },
    {
      "cell_type": "markdown",
      "source": [
        "##Answer\n",
        "The . is the current directory, \n",
        "\n",
        "while .. signifies the parent directory."
      ],
      "metadata": {
        "id": "46Cwgtk9N0aa"
      }
    },
    {
      "cell_type": "markdown",
      "source": [
        "##5. In C:\\bacon\\eggs\\spam.txt, which part is the dir name, and which part is the base name?"
      ],
      "metadata": {
        "id": "nUsmmL2vN-xQ"
      }
    },
    {
      "cell_type": "markdown",
      "source": [
        "##Answer\n",
        "The basename is the final rightmost segment of the file path . In the above path base name is spam.txt. os.path.basename() can be used to extract base name from the path. \n",
        "\n",
        "dir name is the folder name in which file exists. In the above path dir name is C:\\bacon\\eggs . os.path.dirname() can be used to extract dir name form path."
      ],
      "metadata": {
        "id": "aRlK4aXsODL6"
      }
    },
    {
      "cell_type": "markdown",
      "source": [
        "##6. What are the three “mode” arguments that can be passed to the open() function?"
      ],
      "metadata": {
        "id": "MgHST4J0OPkC"
      }
    },
    {
      "cell_type": "markdown",
      "source": [
        "##Answer\n",
        "mode arguments that can be passed to open () function are: \n",
        "\n",
        "'r' Open a file for reading. \n",
        "\n",
        "'w' Open a file for writing. Creates a new file if it does not exist or truncates the file if it exists.\n",
        "\n",
        " 'a' Open for appending at the end of the file without truncating it. Creates a new file if it does not exist. '+' Open a file for updating (reading and writing)"
      ],
      "metadata": {
        "id": "1HQV1hZtOTPb"
      }
    },
    {
      "cell_type": "markdown",
      "source": [
        "##7. What happens if an existing file is opened in write mode?"
      ],
      "metadata": {
        "id": "6uehLq5mOjXz"
      }
    },
    {
      "cell_type": "markdown",
      "source": [
        "##Answer\n",
        "when an existing file is opened in write mode, contents which were previously present will be overwritten by new content passed."
      ],
      "metadata": {
        "id": "eFu82CCSOniB"
      }
    },
    {
      "cell_type": "markdown",
      "source": [
        "##8. How do you tell the difference between read() and readlines()?"
      ],
      "metadata": {
        "id": "N96XQdhAOx-j"
      }
    },
    {
      "cell_type": "markdown",
      "source": [
        "##Answer\n",
        "read() reads the entire contents of the file into a string.\n",
        "\n",
        " readline() just reads file till the next line."
      ],
      "metadata": {
        "id": "z_3w4iwbO1e5"
      }
    },
    {
      "cell_type": "markdown",
      "source": [
        "##9. What data structure does a shelf value resemble?\n"
      ],
      "metadata": {
        "id": "2QVi_-ALO8WC"
      }
    },
    {
      "cell_type": "markdown",
      "source": [
        "##Answer\n",
        "A shelf value resembles a dictionary value:\n",
        "\n",
        " it has keys and values, along with keys() and values() methods that work similarly to the dictionary methods of the same names."
      ],
      "metadata": {
        "id": "q4yv3R21PAcj"
      }
    }
  ]
}