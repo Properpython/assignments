{
  "nbformat": 4,
  "nbformat_minor": 0,
  "metadata": {
    "colab": {
      "provenance": []
    },
    "kernelspec": {
      "name": "python3",
      "display_name": "Python 3"
    },
    "language_info": {
      "name": "python"
    }
  },
  "cells": [
    {
      "cell_type": "markdown",
      "source": [
        "##1. Make a class called Thing with no contents and print it. Then, create an object called example from this class and also print it. Are the printed values the same or different?"
      ],
      "metadata": {
        "id": "DDhc3k9uDGXX"
      }
    },
    {
      "cell_type": "code",
      "execution_count": 1,
      "metadata": {
        "id": "PzXzSVweC_5t"
      },
      "outputs": [],
      "source": [
        "class thing:\n",
        "  pass"
      ]
    },
    {
      "cell_type": "code",
      "source": [
        "print(thing)"
      ],
      "metadata": {
        "colab": {
          "base_uri": "https://localhost:8080/"
        },
        "id": "SCWpILGSDe1A",
        "outputId": "513301c5-b4e3-4046-9748-bcf67c6d3e54"
      },
      "execution_count": 2,
      "outputs": [
        {
          "output_type": "stream",
          "name": "stdout",
          "text": [
            "<class '__main__.thing'>\n"
          ]
        }
      ]
    },
    {
      "cell_type": "code",
      "source": [
        "example=thing()\n",
        "print(example)       #diiferent"
      ],
      "metadata": {
        "colab": {
          "base_uri": "https://localhost:8080/"
        },
        "id": "NevhBAt2DqWX",
        "outputId": "dcb6d4af-77c3-4f13-d438-02dbb3b3cf33"
      },
      "execution_count": 4,
      "outputs": [
        {
          "output_type": "stream",
          "name": "stdout",
          "text": [
            "<__main__.thing object at 0x7f50831cd940>\n"
          ]
        }
      ]
    },
    {
      "cell_type": "markdown",
      "source": [
        "##2. Create a new class called Thing2 and add the value &#39;abc&#39; to the letters class attribute. Letters should be printed."
      ],
      "metadata": {
        "id": "kNNm_OLGD68i"
      }
    },
    {
      "cell_type": "code",
      "source": [
        "class thing2:\n",
        "  letters='abc'\n",
        "thing2.letters"
      ],
      "metadata": {
        "colab": {
          "base_uri": "https://localhost:8080/",
          "height": 35
        },
        "id": "5pUAdISmDw1E",
        "outputId": "385beb3f-ef82-436a-9697-ad5594e50e98"
      },
      "execution_count": 5,
      "outputs": [
        {
          "output_type": "execute_result",
          "data": {
            "text/plain": [
              "'abc'"
            ],
            "application/vnd.google.colaboratory.intrinsic+json": {
              "type": "string"
            }
          },
          "metadata": {},
          "execution_count": 5
        }
      ]
    },
    {
      "cell_type": "markdown",
      "source": [
        "##3. Make yet another class called, of course, Thing3. This time, assign the value &#39;xyz&#39; to an instance (object) attribute called letters. Print letters. Do you need to make an object from the class to do this?"
      ],
      "metadata": {
        "id": "6aLNgApREL4i"
      }
    },
    {
      "cell_type": "code",
      "source": [
        "class thing3:\n",
        "    def __init__(self,letter):\n",
        "        self.letter = letter\n",
        "    def letters(self):\n",
        "        print(self.letter)\n",
        "thing3('xyz').letters()   \n",
        "#no, we do need to make an object from the class to do this"
      ],
      "metadata": {
        "colab": {
          "base_uri": "https://localhost:8080/"
        },
        "id": "RkHVnJ5uEJHQ",
        "outputId": "8981683b-fddb-4359-8e81-264b35430afe"
      },
      "execution_count": 8,
      "outputs": [
        {
          "output_type": "stream",
          "name": "stdout",
          "text": [
            "xyz\n"
          ]
        }
      ]
    },
    {
      "cell_type": "markdown",
      "source": [
        "##4. Create an Element class with the instance attributes name, symbol, and number. Create a class object with the values &#39;Hydrogen,&#39; &#39;H,&#39; and 1."
      ],
      "metadata": {
        "id": "LSDNrj0iFPXe"
      }
    },
    {
      "cell_type": "code",
      "source": [
        "class Element:\n",
        "  def __init__(self,name,symbol,number):\n",
        "     self.name=name\n",
        "     self.symbol=symbol\n",
        "     self.number=number\n",
        "  def Print(self):\n",
        "    print(self.name,self.symbol,self.number)"
      ],
      "metadata": {
        "id": "yPDU9pkAEunc"
      },
      "execution_count": 9,
      "outputs": []
    },
    {
      "cell_type": "code",
      "source": [
        "object=Element('Hydrogen','H',1)\n",
        "object.name"
      ],
      "metadata": {
        "colab": {
          "base_uri": "https://localhost:8080/",
          "height": 35
        },
        "id": "zNWNnc3-GJSm",
        "outputId": "5e169791-51e2-433a-95c5-2e737ffa5da7"
      },
      "execution_count": 15,
      "outputs": [
        {
          "output_type": "execute_result",
          "data": {
            "text/plain": [
              "'Hydrogen'"
            ],
            "application/vnd.google.colaboratory.intrinsic+json": {
              "type": "string"
            }
          },
          "metadata": {},
          "execution_count": 15
        }
      ]
    },
    {
      "cell_type": "markdown",
      "source": [
        "##5. Make a dictionary with these keys and values: &#39;name&#39;: &#39;Hydrogen&#39;, &#39;symbol&#39;: &#39;H&#39;, &#39;number&#39;: 1. Then,create an object called hydrogen from class Element using this dictionary."
      ],
      "metadata": {
        "id": "eMPogZuGGrjj"
      }
    },
    {
      "cell_type": "code",
      "source": [
        "dic={'name':'Hydrogen','symbol':'H','number':1}\n",
        "hydrogen = Element(**dic) # using dictionary unpacking..\n",
        "hydrogen.symbol"
      ],
      "metadata": {
        "colab": {
          "base_uri": "https://localhost:8080/",
          "height": 35
        },
        "id": "63ZeTb_eGU6P",
        "outputId": "b7d4cbbd-6dc9-4088-9f12-2dcdbcfcf04b"
      },
      "execution_count": 17,
      "outputs": [
        {
          "output_type": "execute_result",
          "data": {
            "text/plain": [
              "'H'"
            ],
            "application/vnd.google.colaboratory.intrinsic+json": {
              "type": "string"
            }
          },
          "metadata": {},
          "execution_count": 17
        }
      ]
    },
    {
      "cell_type": "markdown",
      "source": [
        "##6. For the Element class, define a method called dump() that prints the values of the object’s attributes (name, symbol, and number). Create the hydrogen object from this new definition and use dump() to print its attributes."
      ],
      "metadata": {
        "id": "Ov8y1U2vHtVI"
      }
    },
    {
      "cell_type": "code",
      "source": [
        "class Element:\n",
        "  def __init__(self,name,symbol,number):\n",
        "     self.name=name\n",
        "     self.symbol=symbol\n",
        "     self.number=number\n",
        "  def dump(self):\n",
        "    print(self.name,self.symbol,self.number)"
      ],
      "metadata": {
        "id": "vOv1jadzHXUm"
      },
      "execution_count": 18,
      "outputs": []
    },
    {
      "cell_type": "code",
      "source": [
        "hydrogen=Element('Hydrogen','H',1)\n",
        "hydrogen.dump()"
      ],
      "metadata": {
        "colab": {
          "base_uri": "https://localhost:8080/"
        },
        "id": "mCH2jdaVJzYc",
        "outputId": "d2c685cd-7b3d-4c4e-9c69-d854c23b7908"
      },
      "execution_count": 21,
      "outputs": [
        {
          "output_type": "stream",
          "name": "stdout",
          "text": [
            "Hydrogen H 1\n"
          ]
        }
      ]
    },
    {
      "cell_type": "markdown",
      "source": [
        "##7. Call print(hydrogen). In the definition of Element, change the name of method dump to __str__, create a new hydrogen object, and call print(hydrogen) again."
      ],
      "metadata": {
        "id": "PQZzCk_wKQCF"
      }
    },
    {
      "cell_type": "code",
      "source": [
        "class Element:\n",
        "    def __init__(self,name,symbol,number):\n",
        "        self.name = name\n",
        "        self.symbol = symbol\n",
        "        self.number = number\n",
        "    def __str__(self):\n",
        "        return ('name=%s, symbol=%s, number=%s'% (self.name, self.symbol, self.number) )"
      ],
      "metadata": {
        "id": "hnpmn_P1J9Lg"
      },
      "execution_count": 22,
      "outputs": []
    },
    {
      "cell_type": "code",
      "source": [
        "hydrogen=Element('Hydrogen','H',1)\n",
        "print(hydrogen)"
      ],
      "metadata": {
        "colab": {
          "base_uri": "https://localhost:8080/"
        },
        "id": "yemk-ln4K51_",
        "outputId": "accbfc5b-a944-4cd4-eefc-566aef227d2e"
      },
      "execution_count": 23,
      "outputs": [
        {
          "output_type": "stream",
          "name": "stdout",
          "text": [
            "name=Hydrogen, symbol=H, number=1\n"
          ]
        }
      ]
    },
    {
      "cell_type": "markdown",
      "source": [
        "##8. Modify Element to make the attributes name, symbol, and number private. Define a getter property for each to return its value."
      ],
      "metadata": {
        "id": "1bNES_RlLEOD"
      }
    },
    {
      "cell_type": "code",
      "source": [
        "class Element(): \n",
        "    def __init__(self ,name,symbol,number):\n",
        "        self.__name = name\n",
        "        self.__symbol = symbol\n",
        "        self.__number = number\n",
        "    @property\n",
        "    def name(self):\n",
        "        return (self.__name)\n",
        "    @property\n",
        "    def symbol(self):\n",
        "        return (self.__symbol)\n",
        "    @property\n",
        "    def number(self):\n",
        "        return (self.__number)"
      ],
      "metadata": {
        "id": "jxIKlJkqLAla"
      },
      "execution_count": 24,
      "outputs": []
    },
    {
      "cell_type": "code",
      "source": [
        "hydrogen = Element('Hydrogen','H',1)\n",
        "hydrogen.name"
      ],
      "metadata": {
        "colab": {
          "base_uri": "https://localhost:8080/",
          "height": 35
        },
        "id": "g_ZNPKH5Ly67",
        "outputId": "9bb3a99c-b825-4ba8-b481-c93ea7a6d45b"
      },
      "execution_count": 25,
      "outputs": [
        {
          "output_type": "execute_result",
          "data": {
            "text/plain": [
              "'Hydrogen'"
            ],
            "application/vnd.google.colaboratory.intrinsic+json": {
              "type": "string"
            }
          },
          "metadata": {},
          "execution_count": 25
        }
      ]
    },
    {
      "cell_type": "markdown",
      "source": [
        "##9. Define three classes: Bear, Rabbit, and Octothorpe. For each, define only one method: eats(). This should return &#39;berries&#39; (Bear), &#39;clover&#39; (Rabbit), or &#39;campers&#39; (Octothorpe). Create one object from each and print what it eats."
      ],
      "metadata": {
        "id": "i1KVwZlDL9A9"
      }
    },
    {
      "cell_type": "code",
      "source": [
        "class Bear:\n",
        "    def eats():\n",
        "        return('berries')\n",
        "\n",
        "class Rabbit:\n",
        "    def eats():\n",
        "        return('clover')\n",
        "\n",
        "class Octothorpe:\n",
        "    def eats():\n",
        "        return('campers')"
      ],
      "metadata": {
        "id": "J9pLbJj0L5Zd"
      },
      "execution_count": 29,
      "outputs": []
    },
    {
      "cell_type": "code",
      "source": [
        "Bear.eats()"
      ],
      "metadata": {
        "colab": {
          "base_uri": "https://localhost:8080/",
          "height": 35
        },
        "id": "aG5ARbpYMUUn",
        "outputId": "6fc2164d-801f-4580-a486-e6fbe6f7ef7b"
      },
      "execution_count": 31,
      "outputs": [
        {
          "output_type": "execute_result",
          "data": {
            "text/plain": [
              "'berries'"
            ],
            "application/vnd.google.colaboratory.intrinsic+json": {
              "type": "string"
            }
          },
          "metadata": {},
          "execution_count": 31
        }
      ]
    },
    {
      "cell_type": "code",
      "source": [
        "Rabbit.eats()"
      ],
      "metadata": {
        "colab": {
          "base_uri": "https://localhost:8080/",
          "height": 35
        },
        "id": "-Fq3CNglNM6E",
        "outputId": "4103287d-a4c3-42fc-928d-39e6ee5e292a"
      },
      "execution_count": 32,
      "outputs": [
        {
          "output_type": "execute_result",
          "data": {
            "text/plain": [
              "'clover'"
            ],
            "application/vnd.google.colaboratory.intrinsic+json": {
              "type": "string"
            }
          },
          "metadata": {},
          "execution_count": 32
        }
      ]
    },
    {
      "cell_type": "code",
      "source": [
        "Octothorpe.eats()"
      ],
      "metadata": {
        "colab": {
          "base_uri": "https://localhost:8080/",
          "height": 35
        },
        "id": "eXMhDvw7NQ1h",
        "outputId": "b89e3b8c-6f0f-477d-e3fb-5783c8d79824"
      },
      "execution_count": 33,
      "outputs": [
        {
          "output_type": "execute_result",
          "data": {
            "text/plain": [
              "'campers'"
            ],
            "application/vnd.google.colaboratory.intrinsic+json": {
              "type": "string"
            }
          },
          "metadata": {},
          "execution_count": 33
        }
      ]
    },
    {
      "cell_type": "markdown",
      "source": [
        "##10. Define these classes: Laser, Claw, and SmartPhone. Each has only one method: does(). This returns &#39;disintegrate&#39; (Laser), &#39;crush&#39; (Claw), or &#39;ring&#39; (SmartPhone). Then, define the class Robot that has one instance (object) of each of these. Define a does() method for the Robot that prints what its component objects do."
      ],
      "metadata": {
        "id": "HpIXiQVYMiw4"
      }
    },
    {
      "cell_type": "code",
      "source": [
        "class Laser:\n",
        "  def does(self):\n",
        "    return 'disintegrate'\n",
        "class Claw:\n",
        "  def does(self):\n",
        "    return 'crush'\n",
        "class SmartPhone:\n",
        "  def does(self):\n",
        "    return 'ring'\n",
        "class Robot:\n",
        "  def __init__(self,):\n",
        "      self.laser = Laser()\n",
        "      self.claw = Claw()\n",
        "      self.smartphone = SmartPhone()\n",
        "  def does(self):\n",
        "     return ('Laser is %s, Claw is %s, SmartPhone is %s' % (self.laser.does(),self.claw.does(),self.smartphone.does()))"
      ],
      "metadata": {
        "id": "GnCjinGrMZXT"
      },
      "execution_count": 40,
      "outputs": []
    },
    {
      "cell_type": "code",
      "source": [
        "robot=Robot()"
      ],
      "metadata": {
        "id": "vU-XZw-eN8KC"
      },
      "execution_count": 41,
      "outputs": []
    },
    {
      "cell_type": "code",
      "source": [
        "robot.does()"
      ],
      "metadata": {
        "colab": {
          "base_uri": "https://localhost:8080/",
          "height": 35
        },
        "id": "_D59l322ODjM",
        "outputId": "1b12fbc4-f902-43f5-c0ea-dfc0af25bcaa"
      },
      "execution_count": 42,
      "outputs": [
        {
          "output_type": "execute_result",
          "data": {
            "text/plain": [
              "'Laser is disintegrate, Claw is crush, SmartPhone is ring'"
            ],
            "application/vnd.google.colaboratory.intrinsic+json": {
              "type": "string"
            }
          },
          "metadata": {},
          "execution_count": 42
        }
      ]
    }
  ]
}