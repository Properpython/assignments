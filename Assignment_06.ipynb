{
  "nbformat": 4,
  "nbformat_minor": 0,
  "metadata": {
    "colab": {
      "provenance": []
    },
    "kernelspec": {
      "name": "python3",
      "display_name": "Python 3"
    },
    "language_info": {
      "name": "python"
    }
  },
  "cells": [
    {
      "cell_type": "markdown",
      "source": [
        "##Q1. Describe three applications for exception processing."
      ],
      "metadata": {
        "id": "cNucl1B9kC26"
      }
    },
    {
      "cell_type": "markdown",
      "source": [
        "###Error Handling:\n",
        "\n",
        "One of the primary applications of exception processing is error handling. In any program, unexpected events or errors can occur during execution, such as division by zero, file not found, or invalid user input. Instead of letting these errors crash the program or lead to undefined behavior, you can use exception handling to catch and handle these errors gracefully.\n",
        "\n",
        "\n",
        "###Resource Management:\n",
        "\n",
        "Exception processing is also valuable for resource management, especially when dealing with external resources like files, network connections, databases, or hardware devices. In such cases, it's essential to ensure proper cleanup and release of resources, even if an exception occurs during the process.\n",
        "\n",
        "###Input Validation:\n",
        "\n",
        "Exception processing is crucial for input validation and error checking when interacting with users or external data sources. When processing user input, you need to validate the data to ensure it meets certain criteria or constraints.\n",
        "\n",
        "By using try-except blocks, you can handle incorrect input or input that violates certain conditions gracefully."
      ],
      "metadata": {
        "id": "F4N9IQwpkXdM"
      }
    },
    {
      "cell_type": "markdown",
      "source": [
        "##Q2. What happens if you don&#39;t do something extra to treat an exception?"
      ],
      "metadata": {
        "id": "YkO5SaURkySb"
      }
    },
    {
      "cell_type": "markdown",
      "source": [
        "If you don't do something extra to treat an exception (i.e., you don't handle the exception using exception handling mechanisms), the program will raise an unhandled exception, leading to abnormal termination of the program's execution.\n",
        "\n",
        "When an exception occurs, Python's default behavior is to stop the normal execution flow and display an error traceback. The traceback provides information about the type of exception, the line number where the exception occurred, and the call stack, which includes the sequence of function calls leading to the exception."
      ],
      "metadata": {
        "id": "BuTgwxh6k87b"
      }
    },
    {
      "cell_type": "markdown",
      "source": [
        "##Q3. What are your options for recovering from an exception in your script?"
      ],
      "metadata": {
        "id": "_tdLCIu5lNuC"
      }
    },
    {
      "cell_type": "markdown",
      "source": [
        "In Python, you can recover from an exception using the following techniques:\n",
        "\n",
        "###Using a try-except block:\n",
        "\n",
        "The try-except block allows you to enclose the potentially problematic code within the try block, and then specify how to handle the exception in the except block.\n",
        "\n",
        "###Using a try-except-else block:\n",
        "The try-except-else block extends the try-except block by providing an else block that is executed if no exception occurs.\n",
        "\n",
        "This can be useful when you want to execute some code only when there is no exception."
      ],
      "metadata": {
        "id": "xY8aUxAolZ7K"
      }
    },
    {
      "cell_type": "markdown",
      "source": [
        "##Q4. Describe two methods for triggering exceptions in your script."
      ],
      "metadata": {
        "id": "u8JE7Hb_lnWT"
      }
    },
    {
      "cell_type": "markdown",
      "source": [
        "you can trigger exceptions in your script intentionally using two main methods:\n",
        "\n",
        "###Using the raise statement:\n",
        "\n",
        "The raise statement is used to intentionally raise an exception in your script. It allows you to specify the type of exception and an optional error message or context. You can raise built-in exceptions like ValueError, TypeError, NameError, or create your own custom exception classes.\n",
        "\n",
        "###Using built-in functions that raise exceptions:\n",
        "\n",
        "int() and float(): These functions raise a ValueError if the input cannot be converted to an integer or float, respectively.\n",
        "\n",
        "open(): The open() function for file handling raises a FileNotFoundError if the file does not exist (with specific flags).\n",
        "\n",
        "assert: The assert statement raises an AssertionError if the given condition is False."
      ],
      "metadata": {
        "id": "oeNwUVoTl2zT"
      }
    },
    {
      "cell_type": "markdown",
      "source": [
        "##Q5. Identify two methods for specifying actions to be executed at termination time, regardless of whether or not an exception exists."
      ],
      "metadata": {
        "id": "v9qJu4wwmMq0"
      }
    },
    {
      "cell_type": "markdown",
      "source": [
        "###Using the finally block:\n",
        "\n",
        "The finally block is a part of the try-except-finally statement. It allows you to define a set of statements that will always be executed, regardless of whether an exception was raised or not. This is useful for cleanup operations, releasing resources, or any actions that should occur irrespective of the outcome of the try block.\n",
        "\n",
        "###Using the atexit module:\n",
        "The atexit module provides a way to register functions that will be called automatically when the Python interpreter terminates, either normally or due to an unhandled exception. These functions can be used for cleanup tasks, finalizing state, or logging final status."
      ],
      "metadata": {
        "id": "Ad2Iw3dbmazc"
      }
    },
    {
      "cell_type": "code",
      "execution_count": null,
      "metadata": {
        "id": "Gy0Au67-kAWm"
      },
      "outputs": [],
      "source": []
    }
  ]
}