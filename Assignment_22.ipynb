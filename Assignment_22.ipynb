{
  "nbformat": 4,
  "nbformat_minor": 0,
  "metadata": {
    "colab": {
      "provenance": []
    },
    "kernelspec": {
      "name": "python3",
      "display_name": "Python 3"
    },
    "language_info": {
      "name": "python"
    }
  },
  "cells": [
    {
      "cell_type": "markdown",
      "source": [
        "##1. What is the result of the code, and explain?\n",
        "\n",
        "&gt;&gt;&gt; X = &#39;iNeuron&#39;\n",
        "\n",
        "&gt;&gt;&gt; def func():\n",
        "\n",
        "print(X)\n",
        "\n",
        "&gt;&gt;&gt; func()"
      ],
      "metadata": {
        "id": "y4BMYpo7fvxF"
      }
    },
    {
      "cell_type": "code",
      "execution_count": 2,
      "metadata": {
        "colab": {
          "base_uri": "https://localhost:8080/"
        },
        "id": "Wq9nUIFpfqoz",
        "outputId": "c09f9e5d-3aa3-45d7-96c0-c748d2645652"
      },
      "outputs": [
        {
          "output_type": "stream",
          "name": "stdout",
          "text": [
            "iNeuron\n"
          ]
        }
      ],
      "source": [
        "X = 'iNeuron'\n",
        "def func():\n",
        "  print(X)\n",
        "func()"
      ]
    },
    {
      "cell_type": "markdown",
      "source": [
        "The global variables are accessible inside the functions in python. But we can not access function variable out side the function. \n",
        "\n",
        "Since x is golbal variable we are able to print it inside the function\n"
      ],
      "metadata": {
        "id": "qahqcWCBgYM6"
      }
    },
    {
      "cell_type": "markdown",
      "source": [
        "##2. What is the result of the code, and explain?\n",
        "\n",
        "&gt;&gt;&gt; X = &#39;iNeuron&#39;\n",
        "\n",
        "&gt;&gt;&gt; def func():\n",
        "\n",
        "X = &#39;NI!&#39;\n",
        "\n",
        "&gt;&gt;&gt; func()\n",
        "\n",
        "&gt;&gt;&gt; print(X)"
      ],
      "metadata": {
        "id": "ETSVhL8jgmgd"
      }
    },
    {
      "cell_type": "code",
      "source": [
        "X = 'iNeuron'\n",
        "def func():\n",
        "    X = 'NI!'\n",
        "\n",
        "func()\n",
        "print(X)"
      ],
      "metadata": {
        "colab": {
          "base_uri": "https://localhost:8080/"
        },
        "id": "jl6KTQIrf8RC",
        "outputId": "f33709c1-1b86-43a3-be89-46c051af8925"
      },
      "execution_count": 3,
      "outputs": [
        {
          "output_type": "stream",
          "name": "stdout",
          "text": [
            "iNeuron\n"
          ]
        }
      ]
    },
    {
      "cell_type": "markdown",
      "source": [
        "we are trying to change the X value inside the function but it is not possible as X is a global variable\n",
        "Since x is golbal variable we are able to print it out side of the function\n"
      ],
      "metadata": {
        "id": "aPOmA8YCgzT7"
      }
    },
    {
      "cell_type": "markdown",
      "source": [
        "##3. What does this code print, and why?\n",
        "\n",
        "&gt;&gt;&gt; X = &#39;iNeuron&#39;\n",
        "\n",
        "&gt;&gt;&gt; def func():\n",
        "\n",
        "X = &#39;NI&#39;\n",
        "\n",
        "print(X)\n",
        "\n",
        "&gt;&gt;&gt; func()\n",
        "\n",
        "&gt;&gt;&gt; print(X)"
      ],
      "metadata": {
        "id": "PC2L9QnvhPA2"
      }
    },
    {
      "cell_type": "code",
      "source": [
        "X = 'iNeuron'\n",
        "def func():\n",
        "    X = 'NI!'\n",
        "    print(X)\n",
        "\n",
        "func()\n",
        "print(X)"
      ],
      "metadata": {
        "colab": {
          "base_uri": "https://localhost:8080/"
        },
        "id": "GPhkDszFguVp",
        "outputId": "76891c84-1c2f-4a6e-daa9-df479cc0a5fa"
      },
      "execution_count": 4,
      "outputs": [
        {
          "output_type": "stream",
          "name": "stdout",
          "text": [
            "NI!\n",
            "iNeuron\n"
          ]
        }
      ]
    },
    {
      "cell_type": "markdown",
      "source": [
        "here the interpreter treating the X[NI] variable inside the function as local variable and treating X[iNeuron] as global variable "
      ],
      "metadata": {
        "id": "rMpISmjghqZ1"
      }
    },
    {
      "cell_type": "markdown",
      "source": [
        "##4. What output does this code produce? Why?\n",
        "\n",
        "&gt;&gt;&gt; X = &#39;iNeuron&#39;\n",
        "\n",
        "&gt;&gt;&gt; def func():\n",
        "\n",
        "global X\n",
        "\n",
        "X = &#39;NI&#39;\n",
        "\n",
        "&gt;&gt;&gt; func()\n",
        "\n",
        "&gt;&gt;&gt; print(X)"
      ],
      "metadata": {
        "id": "tvqBaqZmiJnh"
      }
    },
    {
      "cell_type": "code",
      "source": [
        "X = 'iNeuron'\n",
        "def func():\n",
        "    global X\n",
        "    X = 'NI!'\n",
        "    print(X)\n",
        "\n",
        "func()\n",
        "print(X)"
      ],
      "metadata": {
        "colab": {
          "base_uri": "https://localhost:8080/"
        },
        "id": "jmlXxD2MhcBU",
        "outputId": "f26aaa1c-978a-40f4-be7e-870dfc51d332"
      },
      "execution_count": 5,
      "outputs": [
        {
          "output_type": "stream",
          "name": "stdout",
          "text": [
            "NI!\n",
            "NI!\n"
          ]
        }
      ]
    },
    {
      "cell_type": "markdown",
      "source": [
        "since the X inside function is declared as  Global, it will be accesible out side of the function too. now X will have new value."
      ],
      "metadata": {
        "id": "dliz5YNkiVCl"
      }
    },
    {
      "cell_type": "markdown",
      "source": [
        "##5. What about this code—what’s the output, and why?\n",
        "\n",
        "&gt;&gt;&gt; X = &#39;iNeuron&#39;\n",
        "\n",
        "&gt;&gt;&gt; def func():\n",
        "\n",
        "X = &#39;NI&#39;\n",
        "\n",
        "def nested():\n",
        "\n",
        "print(X)\n",
        "\n",
        "nested()\n",
        "\n",
        "&gt;&gt;&gt; func()\n",
        "\n",
        "&gt;&gt;&gt; X"
      ],
      "metadata": {
        "id": "WclR7E8Pin7Z"
      }
    },
    {
      "cell_type": "code",
      "source": [
        "X = 'iNeuron'\n",
        "def func():\n",
        "    X = 'NI'\n",
        "def nested():\n",
        "    print(X)\n",
        "    \n",
        "nested()\n",
        "func()\n",
        "X"
      ],
      "metadata": {
        "colab": {
          "base_uri": "https://localhost:8080/",
          "height": 52
        },
        "id": "0kidAocLiStD",
        "outputId": "77cdccbc-caa2-4578-a221-3243e88bec2a"
      },
      "execution_count": 6,
      "outputs": [
        {
          "output_type": "stream",
          "name": "stdout",
          "text": [
            "iNeuron\n"
          ]
        },
        {
          "output_type": "execute_result",
          "data": {
            "text/plain": [
              "'iNeuron'"
            ],
            "application/vnd.google.colaboratory.intrinsic+json": {
              "type": "string"
            }
          },
          "metadata": {},
          "execution_count": 6
        }
      ]
    },
    {
      "cell_type": "markdown",
      "source": [
        "the nested() function will print 'iNeuron', Then func() does not display anything as X ='NI' is not accessible out \n",
        "side the function."
      ],
      "metadata": {
        "id": "IfOm78H7i_a_"
      }
    },
    {
      "cell_type": "markdown",
      "source": [
        "##6. How about this code: what is its output in Python 3, and explain?\n",
        "\n",
        "&gt;&gt;&gt; def func():\n",
        "\n",
        "X = &#39;NI&#39;\n",
        "\n",
        "def nested():\n",
        "\n",
        "nonlocal X\n",
        "\n",
        "X = &#39;Spam&#39;\n",
        "\n",
        "nested()\n",
        "\n",
        "print(X)\n",
        "\n",
        "&gt;&gt;&gt; func()"
      ],
      "metadata": {
        "id": "IjCWdSJ6jGYs"
      }
    },
    {
      "cell_type": "code",
      "source": [
        "def func():\n",
        "    X = 'NI'\n",
        "    def nested():\n",
        "        nonlocal X\n",
        "        X = 'spam'\n",
        "    nested()\n",
        "    print(X)\n",
        "\n",
        "func()"
      ],
      "metadata": {
        "colab": {
          "base_uri": "https://localhost:8080/"
        },
        "id": "r5sj8mjKi1pk",
        "outputId": "595ecca5-51f0-4eea-8ddd-b535f61fee3b"
      },
      "execution_count": 7,
      "outputs": [
        {
          "output_type": "stream",
          "name": "stdout",
          "text": [
            "spam\n"
          ]
        }
      ]
    },
    {
      "cell_type": "markdown",
      "source": [
        "Nonlocal variables are used in nested functions whose local scope is not defined. \n",
        "This means that the variable can be neither in the local nor the global scope. it print the updated value from nested \n",
        "function"
      ],
      "metadata": {
        "id": "n5mS6XIqjWE6"
      }
    }
  ]
}