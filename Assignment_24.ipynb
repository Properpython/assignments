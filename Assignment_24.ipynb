{
  "nbformat": 4,
  "nbformat_minor": 0,
  "metadata": {
    "colab": {
      "provenance": []
    },
    "kernelspec": {
      "name": "python3",
      "display_name": "Python 3"
    },
    "language_info": {
      "name": "python"
    }
  },
  "cells": [
    {
      "cell_type": "markdown",
      "source": [
        "##1. What is the relationship between def statements and lambda expressions ?\n",
        "\n"
      ],
      "metadata": {
        "id": "Ibx0Oig5_Hy7"
      }
    },
    {
      "cell_type": "markdown",
      "source": [
        "Def can hold multiple expressions while lambda is a uni-expression function. Def generates a function and designates a name to call it later. Lambda forms a function object and returns it."
      ],
      "metadata": {
        "id": "ZnqmLhW1CV69"
      }
    },
    {
      "cell_type": "markdown",
      "source": [
        "##2. What is the benefit of lambda?"
      ],
      "metadata": {
        "id": "xwrbdRCOCab8"
      }
    },
    {
      "cell_type": "markdown",
      "source": [
        "It provides an effective way to filter out all elements of the sequence. It returns the new sequence in which the function evaluates to True."
      ],
      "metadata": {
        "id": "LdykaQjoC0BD"
      }
    },
    {
      "cell_type": "markdown",
      "source": [
        "##3. Compare and contrast map, filter, and reduce."
      ],
      "metadata": {
        "id": "7NOuZqbDC2b0"
      }
    },
    {
      "cell_type": "markdown",
      "source": [
        "map creates a new array by transforming every element in an array, individually.\n",
        "\n",
        " filter creates a new array by removing elements that don't belong. \n",
        " \n",
        " reduce, on the other hand, takes all of the elements in an array and reduces them into a single value."
      ],
      "metadata": {
        "id": "g1P1wve2C_2b"
      }
    },
    {
      "cell_type": "markdown",
      "source": [
        "##4. What are function annotations, and how are they used?"
      ],
      "metadata": {
        "id": "q3NIATJEDKli"
      }
    },
    {
      "cell_type": "markdown",
      "source": [
        "Function annotations can provide static type checking when used with the external library, ‘mypy’. They make the code more readable by specifying the type for input arguments as well as the return value of the function. "
      ],
      "metadata": {
        "id": "s5vTfoODDSX6"
      }
    },
    {
      "cell_type": "markdown",
      "source": [
        "##5. What are recursive functions, and how are they used?"
      ],
      "metadata": {
        "id": "uwxIGyfPDgOz"
      }
    },
    {
      "cell_type": "markdown",
      "source": [
        "Recursive Function is a function that repeats or uses its own previous term to calculate subsequent terms and thus forms a sequence of terms"
      ],
      "metadata": {
        "id": "Wxz-3NcNDpOz"
      }
    },
    {
      "cell_type": "markdown",
      "source": [
        "##6. What are some general design guidelines for coding functions?"
      ],
      "metadata": {
        "id": "0ZusjgAaDtS8"
      }
    },
    {
      "cell_type": "markdown",
      "source": [
        "* Limited use of globals\n",
        "* Standard headers for different modules\n",
        "* Indentation\n",
        "* Error return values and exception handling conventions\n",
        "* Code should be well documented"
      ],
      "metadata": {
        "id": "M6KeQ7-YD4qD"
      }
    },
    {
      "cell_type": "markdown",
      "source": [
        "##7. Name three or more ways that functions can communicate results to a caller."
      ],
      "metadata": {
        "id": "DMfkGyY0EWtG"
      }
    },
    {
      "cell_type": "markdown",
      "source": [
        " functions can communicate results to a caller Functions\n",
        "\n",
        " can send back results with return statements. \n",
        "  \n",
        "  by changing passed-in mutable arguments.\n",
        "  \n",
        "   by setting global variables."
      ],
      "metadata": {
        "id": "bsGd1auNEjxC"
      }
    }
  ]
}